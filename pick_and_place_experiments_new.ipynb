{
 "cells": [
  {
   "cell_type": "code",
   "execution_count": 1,
   "metadata": {},
   "outputs": [],
   "source": [
    "import jupyros as jr\n",
    "import rospy\n",
    "import numpy as np\n",
    "from sensor_msgs import msg\n",
    "import cv2\n",
    "import cv_bridge\n",
    "from copy import deepcopy\n",
    "import ipywidgets as widgets\n",
    "from IPython.display import clear_output, Image, display\n",
    "import PIL.Image\n",
    "from cStringIO import StringIO\n",
    "import matplotlib.pyplot as plt\n",
    "import dvrk\n",
    "import PyKDL\n",
    "import tf\n",
    "from tf_conversions import posemath\n",
    "import time\n",
    "\n",
    "from __future__ import print_function\n",
    "from ipywidgets import interact, interactive, fixed, interact_manual\n",
    "import ipywidgets as widgets"
   ]
  },
  {
   "cell_type": "code",
   "execution_count": 2,
   "metadata": {},
   "outputs": [],
   "source": [
    "rospy.init_node('notebook')"
   ]
  },
  {
   "cell_type": "code",
   "execution_count": 3,
   "metadata": {},
   "outputs": [
    {
     "data": {
      "text/plain": [
       "[['/dvrk/setup_joint/robot_state', 'std_msgs/String'],\n",
       " ['/dvrk/PSM1/current_state', 'std_msgs/String'],\n",
       " ['/dvrk/ECM/wrench_body_current', 'geometry_msgs/WrenchStamped'],\n",
       " ['/stereo/right/image_flipped', 'sensor_msgs/Image'],\n",
       " ['/dvrk/PSM3/goal_reached', 'std_msgs/Bool'],\n",
       " ['/dvrk/PSM2/position_cartesian_local_current', 'geometry_msgs/PoseStamped'],\n",
       " ['/dvrk/SUJ/ECM/position_cartesian_local_current',\n",
       "  'geometry_msgs/PoseStamped'],\n",
       " ['/dvrk/SUJ/PSM2/position_cartesian_current', 'geometry_msgs/PoseStamped'],\n",
       " ['/dvrk/PSM3/state_joint_current', 'sensor_msgs/JointState'],\n",
       " ['/dvrk/console/teleop/teleop_psm_selected', 'diagnostic_msgs/KeyValue'],\n",
       " ['/dvrk/PSM2/joint_velocity_ratio', 'std_msgs/Float64'],\n",
       " ['/dvrk/PSM3/current_state', 'std_msgs/String'],\n",
       " ['/dvrk/PSM3/manip_clutch', 'std_msgs/Bool'],\n",
       " ['/dvrk/PSM3/position_cartesian_current', 'geometry_msgs/PoseStamped'],\n",
       " ['/dvrk/ECM/state_joint_desired', 'sensor_msgs/JointState'],\n",
       " ['/dvrk/console/teleop/teleop_psm_unselected', 'diagnostic_msgs/KeyValue'],\n",
       " ['/dvrk/PSM2/position_cartesian_desired', 'geometry_msgs/PoseStamped'],\n",
       " ['/dvrk/ECM/position_cartesian_local_current', 'geometry_msgs/PoseStamped'],\n",
       " ['/dvrk/PSM1/status', 'std_msgs/String'],\n",
       " ['/tf', 'tf2_msgs/TFMessage'],\n",
       " ['/dvrk/tf_broadcast/period_statistics', 'cisst_msgs/mtsIntervalStatistics'],\n",
       " ['/dvrk/PSM1/joint_velocity_ratio', 'std_msgs/Float64'],\n",
       " ['/dvrk/PSM1/desired_state', 'std_msgs/String'],\n",
       " ['/dvrk/PSM3/state_jaw_desired', 'sensor_msgs/JointState'],\n",
       " ['/dvrk/SUJ/PSM3/position_cartesian_local_current',\n",
       "  'geometry_msgs/PoseStamped'],\n",
       " ['/dvrk/ECM/position_cartesian_current', 'geometry_msgs/PoseStamped'],\n",
       " ['/dvrk/SUJ/PSM1/position_cartesian_local_current',\n",
       "  'geometry_msgs/PoseStamped'],\n",
       " ['/dvrk/PSM1/position_cartesian_local_desired', 'geometry_msgs/PoseStamped'],\n",
       " ['/dvrk/PSM2/position_cartesian_local_desired', 'geometry_msgs/PoseStamped'],\n",
       " ['/clicked_point', 'geometry_msgs/PointStamped'],\n",
       " ['/dvrk/PSM1/wrench_body_current', 'geometry_msgs/WrenchStamped'],\n",
       " ['/dvrk/PSM2/robot_state', 'std_msgs/String'],\n",
       " ['/dvrk/SUJ/ECM/position_cartesian_current', 'geometry_msgs/PoseStamped'],\n",
       " ['/dvrk/PSM1/state_jaw_current', 'sensor_msgs/JointState'],\n",
       " ['/dvrk/setup_joint/state_joint_current', 'sensor_msgs/JointState'],\n",
       " ['/dvrk/PSM1/jacobian_body', 'std_msgs/Float64MultiArray'],\n",
       " ['/dvrk/ECM/joint_velocity_ratio', 'std_msgs/Float64'],\n",
       " ['/dvrk/PSM2/current_state', 'std_msgs/String'],\n",
       " ['/dvrk/PSM1/error', 'std_msgs/String'],\n",
       " ['/dvrk/PSM1/twist_body_current', 'geometry_msgs/TwistStamped'],\n",
       " ['/stereo/left/image_raw', 'sensor_msgs/Image'],\n",
       " ['/dvrk/PSM3/jacobian_spatial', 'std_msgs/Float64MultiArray'],\n",
       " ['/dvrk/ECM/manip_clutch', 'sensor_msgs/Joy'],\n",
       " ['/dvrk/PSM2/desired_state', 'std_msgs/String'],\n",
       " ['/dvrk/PSM3/position_cartesian_local_desired', 'geometry_msgs/PoseStamped'],\n",
       " ['/dvrk/SUJ/PSM2/position_cartesian_local_current',\n",
       "  'geometry_msgs/PoseStamped'],\n",
       " ['/dvrk/PSM3/jacobian_body', 'std_msgs/Float64MultiArray'],\n",
       " ['/dvrk/ECM/joint_states', 'sensor_msgs/JointState'],\n",
       " ['/stereo/left/camera_info', 'sensor_msgs/CameraInfo'],\n",
       " ['/dvrk/ECM/twist_body_current', 'geometry_msgs/TwistStamped'],\n",
       " ['/dvrk/SUJ/PSM1/state_joint_current', 'sensor_msgs/JointState'],\n",
       " ['/dvrk/PSM2/manip_clutch', 'std_msgs/Bool'],\n",
       " ['/dvrk/PSM2/error', 'std_msgs/String'],\n",
       " ['/dvrk/ECM/position_cartesian_desired', 'geometry_msgs/PoseStamped'],\n",
       " ['/stereo/right/camera_info', 'sensor_msgs/CameraInfo'],\n",
       " ['/dvrk/PSM2/wrench_body_current', 'geometry_msgs/WrenchStamped'],\n",
       " ['/dvrk/PSM3/state_jaw_current', 'sensor_msgs/JointState'],\n",
       " ['/dvrk/PSM3/joint_acceleration_ratio', 'std_msgs/Float64'],\n",
       " ['/dvrk/PSM2/state_jaw_current', 'sensor_msgs/JointState'],\n",
       " ['/dvrk/PSM3/desired_state', 'std_msgs/String'],\n",
       " ['/dvrk/PSM1/manip_clutch', 'std_msgs/Bool'],\n",
       " ['/dvrk/PSM1/state_joint_desired', 'sensor_msgs/JointState'],\n",
       " ['/dvrk/PSM1/position_cartesian_desired', 'geometry_msgs/PoseStamped'],\n",
       " ['/tf_static', 'tf2_msgs/TFMessage'],\n",
       " ['/dvrk/PSM2/jacobian_spatial', 'std_msgs/Float64MultiArray'],\n",
       " ['/dvrk/spin/period_statistics', 'cisst_msgs/mtsIntervalStatistics'],\n",
       " ['/dvrk/ECM/state_joint_current', 'sensor_msgs/JointState'],\n",
       " ['/dvrk/PSM3/twist_body_current', 'geometry_msgs/TwistStamped'],\n",
       " ['/rosout', 'rosgraph_msgs/Log'],\n",
       " ['/dvrk/PSM2/warning', 'std_msgs/String'],\n",
       " ['/dvrk/PSM3/position_cartesian_desired', 'geometry_msgs/PoseStamped'],\n",
       " ['/dvrk/PSM2/goal_reached', 'std_msgs/Bool'],\n",
       " ['/dvrk/PSM2/joint_acceleration_ratio', 'std_msgs/Float64'],\n",
       " ['/dvrk/PSM2/jacobian_body', 'std_msgs/Float64MultiArray'],\n",
       " ['/dvrk/PSM2/status', 'std_msgs/String'],\n",
       " ['/dvrk/PSM3/status', 'std_msgs/String'],\n",
       " ['/dvrk/ECM/joint_acceleration_ratio', 'std_msgs/Float64'],\n",
       " ['/dvrk/PSM2/state_joint_current', 'sensor_msgs/JointState'],\n",
       " ['/dvrk/PSM1/goal_reached', 'std_msgs/Bool'],\n",
       " ['/dvrk/ECM/position_cartesian_local_desired', 'geometry_msgs/PoseStamped'],\n",
       " ['/dvrk/PSM2/joint_states', 'sensor_msgs/JointState'],\n",
       " ['/dvrk/PSM1/state_joint_current', 'sensor_msgs/JointState'],\n",
       " ['/dvrk/SUJ/PSM3/state_joint_current', 'sensor_msgs/JointState'],\n",
       " ['/dvrk/PSM1/jacobian_spatial', 'std_msgs/Float64MultiArray'],\n",
       " ['/rosout_agg', 'rosgraph_msgs/Log'],\n",
       " ['/dvrk/PSM2/state_joint_desired', 'sensor_msgs/JointState'],\n",
       " ['/dvrk/SUJ/PSM2/state_joint_current', 'sensor_msgs/JointState'],\n",
       " ['/dvrk/PSM3/state_joint_desired', 'sensor_msgs/JointState'],\n",
       " ['/dvrk/PSM1/joint_acceleration_ratio', 'std_msgs/Float64'],\n",
       " ['/dvrk/SUJ/PSM1/position_cartesian_current', 'geometry_msgs/PoseStamped'],\n",
       " ['/dvrk/ECM/desired_state', 'std_msgs/String'],\n",
       " ['/dvrk/PSM3/error', 'std_msgs/String'],\n",
       " ['/dvrk/PSM2/state_jaw_desired', 'sensor_msgs/JointState'],\n",
       " ['/dvrk/PSM1/position_cartesian_local_current', 'geometry_msgs/PoseStamped'],\n",
       " ['/dvrk/ECM/warning', 'std_msgs/String'],\n",
       " ['/dvrk/ECM/jacobian_spatial', 'std_msgs/Float64MultiArray'],\n",
       " ['/dvrk/ECM/goal_reached', 'std_msgs/Bool'],\n",
       " ['/dvrk/PSM3/wrench_body_current', 'geometry_msgs/WrenchStamped'],\n",
       " ['/dvrk/ECM/status', 'std_msgs/String'],\n",
       " ['/dvrk/ECM/current_state', 'std_msgs/String'],\n",
       " ['/dvrk/PSM3/joint_velocity_ratio', 'std_msgs/Float64'],\n",
       " ['/dvrk/publishers/period_statistics', 'cisst_msgs/mtsIntervalStatistics'],\n",
       " ['/dvrk/PSM1/warning', 'std_msgs/String'],\n",
       " ['/initialpose', 'geometry_msgs/PoseWithCovarianceStamped'],\n",
       " ['/move_base_simple/goal', 'geometry_msgs/PoseStamped'],\n",
       " ['/dvrk/ECM/error', 'std_msgs/String'],\n",
       " ['/dvrk/console/teleop/scale', 'std_msgs/Float32'],\n",
       " ['/dvrk/PSM1/joint_states', 'sensor_msgs/JointState'],\n",
       " ['/dvrk/PSM1/position_cartesian_current', 'geometry_msgs/PoseStamped'],\n",
       " ['/stereo/right/image_raw', 'sensor_msgs/Image'],\n",
       " ['/dvrk/PSM3/warning', 'std_msgs/String'],\n",
       " ['/dvrk/PSM3/position_cartesian_local_current', 'geometry_msgs/PoseStamped'],\n",
       " ['/dvrk/SUJ/PSM3/position_cartesian_current', 'geometry_msgs/PoseStamped'],\n",
       " ['/dvrk/SUJ/ECM/state_joint_current', 'sensor_msgs/JointState'],\n",
       " ['/stereo/left/image_flipped', 'sensor_msgs/Image'],\n",
       " ['/dvrk/ECM/jacobian_body', 'std_msgs/Float64MultiArray'],\n",
       " ['/dvrk/PSM1/state_jaw_desired', 'sensor_msgs/JointState'],\n",
       " ['/dvrk/PSM2/twist_body_current', 'geometry_msgs/TwistStamped'],\n",
       " ['/dvrk/PSM2/position_cartesian_current', 'geometry_msgs/PoseStamped']]"
      ]
     },
     "execution_count": 3,
     "metadata": {},
     "output_type": "execute_result"
    }
   ],
   "source": [
    "rospy.get_published_topics()"
   ]
  },
  {
   "cell_type": "code",
   "execution_count": 4,
   "metadata": {},
   "outputs": [
    {
     "data": {
      "application/vnd.jupyter.widget-view+json": {
       "model_id": "11c73a1e1a5e4dbf891e6269f6620744",
       "version_major": 2,
       "version_minor": 0
      },
      "text/plain": [
       "VkJveChjaGlsZHJlbj0oSEJveChjaGlsZHJlbj0oQnV0dG9uKGRlc2NyaXB0aW9uPXUnU3RvcCcsIHN0eWxlPUJ1dHRvblN0eWxlKCkpLCkpLCBPdXRwdXQobGF5b3V0PUxheW91dChib3JkZXLigKY=\n"
      ]
     },
     "metadata": {},
     "output_type": "display_data"
    }
   ],
   "source": [
    "bridge = cv_bridge.CvBridge()\n",
    "left_image = None\n",
    "left_image_msg = None\n",
    "left_camera_info = None\n",
    "\n",
    "right_image = None\n",
    "right_image_msg = None\n",
    "right_camera_info = None\n",
    "\n",
    "def left_image_callback(im_msg):\n",
    "    global left_image, left_image_msg\n",
    "    left_image = bridge.imgmsg_to_cv2(im_msg, desired_encoding='rgb8')\n",
    "    left_image_msg = im_msg\n",
    "    \n",
    "def right_image_callback(im_msg):\n",
    "    global right_image, right_image_msg\n",
    "    right_image = bridge.imgmsg_to_cv2(im_msg, desired_encoding='rgb8')\n",
    "    right_image_msg = im_msg\n",
    "    \n",
    "def left_camera_info_callback(camera_info_msg):\n",
    "    global left_camera_info\n",
    "    left_camera_info = camera_info_msg\n",
    "    \n",
    "def right_camera_info_callback(camera_info_msg):\n",
    "    global right_camera_info\n",
    "    right_camera_info = camera_info_msg\n",
    "    \n",
    "jr.subscribe('/stereo/left/image_flipped', msg.Image, left_image_callback)\n",
    "jr.subscribe('/stereo/left/camera_info', msg.CameraInfo, left_camera_info_callback)\n",
    "jr.subscribe('/stereo/right/image_flipped', msg.Image, right_image_callback)\n",
    "jr.subscribe('/stereo/right/camera_info', msg.CameraInfo, right_camera_info_callback)\n",
    "\n",
    "# while left_image is None or right_image is None:\n",
    "#     print(\"left or right image not receieved\")\n",
    "#     time.sleep(0.5)"
   ]
  },
  {
   "cell_type": "code",
   "execution_count": 5,
   "metadata": {},
   "outputs": [
    {
     "data": {
      "text/plain": [
       "<matplotlib.image.AxesImage at 0x7fc75560a090>"
      ]
     },
     "execution_count": 5,
     "metadata": {},
     "output_type": "execute_result"
    },
    {
     "data": {
      "image/png": "[encoded data removed]",
      "text/plain": [
       "<Figure size 432x288 with 1 Axes>"
      ]
     },
     "metadata": {
      "needs_background": "light"
     },
     "output_type": "display_data"
    }
   ],
   "source": [
    "plt.imshow(left_image)"
   ]
  },
  {
   "cell_type": "code",
   "execution_count": 6,
   "metadata": {},
   "outputs": [
    {
     "data": {
      "text/plain": [
       "<matplotlib.image.AxesImage at 0x7fc75550f690>"
      ]
     },
     "execution_count": 6,
     "metadata": {},
     "output_type": "execute_result"
    },
    {
     "data": {
      "image/png": "[encoded data removed]",
      "text/plain": [
       "<Figure size 432x288 with 1 Axes>"
      ]
     },
     "metadata": {
      "needs_background": "light"
     },
     "output_type": "display_data"
    }
   ],
   "source": [
    "plt.imshow(right_image)"
   ]
  },
  {
   "cell_type": "code",
   "execution_count": 7,
   "metadata": {},
   "outputs": [
    {
     "name": "stdout",
     "output_type": "stream",
     "text": [
      "LEFT CAM\n",
      "header: \n",
      "  seq: 34993\n",
      "  stamp: \n",
      "    secs: 1619809960\n",
      "    nsecs: 774813652\n",
      "  frame_id: \"left_camera\"\n",
      "height: 288\n",
      "width: 360\n",
      "distortion_model: \"plumb_bob\"\n",
      "D: [0.0, 0.0, 0.0, 0.0, 0.0]\n",
      "K: [311.9603517065951, 0.0, 180.0, 0.0, 311.9603517065951, 144.0, 0.0, 0.0, 1.0]\n",
      "R: [1.0, 0.0, 0.0, 0.0, 1.0, 0.0, 0.0, 0.0, 1.0]\n",
      "P: [311.9603517065951, 0.0, 180.0, 0.0, 0.0, 311.9603517065951, 144.0, 0.0, 0.0, 0.0, 1.0, 0.0]\n",
      "binning_x: 1\n",
      "binning_y: 1\n",
      "roi: \n",
      "  x_offset: 0\n",
      "  y_offset: 0\n",
      "  height: 0\n",
      "  width: 0\n",
      "  do_rectify: True\n",
      "RIGHT_CAM\n",
      "header: \n",
      "  seq: 34993\n",
      "  stamp: \n",
      "    secs: 1619809960\n",
      "    nsecs: 774813652\n",
      "  frame_id: \"right_camera\"\n",
      "height: 288\n",
      "width: 360\n",
      "distortion_model: \"plumb_bob\"\n",
      "D: [0.0, 0.0, 0.0, 0.0, 0.0]\n",
      "K: [311.9603517065951, 0.0, 180.0, 0.0, 311.9603517065951, 144.0, 0.0, 0.0, 1.0]\n",
      "R: [1.0, 0.0, 0.0, 0.0, 1.0, 0.0, 0.0, 0.0, 1.0]\n",
      "P: [311.9603517065951, 0.0, 180.0, -1.5598017585329753, 0.0, 311.9603517065951, 144.0, 0.0, 0.0, 0.0, 1.0, 0.0]\n",
      "binning_x: 1\n",
      "binning_y: 1\n",
      "roi: \n",
      "  x_offset: 0\n",
      "  y_offset: 0\n",
      "  height: 0\n",
      "  width: 0\n",
      "  do_rectify: True\n"
     ]
    }
   ],
   "source": [
    "print(\"LEFT CAM\")\n",
    "print(left_camera_info)\n",
    "print(\"RIGHT_CAM\")\n",
    "print(right_camera_info)"
   ]
  },
  {
   "cell_type": "code",
   "execution_count": 8,
   "metadata": {},
   "outputs": [],
   "source": [
    "psm1 = None \n",
    "ecm = None\n",
    "suj = None\n",
    "debug_output = widgets.Output(layout={'border': '1px solid black'})\n",
    "\n",
    "with debug_output:\n",
    "    global psm1, psm2, psm3, ecm\n",
    "    psm1 = dvrk.psm('PSM1')\n",
    "    ecm = dvrk.ecm('ECM')\n",
    "    psm2 = dvrk.psm('PSM2')\n",
    "    psm3 = dvrk.psm('PSM3')\n",
    "    \n",
    "    psm1_suj = dvrk.suj('PSM1')\n",
    "    psm2_suj = dvrk.suj('PSM2')\n",
    "    psm3_suj = dvrk.suj('PSM3')\n",
    "    ecm_suj = dvrk.suj('ECM')\n",
    "    \n",
    "while ecm.get_current_position() == PyKDL.Frame() or ecm.get_desired_position() == PyKDL.Frame():\n",
    "    time.sleep(0.5)\n",
    "while psm1.get_current_position() == PyKDL.Frame() or psm1.get_desired_position() == PyKDL.Frame():\n",
    "    time.sleep(0.5)"
   ]
  },
  {
   "cell_type": "code",
   "execution_count": 9,
   "metadata": {},
   "outputs": [],
   "source": [
    "tf_listener = tf.TransformListener()\n",
    "time.sleep(5)"
   ]
  },
  {
   "cell_type": "code",
   "execution_count": 10,
   "metadata": {
    "scrolled": true
   },
   "outputs": [
    {
     "name": "stderr",
     "output_type": "stream",
     "text": [
      "/home/iandre/dvrk_ws/src/geometry/tf/src/tf/listener.py:97: YAMLLoadWarning: calling yaml.load() without Loader=... is deprecated, as the default Loader is unsafe. Please read https://msg.pyyaml.org/load for full details.\n",
      "  data = yaml.load(self._buffer.all_frames_as_yaml()) or {}\n"
     ]
    },
    {
     "data": {
      "text/plain": [
       "['PSM2_tool_wrist_shaft_link',\n",
       " 'PSM3_clip',\n",
       " 'PSM2_outer_pitch_front_link',\n",
       " 'PSM1_RCM',\n",
       " 'PSM2_tool_main_link',\n",
       " 'PSM2_tool_wrist_caudier_link_2_left',\n",
       " 'PSM1',\n",
       " 'PSM2',\n",
       " 'PSM3',\n",
       " 'PSM2_tool_wrist_caudier_ee_link',\n",
       " 'PSM1_tool_wrist_sca_ee_link_1',\n",
       " 'PSM1_tool_wrist_sca_ee_link_2',\n",
       " 'ecm_setup_link',\n",
       " 'ECM_RCM',\n",
       " 'ecm_yaw_link',\n",
       " 'PSM2_tool_wrist_caudier_link_shaft',\n",
       " 'PSM1_tool_wrist_sca_ee_link_0',\n",
       " 'ECM',\n",
       " 'ecm_pitch_link_1',\n",
       " 'PSM1_outer_pitch_link',\n",
       " 'PSM2_base',\n",
       " 'PSM2_outer_pitch_link',\n",
       " 'camera',\n",
       " 'PSM1_outer_pitch_front_link',\n",
       " 'ecm_pitch_link',\n",
       " 'PSM1_outer_pitch_top_link',\n",
       " 'PSM2_RCM',\n",
       " 'PSM2_tool_wrist_caudier_link',\n",
       " 'PSM1_outer_yaw_link',\n",
       " 'ecm_roll_link',\n",
       " 'ecm_pitch_link_2',\n",
       " 'ecm_pitch_link_3',\n",
       " 'PSM1_tool_wrist_shaft_link',\n",
       " 'PSM2_outer_pitch_back_link',\n",
       " 'PSM1_tool_wrist_sca_link',\n",
       " 'PSM2_outer_pitch_top_link',\n",
       " 'PSM3_base',\n",
       " 'PSM2_tool_wrist_caudier_ee_link_0',\n",
       " 'PSM1_outer_insertion_link',\n",
       " 'PSM1_tool_tip_link',\n",
       " 'ECM_base',\n",
       " 'ecm_insertion_link',\n",
       " 'Vision_sensor_left',\n",
       " 'PSM1_outer_pitch_bottom_link',\n",
       " 'PSM2_tool_wrist_caudier_link_2_right',\n",
       " 'ecm_base_link',\n",
       " 'PSM1_tool_wrist_link',\n",
       " 'PSM1_tool_main_link',\n",
       " 'PSM1_tool_wrist_sca_shaft_link',\n",
       " 'simworld',\n",
       " 'PSM1_psm_base_link',\n",
       " 'PSM2_tool_wrist_link',\n",
       " 'Jp21_ECM',\n",
       " 'PSM1_outer_pitch_back_link',\n",
       " 'PSM2_outer_yaw_link',\n",
       " 'ecm_setup_base_link',\n",
       " 'PSM2_outer_pitch_bottom_link',\n",
       " 'PSM1_base',\n",
       " 'PSM2_outer_insertion_link',\n",
       " 'PSM3_RCM',\n",
       " 'J1_PSM1',\n",
       " 'PSM2_psm_base_link',\n",
       " 'J1_PSM2']"
      ]
     },
     "execution_count": 10,
     "metadata": {},
     "output_type": "execute_result"
    }
   ],
   "source": [
    "tf_listener.getFrameStrings()"
   ]
  },
  {
   "cell_type": "code",
   "execution_count": 11,
   "metadata": {
    "scrolled": true
   },
   "outputs": [
    {
     "name": "stdout",
     "output_type": "stream",
     "text": [
      "[ 0.         -1.5         1.79999995  0.1        -0.89999998]\n",
      "[ 0.          1.5        -1.79999995 -0.1        -0.89999998]\n",
      "[ 0.2         2.         -2.29999995 -0.1        -1.29999995]\n",
      "[ 0.51999998  0.60000002 -1.60000002  1.        ]\n",
      "----------------------------------\n",
      "[[ 3.33067e-16,          -1,           0;\n",
      "            1, 3.33067e-16,           0;\n",
      "            0,           0,           1]\n",
      "[     -1.9501,   -0.101602,      0.9088]]\n",
      "[[ 3.33067e-16,           1,           0;\n",
      "           -1, 3.33067e-16,          -0;\n",
      "           -0,           0,           1]\n",
      "[      1.9501,   -0.101598,      0.9088]]\n",
      "[[           1,           0,           0;\n",
      "            0,           1,           0;\n",
      "            0,           0,           1]\n",
      "[-1.50197e-06,      2.0009,      0.9163]]\n",
      "[[     0.96126,    -0.19493,   -0.194888;\n",
      "     0.275643,     0.67978,    0.679647;\n",
      " -2.59709e-06,   -0.707037,    0.707176]\n",
      "[    -0.94642,    0.796245,    0.829477]]\n"
     ]
    }
   ],
   "source": [
    "from math import radians as r\n",
    "\n",
    "# start position\n",
    "\n",
    "# sm1 = [0.5, -2.4958207607269287, 2.775073528289795, 0.13962633907794952, -0.5235987901687622]\n",
    "# sm2 = [0.5, 2.6005406379699707, -2.7227137088775635, -0.20943951606750488, -0.7155849933624268]\n",
    "# sm3 = [0.5, 2.3212878704071045, -1.378810167312622, -1.5707963705062866, -0.8901179432868958]\n",
    "# cm = [1.0, -1.2042771577835083, 2.687807083129883, -1.4311699867248535]\n",
    "\n",
    "sm1 = [0.0, -1.5, 1.8, 0.1, -0.9]\n",
    "sm2 = [0.0, 1.5, -1.8, -0.1, -0.9]\n",
    "sm3 = [0.2, 2, -2.3, -0.1, -1.3]\n",
    "cm = [0.52, 0.6, -1.6, 1.0]\n",
    "\n",
    "psm1_suj.move_joint(np.asarray(sm1))\n",
    "psm2_suj.move_joint(np.asarray(sm2))\n",
    "psm3_suj.move_joint(np.asarray(sm3))\n",
    "ecm_suj.move_joint(np.asarray(cm))\n",
    "\n",
    "print(psm1_suj.get_current_joint_position())\n",
    "print(psm2_suj.get_current_joint_position())\n",
    "print(psm3_suj.get_current_joint_position())\n",
    "print(ecm_suj.get_current_joint_position())\n",
    "print('----------------------------------')\n",
    "print(psm1_suj.get_current_position())\n",
    "print(psm2_suj.get_current_position())\n",
    "print(psm3_suj.get_current_position())\n",
    "print(ecm_suj.get_current_position())"
   ]
  },
  {
   "cell_type": "code",
   "execution_count": 17,
   "metadata": {},
   "outputs": [
    {
     "data": {
      "application/vnd.jupyter.widget-view+json": {
       "model_id": "85bbee772cce46c9b22891850bbafdc6",
       "version_major": 2,
       "version_minor": 0
      },
      "text/plain": [
       "aW50ZXJhY3RpdmUoY2hpbGRyZW49KEZsb2F0U2xpZGVyKHZhbHVlPTAuNSwgZGVzY3JpcHRpb249dSdhJywgbWF4PTEuMCksIEludFNsaWRlcih2YWx1ZT0wLCBkZXNjcmlwdGlvbj11J2InLCDigKY=\n"
      ]
     },
     "metadata": {},
     "output_type": "display_data"
    }
   ],
   "source": [
    "#a=height,b=shoulder J1,c=elbow J2,d=wrist J3\n",
    "def move_ecm_suj(a, b, c, d, e, f):\n",
    "    ecm_suj.move_joint(np.asarray([a, r(b), r(c), r(d), r(e), r(f)]))\n",
    "interact(move_ecm_suj, a=(0.0,1.0), b=(-180,180), c=(-180,180), d=(-180,180), e=(-180,180), f=(-180,180));"
   ]
  },
  {
   "cell_type": "code",
   "execution_count": 14,
   "metadata": {},
   "outputs": [
    {
     "data": {
      "application/vnd.jupyter.widget-view+json": {
       "model_id": "46070d32a3674da4901986f1694ec334",
       "version_major": 2,
       "version_minor": 0
      },
      "text/plain": [
       "aW50ZXJhY3RpdmUoY2hpbGRyZW49KEZsb2F0U2xpZGVyKHZhbHVlPTAuNSwgZGVzY3JpcHRpb249dSdhJywgbWF4PTEuMCksIEludFNsaWRlcih2YWx1ZT0wLCBkZXNjcmlwdGlvbj11J2InLCDigKY=\n"
      ]
     },
     "metadata": {},
     "output_type": "display_data"
    }
   ],
   "source": [
    "def move_psm1_suj(a, b, c, d, e, f):\n",
    "    psm1_suj.move_joint(np.asarray([a, r(b), r(c), r(d), r(e), r(f)]))\n",
    "interact(move_psm1_suj, a=(0.0,1.0), b=(-180,180), c=(-180,180), d=(-180,180), e=(-180,180), f=(-180,180));"
   ]
  },
  {
   "cell_type": "code",
   "execution_count": 15,
   "metadata": {},
   "outputs": [
    {
     "data": {
      "application/vnd.jupyter.widget-view+json": {
       "model_id": "8798b2ad78b84b47bcd46303e7f4e1e1",
       "version_major": 2,
       "version_minor": 0
      },
      "text/plain": [
       "aW50ZXJhY3RpdmUoY2hpbGRyZW49KEZsb2F0U2xpZGVyKHZhbHVlPTAuNSwgZGVzY3JpcHRpb249dSdhJywgbWF4PTEuMCksIEludFNsaWRlcih2YWx1ZT0wLCBkZXNjcmlwdGlvbj11J2InLCDigKY=\n"
      ]
     },
     "metadata": {},
     "output_type": "display_data"
    }
   ],
   "source": [
    "def move_psm2_suj(a, b, c, d, e, f):\n",
    "    psm2_suj.move_joint(np.asarray([a, r(b), r(c), r(d), r(e), r(f)]))\n",
    "interact(move_psm2_suj, a=(0.0,1.0), b=(-180,180), c=(-180,180), d=(-180,180), e=(-180,180), f=(-180,180));"
   ]
  },
  {
   "cell_type": "code",
   "execution_count": 16,
   "metadata": {
    "scrolled": true
   },
   "outputs": [
    {
     "data": {
      "application/vnd.jupyter.widget-view+json": {
       "model_id": "e9186facc44f4bb39cd49b128d960231",
       "version_major": 2,
       "version_minor": 0
      },
      "text/plain": [
       "aW50ZXJhY3RpdmUoY2hpbGRyZW49KEZsb2F0U2xpZGVyKHZhbHVlPTAuNSwgZGVzY3JpcHRpb249dSdhJywgbWF4PTEuMCksIEludFNsaWRlcih2YWx1ZT0wLCBkZXNjcmlwdGlvbj11J2InLCDigKY=\n"
      ]
     },
     "metadata": {},
     "output_type": "display_data"
    }
   ],
   "source": [
    "def move_psm3_suj(a, b, c, d, e, f):\n",
    "    psm3_suj.move_joint(np.asarray([a, r(b), r(c), r(d), r(e), r(f)]))\n",
    "interact(move_psm3_suj, a=(0.0,1.0), b=(-180,180), c=(-180,180), d=(-180,180), e=(-180,180), f=(-180,180));"
   ]
  },
  {
   "cell_type": "code",
   "execution_count": 12,
   "metadata": {},
   "outputs": [
    {
     "data": {
      "text/plain": [
       "True"
      ]
     },
     "execution_count": 12,
     "metadata": {},
     "output_type": "execute_result"
    }
   ],
   "source": [
    "#Home PSMs and ECM\n",
    "HARDCODED_ECM_POS = np.asarray([-0.6, -0.45, 0.5, 0.0 ])\n",
    "ecm.move_joint(HARDCODED_ECM_POS)\n",
    "#PSM_HOME_POS = np.asarray([0., 0., 0.05, 0., 0., 0.])\n",
    "time.sleep(1)\n",
    "\n",
    "#psm1.move_joint(PSM_HOME_POS)\n",
    "psm1.close_jaw()\n",
    "\n",
    "#psm2.move_joint(PSM_HOME_POS)\n",
    "psm2.close_jaw()\n",
    "\n",
    "#psm3.move_joint(PSM_HOME_POS)\n",
    "psm3.close_jaw()"
   ]
  },
  {
   "cell_type": "code",
   "execution_count": 13,
   "metadata": {
    "scrolled": true
   },
   "outputs": [
    {
     "name": "stdout",
     "output_type": "stream",
     "text": [
      "[   -0.985709,   0.0040838,     1.04433]\n"
     ]
    },
    {
     "data": {
      "text/plain": [
       "<matplotlib.image.AxesImage at 0x7fc7540c7990>"
      ]
     },
     "execution_count": 13,
     "metadata": {},
     "output_type": "execute_result"
    },
    {
     "data": {
      "image/png": "[encoded data removed]",
      "text/plain": [
       "<Figure size 720x360 with 1 Axes>"
      ]
     },
     "metadata": {
      "needs_background": "light"
     },
     "output_type": "display_data"
    }
   ],
   "source": [
    "pick_and_place_utils = None\n",
    "from pick_and_place_utils import get_objects_and_img, tf_to_pykdl_frame, PSM_J1_TO_BASE_LINK_TF\n",
    "import image_geometry\n",
    "\n",
    "stereo_cam = image_geometry.StereoCameraModel()\n",
    "stereo_cam.fromCameraInfo(left_camera_info, right_camera_info)\n",
    "\n",
    "tf_cam_to_world = tf_to_pykdl_frame(tf_listener.lookupTransform('simworld', 'Vision_sensor_left', rospy.Time()))\n",
    "tf_world_to_psm1 = \\\n",
    "    tf_to_pykdl_frame(tf_listener.lookupTransform('PSM1_base', 'simworld', rospy.Time()))\n",
    "tf_world_to_psm2 = \\\n",
    "    tf_to_pykdl_frame(tf_listener.lookupTransform('PSM2_base', 'simworld', rospy.Time()))\n",
    "# tf_world_to_psm3 = \\\n",
    "#     tf_to_pykdl_frame(tf_listener.lookupTransform('PSM3_base', 'simworld', rospy.Time()))\n",
    "\n",
    "objects, left_frame = get_objects_and_img(left_image_msg, right_image_msg, stereo_cam, tf_cam_to_world)\n",
    "\n",
    "ball_pos_cam = objects[0].pos\n",
    "print(ball_pos_cam)\n",
    "\n",
    "plt.figure(figsize=(10, 5))\n",
    "plt.imshow(left_frame)\n",
    "# depth error experiments\n",
    "# (-0.02772727272727273, 0.009545454545454546, 0.14180015986663413) {-0.02987164259, 0.01018744707, 0.1481492519}\n",
    "# (-0.028636363636363637, 0.01, 0.14180015986663413) {-0.02869459987, 0.009940028191, 0.1379978657} \n",
    "# (-0.013333333333333334, 0.010416666666666666, 0.12998347987774794) {-0.01380112767, 0.009659290314, 0.1300171614} \n",
    "# (0.04038461538461539, 0.008076923076923077, 0.11998475065638273) {-0.009348809719, 0.01096570492, 0.1307697296} "
   ]
  },
  {
   "cell_type": "code",
   "execution_count": 14,
   "metadata": {},
   "outputs": [
    {
     "data": {
      "text/plain": [
       "6"
      ]
     },
     "execution_count": 14,
     "metadata": {},
     "output_type": "execute_result"
    }
   ],
   "source": [
    "len(objects)"
   ]
  },
  {
   "cell_type": "code",
   "execution_count": 15,
   "metadata": {
    "scrolled": true
   },
   "outputs": [
    {
     "ename": "TransformException",
     "evalue": "Lookup would require extrapolation into the past.  Requested time 1619810010.870208025 but the earliest data is at time 1619810077.746515989, when looking up transform from frame [camera] to frame [ecm_pitch_link_1]",
     "output_type": "error",
     "traceback": [
      "\u001b[0;31m---------------------------------------------------------------------------\u001b[0m",
      "\u001b[0;31mTransformException\u001b[0m                        Traceback (most recent call last)",
      "\u001b[0;32m<ipython-input-15-484847137219>\u001b[0m in \u001b[0;36m<module>\u001b[0;34m()\u001b[0m\n\u001b[1;32m      1\u001b[0m \u001b[0mball_pos_cam\u001b[0m \u001b[0;34m=\u001b[0m \u001b[0mPyKDL\u001b[0m\u001b[0;34m.\u001b[0m\u001b[0mVector\u001b[0m\u001b[0;34m(\u001b[0m\u001b[0;34m*\u001b[0m\u001b[0mball_pos_cam\u001b[0m\u001b[0;34m)\u001b[0m\u001b[0;34m\u001b[0m\u001b[0m\n\u001b[1;32m      2\u001b[0m \u001b[0;34m\u001b[0m\u001b[0m\n\u001b[0;32m----> 3\u001b[0;31m \u001b[0mtf_listener\u001b[0m\u001b[0;34m.\u001b[0m\u001b[0mwaitForTransform\u001b[0m\u001b[0;34m(\u001b[0m\u001b[0;34m'ecm_pitch_link_1'\u001b[0m\u001b[0;34m,\u001b[0m \u001b[0;34m'camera'\u001b[0m\u001b[0;34m,\u001b[0m \u001b[0mrospy\u001b[0m\u001b[0;34m.\u001b[0m\u001b[0mTime\u001b[0m\u001b[0;34m(\u001b[0m\u001b[0;34m)\u001b[0m\u001b[0;34m,\u001b[0m \u001b[0mrospy\u001b[0m\u001b[0;34m.\u001b[0m\u001b[0mDuration\u001b[0m\u001b[0;34m(\u001b[0m\u001b[0;36m4.0\u001b[0m\u001b[0;34m)\u001b[0m\u001b[0;34m)\u001b[0m\u001b[0;34m\u001b[0m\u001b[0m\n\u001b[0m\u001b[1;32m      4\u001b[0m \u001b[0mtf_insertion_to_cam\u001b[0m \u001b[0;34m=\u001b[0m     \u001b[0mtf_listener\u001b[0m\u001b[0;34m.\u001b[0m\u001b[0mlookupTransform\u001b[0m\u001b[0;34m(\u001b[0m\u001b[0;34m'ecm_pitch_link_1'\u001b[0m\u001b[0;34m,\u001b[0m \u001b[0;34m'camera'\u001b[0m\u001b[0;34m,\u001b[0m \u001b[0mrospy\u001b[0m\u001b[0;34m.\u001b[0m\u001b[0mTime\u001b[0m\u001b[0;34m(\u001b[0m\u001b[0;34m)\u001b[0m\u001b[0;34m)\u001b[0m\u001b[0;34m\u001b[0m\u001b[0m\n\u001b[1;32m      5\u001b[0m \u001b[0;34m\u001b[0m\u001b[0m\n",
      "\u001b[0;32m/home/iandre/dvrk_ws/src/geometry/tf/src/tf/listener.pyc\u001b[0m in \u001b[0;36mwaitForTransform\u001b[0;34m(self, target_frame, source_frame, time, timeout, polling_sleep_duration)\u001b[0m\n\u001b[1;32m     74\u001b[0m         \u001b[0mcan_transform\u001b[0m\u001b[0;34m,\u001b[0m \u001b[0merror_msg\u001b[0m \u001b[0;34m=\u001b[0m \u001b[0mself\u001b[0m\u001b[0;34m.\u001b[0m\u001b[0m_buffer\u001b[0m\u001b[0;34m.\u001b[0m\u001b[0mcan_transform\u001b[0m\u001b[0;34m(\u001b[0m\u001b[0mstrip_leading_slash\u001b[0m\u001b[0;34m(\u001b[0m\u001b[0mtarget_frame\u001b[0m\u001b[0;34m)\u001b[0m\u001b[0;34m,\u001b[0m \u001b[0mstrip_leading_slash\u001b[0m\u001b[0;34m(\u001b[0m\u001b[0msource_frame\u001b[0m\u001b[0;34m)\u001b[0m\u001b[0;34m,\u001b[0m \u001b[0mtime\u001b[0m\u001b[0;34m,\u001b[0m \u001b[0mtimeout\u001b[0m\u001b[0;34m,\u001b[0m \u001b[0mreturn_debug_tuple\u001b[0m\u001b[0;34m=\u001b[0m\u001b[0mTrue\u001b[0m\u001b[0;34m)\u001b[0m\u001b[0;34m\u001b[0m\u001b[0m\n\u001b[1;32m     75\u001b[0m         \u001b[0;32mif\u001b[0m \u001b[0;32mnot\u001b[0m \u001b[0mcan_transform\u001b[0m\u001b[0;34m:\u001b[0m\u001b[0;34m\u001b[0m\u001b[0m\n\u001b[0;32m---> 76\u001b[0;31m             \u001b[0;32mraise\u001b[0m \u001b[0mtf2_ros\u001b[0m\u001b[0;34m.\u001b[0m\u001b[0mTransformException\u001b[0m\u001b[0;34m(\u001b[0m\u001b[0merror_msg\u001b[0m \u001b[0;32mor\u001b[0m \u001b[0;34m\"no such transformation: \\\"{}\\\" -> \\\"{}\\\"\"\u001b[0m\u001b[0;34m.\u001b[0m\u001b[0mformat\u001b[0m\u001b[0;34m(\u001b[0m\u001b[0msource_frame\u001b[0m\u001b[0;34m,\u001b[0m \u001b[0mtarget_frame\u001b[0m\u001b[0;34m)\u001b[0m\u001b[0;34m)\u001b[0m\u001b[0;34m\u001b[0m\u001b[0m\n\u001b[0m\u001b[1;32m     77\u001b[0m \u001b[0;34m\u001b[0m\u001b[0m\n\u001b[1;32m     78\u001b[0m     \u001b[0;32mdef\u001b[0m \u001b[0mwaitForTransformFull\u001b[0m\u001b[0;34m(\u001b[0m\u001b[0mself\u001b[0m\u001b[0;34m,\u001b[0m \u001b[0mtarget_frame\u001b[0m\u001b[0;34m,\u001b[0m \u001b[0mtarget_time\u001b[0m\u001b[0;34m,\u001b[0m \u001b[0msource_frame\u001b[0m\u001b[0;34m,\u001b[0m \u001b[0msource_time\u001b[0m\u001b[0;34m,\u001b[0m \u001b[0mfixed_frame\u001b[0m\u001b[0;34m,\u001b[0m \u001b[0mtimeout\u001b[0m\u001b[0;34m,\u001b[0m \u001b[0mpolling_sleep_duration\u001b[0m\u001b[0;34m=\u001b[0m\u001b[0mNone\u001b[0m\u001b[0;34m)\u001b[0m\u001b[0;34m:\u001b[0m\u001b[0;34m\u001b[0m\u001b[0m\n",
      "\u001b[0;31mTransformException\u001b[0m: Lookup would require extrapolation into the past.  Requested time 1619810010.870208025 but the earliest data is at time 1619810077.746515989, when looking up transform from frame [camera] to frame [ecm_pitch_link_1]"
     ]
    }
   ],
   "source": [
    "ball_pos_cam = PyKDL.Vector(*ball_pos_cam)\n",
    "\n",
    "tf_listener.waitForTransform('ecm_pitch_link_1', 'camera', rospy.Time(), rospy.Duration(4.0))\n",
    "tf_insertion_to_cam = \\\n",
    "    tf_listener.lookupTransform('ecm_pitch_link_1', 'camera', rospy.Time())\n",
    "\n",
    "tf_cam_to_jp21 = tf_to_pykdl_frame(tf_insertion_to_cam)\n",
    "ball_pos_jp21 = tf_cam_to_jp21 * ball_pos_cam\n",
    "ball_pos_jp21"
   ]
  },
  {
   "cell_type": "code",
   "execution_count": 27,
   "metadata": {},
   "outputs": [
    {
     "data": {
      "text/plain": [
       "([-0.3403690046901159, -0.01721697189238136, 1.1507461650239748e-12],\n",
       " [0.7071067811848165,\n",
       "  -1.6653345369377348e-16,\n",
       "  6.938893903907228e-17,\n",
       "  0.7071067811882789])"
      ]
     },
     "execution_count": 27,
     "metadata": {},
     "output_type": "execute_result"
    }
   ],
   "source": [
    "# did this to confirm that the /tf transforms provided by dVRK are within margin of error of \n",
    "# actual sim coordinates\n",
    "tf_insertion_to_jp21 = tf_listener.lookupTransform('ecm_pitch_link_1', 'ecm_insertion_link', rospy.Time())\n",
    "tf_insertion_to_jp21"
   ]
  },
  {
   "cell_type": "code",
   "execution_count": 28,
   "metadata": {},
   "outputs": [
    {
     "data": {
      "text/plain": [
       "[    -1.13722,   -0.682046,   -0.116679]"
      ]
     },
     "execution_count": 28,
     "metadata": {},
     "output_type": "execute_result"
    }
   ],
   "source": [
    "tf_jp21_to_world = tf_to_pykdl_frame(tf_listener.lookupTransform('world', 'Jp21_ECM', rospy.Time()))\n",
    "ball_pos_world = tf_jp21_to_world * ball_pos_jp21\n",
    "# i'm a winner\n",
    "ball_pos_world"
   ]
  },
  {
   "cell_type": "code",
   "execution_count": 29,
   "metadata": {},
   "outputs": [
    {
     "data": {
      "text/plain": [
       "[    -0.43362,     1.63785,   -0.446923]"
      ]
     },
     "execution_count": 29,
     "metadata": {},
     "output_type": "execute_result"
    }
   ],
   "source": [
    "tf_world_to_psm2_j1 = tf_to_pykdl_frame(tf_listener.lookupTransform('J1_PSM2', 'world', rospy.Time()))\n",
    "ball_pos_psm2_j1 = tf_world_to_psm2_j1 * ball_pos_world\n",
    "# ok not off by *too* much\n",
    "ball_pos_psm2_j1"
   ]
  },
  {
   "cell_type": "code",
   "execution_count": 30,
   "metadata": {},
   "outputs": [
    {
     "data": {
      "text/plain": [
       "[     0.43362,    0.446923,    -1.63785]"
      ]
     },
     "execution_count": 30,
     "metadata": {},
     "output_type": "execute_result"
    }
   ],
   "source": [
    "ball_pos_psm2_main = PSM_J1_TO_BASE_LINK_TF * ball_pos_psm2_j1\n",
    "ball_pos_psm2_main"
   ]
  },
  {
   "cell_type": "markdown",
   "metadata": {},
   "source": [
    "#### "
   ]
  },
  {
   "cell_type": "code",
   "execution_count": 31,
   "metadata": {},
   "outputs": [
    {
     "data": {
      "text/plain": [
       "[ 4.16909e-07, 4.50335e-07,     -0.1135]"
      ]
     },
     "execution_count": 31,
     "metadata": {},
     "output_type": "execute_result"
    }
   ],
   "source": [
    "psm2_rot = psm2.get_current_position().M\n",
    "psm2_pos = psm2.get_current_position().p\n",
    "psm2_pos"
   ]
  },
  {
   "cell_type": "code",
   "execution_count": 32,
   "metadata": {},
   "outputs": [
    {
     "data": {
      "text/plain": [
       "True"
      ]
     },
     "execution_count": 32,
     "metadata": {},
     "output_type": "execute_result"
    }
   ],
   "source": [
    "psm2.move(ball_pos_psm2_main)"
   ]
  },
  {
   "cell_type": "code",
   "execution_count": 33,
   "metadata": {},
   "outputs": [],
   "source": [
    "cam_z_vec_world = (tf_jp21_to_world * tf_cam_to_jp21).M * PyKDL.Vector(0, 0, 1.0)\n",
    "cam_z_vec_psm2_main = (PSM_J1_TO_BASE_LINK_TF * tf_world_to_psm2_j1).M * cam_z_vec_world"
   ]
  },
  {
   "cell_type": "code",
   "execution_count": 34,
   "metadata": {
    "scrolled": true
   },
   "outputs": [
    {
     "data": {
      "text/plain": [
       "True"
      ]
     },
     "execution_count": 34,
     "metadata": {},
     "output_type": "execute_result"
    }
   ],
   "source": [
    "psm2.move_joint_one(0., 5)\n",
    "psm2.open_jaw()\n",
    "psm2.dmove(0.03 * cam_z_vec_psm2_main)\n",
    "psm2.close_jaw()"
   ]
  },
  {
   "cell_type": "code",
   "execution_count": 35,
   "metadata": {
    "scrolled": true
   },
   "outputs": [
    {
     "data": {
      "text/plain": [
       "True"
      ]
     },
     "execution_count": 35,
     "metadata": {},
     "output_type": "execute_result"
    }
   ],
   "source": [
    "psm2.dmove( PyKDL.Vector(0, 0, 0.1))"
   ]
  },
  {
   "cell_type": "code",
   "execution_count": 34,
   "metadata": {},
   "outputs": [
    {
     "data": {
      "text/plain": [
       "<matplotlib.colorbar.Colorbar at 0x7f38244ace10>"
      ]
     },
     "execution_count": 34,
     "metadata": {},
     "output_type": "execute_result"
    },
    {
     "data": {
      "image/png": "[encoded data removed]",
      "text/plain": [
       "<Figure size 432x288 with 2 Axes>"
      ]
     },
     "metadata": {
      "needs_background": "light"
     },
     "output_type": "display_data"
    }
   ],
   "source": [
    "stereo = cv2.StereoSGBM_create(minDisparity=1, numDisparities=16, blockSize=5)\n",
    "\n",
    "left_image_bw = cv2.cvtColor(left_image, cv2.COLOR_RGB2GRAY)\n",
    "right_image_bw = cv2.cvtColor(right_image, cv2.COLOR_RGB2GRAY)\n",
    "disparity_map = stereo.compute(left_image_bw, right_image_bw)\n",
    "plt.imshow(disparity_map)\n",
    "plt.colorbar()"
   ]
  },
  {
   "cell_type": "code",
   "execution_count": 35,
   "metadata": {
    "lines_to_next_cell": 0
   },
   "outputs": [
    {
     "name": "stdout",
     "output_type": "stream",
     "text": [
      "[[[ 61  74]]\n",
      "\n",
      " [[ 60  75]]\n",
      "\n",
      " [[ 58  75]]\n",
      "\n",
      " [[ 55  78]]\n",
      "\n",
      " [[ 55  79]]\n",
      "\n",
      " [[ 54  80]]\n",
      "\n",
      " [[ 54  85]]\n",
      "\n",
      " [[ 55  86]]\n",
      "\n",
      " [[ 55  87]]\n",
      "\n",
      " [[ 58  90]]\n",
      "\n",
      " [[ 59  90]]\n",
      "\n",
      " [[ 60  91]]\n",
      "\n",
      " [[ 67  91]]\n",
      "\n",
      " [[ 68  90]]\n",
      "\n",
      " [[ 69  90]]\n",
      "\n",
      " [[ 70  89]]\n",
      "\n",
      " [[ 71  90]]\n",
      "\n",
      " [[ 72  90]]\n",
      "\n",
      " [[ 73  91]]\n",
      "\n",
      " [[ 73 100]]\n",
      "\n",
      " [[ 74 101]]\n",
      "\n",
      " [[ 74 102]]\n",
      "\n",
      " [[ 78 106]]\n",
      "\n",
      " [[ 79 106]]\n",
      "\n",
      " [[ 80 107]]\n",
      "\n",
      " [[ 81 107]]\n",
      "\n",
      " [[ 82 108]]\n",
      "\n",
      " [[ 88 108]]\n",
      "\n",
      " [[ 89 107]]\n",
      "\n",
      " [[ 90 107]]\n",
      "\n",
      " [[ 91 106]]\n",
      "\n",
      " [[ 92 106]]\n",
      "\n",
      " [[ 94 104]]\n",
      "\n",
      " [[ 94 103]]\n",
      "\n",
      " [[ 95 102]]\n",
      "\n",
      " [[ 95 101]]\n",
      "\n",
      " [[ 96 100]]\n",
      "\n",
      " [[ 96  94]]\n",
      "\n",
      " [[ 95  93]]\n",
      "\n",
      " [[ 95  92]]\n",
      "\n",
      " [[ 94  91]]\n",
      "\n",
      " [[ 94  90]]\n",
      "\n",
      " [[ 95  89]]\n",
      "\n",
      " [[ 96  90]]\n",
      "\n",
      " [[102  90]]\n",
      "\n",
      " [[103  89]]\n",
      "\n",
      " [[104  89]]\n",
      "\n",
      " [[106  87]]\n",
      "\n",
      " [[106  86]]\n",
      "\n",
      " [[107  85]]\n",
      "\n",
      " [[107  80]]\n",
      "\n",
      " [[106  79]]\n",
      "\n",
      " [[106  78]]\n",
      "\n",
      " [[103  75]]\n",
      "\n",
      " [[101  75]]\n",
      "\n",
      " [[100  74]]\n",
      "\n",
      " [[ 97  74]]\n",
      "\n",
      " [[ 96  75]]\n",
      "\n",
      " [[ 95  75]]\n",
      "\n",
      " [[ 94  76]]\n",
      "\n",
      " [[ 93  76]]\n",
      "\n",
      " [[ 92  77]]\n",
      "\n",
      " [[ 92  78]]\n",
      "\n",
      " [[ 91  79]]\n",
      "\n",
      " [[ 91  85]]\n",
      "\n",
      " [[ 90  86]]\n",
      "\n",
      " [[ 87  86]]\n",
      "\n",
      " [[ 86  85]]\n",
      "\n",
      " [[ 82  85]]\n",
      "\n",
      " [[ 81  86]]\n",
      "\n",
      " [[ 79  86]]\n",
      "\n",
      " [[ 78  87]]\n",
      "\n",
      " [[ 76  87]]\n",
      "\n",
      " [[ 75  86]]\n",
      "\n",
      " [[ 74  86]]\n",
      "\n",
      " [[ 72  84]]\n",
      "\n",
      " [[ 72  82]]\n",
      "\n",
      " [[ 71  81]]\n",
      "\n",
      " [[ 71  79]]\n",
      "\n",
      " [[ 68  76]]\n",
      "\n",
      " [[ 67  76]]\n",
      "\n",
      " [[ 66  75]]\n",
      "\n",
      " [[ 64  75]]\n",
      "\n",
      " [[ 63  74]]]\n",
      "128\n",
      "128\n",
      "128\n",
      "129\n",
      "128\n",
      "128\n",
      "129\n",
      "129\n",
      "130\n",
      "133\n",
      "132\n",
      "256\n",
      "256\n",
      "256\n",
      "256\n",
      "256\n",
      "256\n",
      "256\n",
      "109\n",
      "118\n",
      "128\n",
      "174\n",
      "179\n",
      "190\n",
      "200\n",
      "208\n",
      "242\n",
      "256\n",
      "256\n",
      "256\n",
      "256\n",
      "256\n",
      "256\n",
      "256\n",
      "238\n",
      "210\n",
      "209\n",
      "191\n",
      "256\n",
      "245\n",
      "236\n",
      "234\n",
      "229\n",
      "172\n",
      "173\n",
      "163\n",
      "154\n",
      "159\n",
      "173\n",
      "166\n",
      "149\n",
      "139\n",
      "16\n",
      "16\n",
      "16\n",
      "16\n",
      "188\n",
      "102\n",
      "144\n",
      "179\n",
      "179\n",
      "174\n",
      "178\n",
      "194\n",
      "203\n",
      "203\n",
      "209\n",
      "205\n",
      "195\n",
      "141\n",
      "139\n",
      "134\n",
      "129\n",
      "124\n"
     ]
    },
    {
     "data": {
      "text/plain": [
       "<matplotlib.collections.PathCollection at 0x7f382456d210>"
      ]
     },
     "execution_count": 35,
     "metadata": {},
     "output_type": "execute_result"
    },
    {
     "data": {
      "image/png": "[encoded data removed]",
      "text/plain": [
       "<Figure size 432x288 with 1 Axes>"
      ]
     },
     "metadata": {
      "needs_background": "light"
     },
     "output_type": "display_data"
    }
   ],
   "source": [
    "from feature_processor import feature_processor\n",
    "from pick_and_place_utils import FEAT_PATHS, CV_TO_CAM_FRAME_ROT\n",
    "\n",
    "fp = feature_processor(FEAT_PATHS)\n",
    "feats, frame = fp.FindImageFeatures(left_image_msg)\n",
    "\n",
    "bowl = max(feats, key=lambda feat : cv2.contourArea(feat.contour))\n",
    "bowl_pts_cam = []\n",
    "print(bowl.contour)\n",
    "\n",
    "for pt_ in bowl.contour:\n",
    "    pt = tuple(np.clip(pt_[0], (0, 0), np.array(left_image_bw.shape) - np.array([1, 1])))\n",
    "    disparity = disparity_map[pt]\n",
    "    if disparity < 1:\n",
    "        continue\n",
    "    print(disparity)\n",
    "    \n",
    "    cam_xyz = stereo_cam.projectPixelTo3d(pt, disparity)\n",
    "    cam_pt = np.matmul(CV_TO_CAM_FRAME_ROT, cam_xyz)\n",
    "    bowl_pts_cam.append(PyKDL.Vector(*cam_pt))\n",
    "\n",
    "plt.scatter([pt[0] for pt in bowl_pts_cam], [pt[1] for pt in bowl_pts_cam])"
   ]
  },
  {
   "cell_type": "code",
   "execution_count": 36,
   "metadata": {
    "lines_to_next_cell": 2,
    "scrolled": false
   },
   "outputs": [
    {
     "data": {
      "application/vnd.plotly.v1+json": {
       "config": {
        "linkText": "Export to plot.ly",
        "plotlyServerURL": "https://plot.ly",
        "showLink": false
       },
       "data": [
        {
         "marker": {
          "opacity": 0.8,
          "size": 5
         },
         "mode": "markers",
         "type": "scatter3d",
         "x": [
          0.0046484375,
          0.0046875,
          0.004765625,
          0.0048449612403100775,
          0.0048828125,
          0.004921875,
          0.004883720930232558,
          0.0048449612403100775,
          0.004807692307692308,
          0.0045864661654135335,
          0.004583333333333333,
          0.00220703125,
          0.0021875,
          0.00216796875,
          0.0021484375,
          0.00212890625,
          0.002109375,
          0.00208984375,
          0.004908256880733945,
          0.004491525423728814,
          0.004140625,
          0.0029310344827586207,
          0.0028212290502793295,
          0.002631578947368421,
          0.002475,
          0.0023557692307692307,
          0.0019008264462809918,
          0.00177734375,
          0.0017578125,
          0.00173828125,
          0.00171875,
          0.0016796875,
          0.0016796875,
          0.00166015625,
          0.0017857142857142857,
          0.002,
          0.0020095693779904307,
          0.002225130890052356,
          0.0015234375,
          0.0015510204081632653,
          0.0015677966101694915,
          0.0015811965811965813,
          0.001593886462882096,
          0.0021220930232558138,
          0.0021387283236994218,
          0.0022699386503067485,
          0.0025,
          0.0024842767295597482,
          0.0023121387283236996,
          0.0025,
          0.0028187919463087247,
          0.0030575539568345324,
          0.026875,
          0.0271875,
          0.0275,
          0.0275,
          0.0023670212765957445,
          0.004362745098039216,
          0.003125,
          0.002597765363128492,
          0.0026256983240223464,
          0.0028160919540229884,
          0.0027808988764044945,
          0.002603092783505155,
          0.0025123152709359605,
          0.0025615763546798028,
          0.002583732057416268,
          0.002634146341463415,
          0.0027948717948717947,
          0.003971631205673759,
          0.004064748201438849,
          0.004253731343283582,
          0.004496124031007752,
          0.004717741935483871
         ],
         "y": [
          0.002734375,
          0.0026953125,
          0.0026953125,
          0.0025581395348837207,
          0.0025390625,
          0.0025,
          0.0022868217054263567,
          0.002248062015503876,
          0.002192307692307692,
          0.002030075187969925,
          0.0020454545454545456,
          0.00103515625,
          0.0010546875,
          0.0010546875,
          0.00107421875,
          0.0010546875,
          0.0010546875,
          0.00103515625,
          0.002018348623853211,
          0.0018220338983050846,
          0.001640625,
          0.0010919540229885056,
          0.0010614525139664805,
          0.0009736842105263158,
          0.000925,
          0.0008653846153846154,
          0.0007438016528925619,
          0.00072265625,
          0.00072265625,
          0.0007421875,
          0.0007421875,
          0.00078125,
          0.00080078125,
          0.0008203125,
          0.0009033613445378151,
          0.0010476190476190477,
          0.0011961722488038277,
          0.0013350785340314137,
          0.0010546875,
          0.0011224489795918367,
          0.0012076271186440678,
          0.0012393162393162394,
          0.0012882096069868996,
          0.0018604651162790699,
          0.0018786127167630057,
          0.0020245398773006133,
          0.0022402597402597403,
          0.002169811320754717,
          0.002023121387283237,
          0.002108433734939759,
          0.002315436241610738,
          0.0024820143884892085,
          0.02125,
          0.02125,
          0.0209375,
          0.020625,
          0.001728723404255319,
          0.002892156862745098,
          0.002013888888888889,
          0.0016201117318435754,
          0.0016480446927374301,
          0.0016954022988505746,
          0.0016292134831460674,
          0.0014948453608247423,
          0.0014039408866995074,
          0.0014039408866995074,
          0.0014354066985645933,
          0.0015121951219512196,
          0.0016153846153846153,
          0.0024113475177304964,
          0.002446043165467626,
          0.002574626865671642,
          0.002674418604651163,
          0.00282258064516129
         ],
         "z": [
          0.01218595123853887,
          0.01218595123853887,
          0.01218595123853887,
          0.012091486500255624,
          0.01218595123853887,
          0.01218595123853887,
          0.012091486500255624,
          0.012091486500255624,
          0.011998475065638272,
          0.011727832770924627,
          0.011816679988886178,
          0.006092975619269435,
          0.006092975619269435,
          0.006092975619269435,
          0.006092975619269435,
          0.006092975619269435,
          0.006092975619269435,
          0.006092975619269435,
          0.014310107876449315,
          0.013218658970618436,
          0.01218595123853887,
          0.008964377922603307,
          0.008713976304653493,
          0.008209482939647239,
          0.007799008792664877,
          0.0074990469160239204,
          0.006445461812119733,
          0.006092975619269435,
          0.006092975619269435,
          0.006092975619269435,
          0.006092975619269435,
          0.006092975619269435,
          0.006092975619269435,
          0.006092975619269435,
          0.006553788901399057,
          0.007427627421585597,
          0.007463166308770217,
          0.008166501353575788,
          0.006092975619269435,
          0.006366537789930512,
          0.006609329485309218,
          0.006665819480910151,
          0.006811361390973692,
          0.009068614875191717,
          0.009016195136028759,
          0.009569335941920094,
          0.010128582847616724,
          0.009810073953037582,
          0.009016195136028759,
          0.009396396135740816,
          0.01046846817807366,
          0.01122159538512932,
          0.09748760990831096,
          0.09748760990831096,
          0.09748760990831096,
          0.09748760990831096,
          0.008296817864537103,
          0.015292174103264465,
          0.010831956656478996,
          0.008713976304653493,
          0.008713976304653493,
          0.008964377922603307,
          0.008762931227713345,
          0.008040215250169977,
          0.0076837525050885485,
          0.0076837525050885485,
          0.007463166308770217,
          0.007608789066014514,
          0.007998983377092182,
          0.011062423819382805,
          0.01122159538512932,
          0.0116403116308431,
          0.012091486500255624,
          0.01257904643978206
         ]
        }
       ],
       "layout": {
        "margin": {
         "b": 0,
         "l": 0,
         "r": 0,
         "t": 0
        },
        "template": {
         "data": {
          "bar": [
           {
            "error_x": {
             "color": "#2a3f5f"
            },
            "error_y": {
             "color": "#2a3f5f"
            },
            "marker": {
             "line": {
              "color": "#E5ECF6",
              "width": 0.5
             }
            },
            "type": "bar"
           }
          ],
          "barpolar": [
           {
            "marker": {
             "line": {
              "color": "#E5ECF6",
              "width": 0.5
             }
            },
            "type": "barpolar"
           }
          ],
          "carpet": [
           {
            "aaxis": {
             "endlinecolor": "#2a3f5f",
             "gridcolor": "white",
             "linecolor": "white",
             "minorgridcolor": "white",
             "startlinecolor": "#2a3f5f"
            },
            "baxis": {
             "endlinecolor": "#2a3f5f",
             "gridcolor": "white",
             "linecolor": "white",
             "minorgridcolor": "white",
             "startlinecolor": "#2a3f5f"
            },
            "type": "carpet"
           }
          ],
          "choropleth": [
           {
            "colorbar": {
             "outlinewidth": 0,
             "ticks": ""
            },
            "type": "choropleth"
           }
          ],
          "contour": [
           {
            "colorbar": {
             "outlinewidth": 0,
             "ticks": ""
            },
            "colorscale": [
             [
              0,
              "#0d0887"
             ],
             [
              0.1111111111111111,
              "#46039f"
             ],
             [
              0.2222222222222222,
              "#7201a8"
             ],
             [
              0.3333333333333333,
              "#9c179e"
             ],
             [
              0.4444444444444444,
              "#bd3786"
             ],
             [
              0.5555555555555556,
              "#d8576b"
             ],
             [
              0.6666666666666666,
              "#ed7953"
             ],
             [
              0.7777777777777778,
              "#fb9f3a"
             ],
             [
              0.8888888888888888,
              "#fdca26"
             ],
             [
              1,
              "#f0f921"
             ]
            ],
            "type": "contour"
           }
          ],
          "contourcarpet": [
           {
            "colorbar": {
             "outlinewidth": 0,
             "ticks": ""
            },
            "type": "contourcarpet"
           }
          ],
          "heatmap": [
           {
            "colorbar": {
             "outlinewidth": 0,
             "ticks": ""
            },
            "colorscale": [
             [
              0,
              "#0d0887"
             ],
             [
              0.1111111111111111,
              "#46039f"
             ],
             [
              0.2222222222222222,
              "#7201a8"
             ],
             [
              0.3333333333333333,
              "#9c179e"
             ],
             [
              0.4444444444444444,
              "#bd3786"
             ],
             [
              0.5555555555555556,
              "#d8576b"
             ],
             [
              0.6666666666666666,
              "#ed7953"
             ],
             [
              0.7777777777777778,
              "#fb9f3a"
             ],
             [
              0.8888888888888888,
              "#fdca26"
             ],
             [
              1,
              "#f0f921"
             ]
            ],
            "type": "heatmap"
           }
          ],
          "heatmapgl": [
           {
            "colorbar": {
             "outlinewidth": 0,
             "ticks": ""
            },
            "colorscale": [
             [
              0,
              "#0d0887"
             ],
             [
              0.1111111111111111,
              "#46039f"
             ],
             [
              0.2222222222222222,
              "#7201a8"
             ],
             [
              0.3333333333333333,
              "#9c179e"
             ],
             [
              0.4444444444444444,
              "#bd3786"
             ],
             [
              0.5555555555555556,
              "#d8576b"
             ],
             [
              0.6666666666666666,
              "#ed7953"
             ],
             [
              0.7777777777777778,
              "#fb9f3a"
             ],
             [
              0.8888888888888888,
              "#fdca26"
             ],
             [
              1,
              "#f0f921"
             ]
            ],
            "type": "heatmapgl"
           }
          ],
          "histogram": [
           {
            "marker": {
             "colorbar": {
              "outlinewidth": 0,
              "ticks": ""
             }
            },
            "type": "histogram"
           }
          ],
          "histogram2d": [
           {
            "colorbar": {
             "outlinewidth": 0,
             "ticks": ""
            },
            "colorscale": [
             [
              0,
              "#0d0887"
             ],
             [
              0.1111111111111111,
              "#46039f"
             ],
             [
              0.2222222222222222,
              "#7201a8"
             ],
             [
              0.3333333333333333,
              "#9c179e"
             ],
             [
              0.4444444444444444,
              "#bd3786"
             ],
             [
              0.5555555555555556,
              "#d8576b"
             ],
             [
              0.6666666666666666,
              "#ed7953"
             ],
             [
              0.7777777777777778,
              "#fb9f3a"
             ],
             [
              0.8888888888888888,
              "#fdca26"
             ],
             [
              1,
              "#f0f921"
             ]
            ],
            "type": "histogram2d"
           }
          ],
          "histogram2dcontour": [
           {
            "colorbar": {
             "outlinewidth": 0,
             "ticks": ""
            },
            "colorscale": [
             [
              0,
              "#0d0887"
             ],
             [
              0.1111111111111111,
              "#46039f"
             ],
             [
              0.2222222222222222,
              "#7201a8"
             ],
             [
              0.3333333333333333,
              "#9c179e"
             ],
             [
              0.4444444444444444,
              "#bd3786"
             ],
             [
              0.5555555555555556,
              "#d8576b"
             ],
             [
              0.6666666666666666,
              "#ed7953"
             ],
             [
              0.7777777777777778,
              "#fb9f3a"
             ],
             [
              0.8888888888888888,
              "#fdca26"
             ],
             [
              1,
              "#f0f921"
             ]
            ],
            "type": "histogram2dcontour"
           }
          ],
          "mesh3d": [
           {
            "colorbar": {
             "outlinewidth": 0,
             "ticks": ""
            },
            "type": "mesh3d"
           }
          ],
          "parcoords": [
           {
            "line": {
             "colorbar": {
              "outlinewidth": 0,
              "ticks": ""
             }
            },
            "type": "parcoords"
           }
          ],
          "pie": [
           {
            "automargin": true,
            "type": "pie"
           }
          ],
          "scatter": [
           {
            "marker": {
             "colorbar": {
              "outlinewidth": 0,
              "ticks": ""
             }
            },
            "type": "scatter"
           }
          ],
          "scatter3d": [
           {
            "line": {
             "colorbar": {
              "outlinewidth": 0,
              "ticks": ""
             }
            },
            "marker": {
             "colorbar": {
              "outlinewidth": 0,
              "ticks": ""
             }
            },
            "type": "scatter3d"
           }
          ],
          "scattercarpet": [
           {
            "marker": {
             "colorbar": {
              "outlinewidth": 0,
              "ticks": ""
             }
            },
            "type": "scattercarpet"
           }
          ],
          "scattergeo": [
           {
            "marker": {
             "colorbar": {
              "outlinewidth": 0,
              "ticks": ""
             }
            },
            "type": "scattergeo"
           }
          ],
          "scattergl": [
           {
            "marker": {
             "colorbar": {
              "outlinewidth": 0,
              "ticks": ""
             }
            },
            "type": "scattergl"
           }
          ],
          "scattermapbox": [
           {
            "marker": {
             "colorbar": {
              "outlinewidth": 0,
              "ticks": ""
             }
            },
            "type": "scattermapbox"
           }
          ],
          "scatterpolar": [
           {
            "marker": {
             "colorbar": {
              "outlinewidth": 0,
              "ticks": ""
             }
            },
            "type": "scatterpolar"
           }
          ],
          "scatterpolargl": [
           {
            "marker": {
             "colorbar": {
              "outlinewidth": 0,
              "ticks": ""
             }
            },
            "type": "scatterpolargl"
           }
          ],
          "scatterternary": [
           {
            "marker": {
             "colorbar": {
              "outlinewidth": 0,
              "ticks": ""
             }
            },
            "type": "scatterternary"
           }
          ],
          "surface": [
           {
            "colorbar": {
             "outlinewidth": 0,
             "ticks": ""
            },
            "colorscale": [
             [
              0,
              "#0d0887"
             ],
             [
              0.1111111111111111,
              "#46039f"
             ],
             [
              0.2222222222222222,
              "#7201a8"
             ],
             [
              0.3333333333333333,
              "#9c179e"
             ],
             [
              0.4444444444444444,
              "#bd3786"
             ],
             [
              0.5555555555555556,
              "#d8576b"
             ],
             [
              0.6666666666666666,
              "#ed7953"
             ],
             [
              0.7777777777777778,
              "#fb9f3a"
             ],
             [
              0.8888888888888888,
              "#fdca26"
             ],
             [
              1,
              "#f0f921"
             ]
            ],
            "type": "surface"
           }
          ],
          "table": [
           {
            "cells": {
             "fill": {
              "color": "#EBF0F8"
             },
             "line": {
              "color": "white"
             }
            },
            "header": {
             "fill": {
              "color": "#C8D4E3"
             },
             "line": {
              "color": "white"
             }
            },
            "type": "table"
           }
          ]
         },
         "layout": {
          "annotationdefaults": {
           "arrowcolor": "#2a3f5f",
           "arrowhead": 0,
           "arrowwidth": 1
          },
          "coloraxis": {
           "colorbar": {
            "outlinewidth": 0,
            "ticks": ""
           }
          },
          "colorscale": {
           "diverging": [
            [
             0,
             "#8e0152"
            ],
            [
             0.1,
             "#c51b7d"
            ],
            [
             0.2,
             "#de77ae"
            ],
            [
             0.3,
             "#f1b6da"
            ],
            [
             0.4,
             "#fde0ef"
            ],
            [
             0.5,
             "#f7f7f7"
            ],
            [
             0.6,
             "#e6f5d0"
            ],
            [
             0.7,
             "#b8e186"
            ],
            [
             0.8,
             "#7fbc41"
            ],
            [
             0.9,
             "#4d9221"
            ],
            [
             1,
             "#276419"
            ]
           ],
           "sequential": [
            [
             0,
             "#0d0887"
            ],
            [
             0.1111111111111111,
             "#46039f"
            ],
            [
             0.2222222222222222,
             "#7201a8"
            ],
            [
             0.3333333333333333,
             "#9c179e"
            ],
            [
             0.4444444444444444,
             "#bd3786"
            ],
            [
             0.5555555555555556,
             "#d8576b"
            ],
            [
             0.6666666666666666,
             "#ed7953"
            ],
            [
             0.7777777777777778,
             "#fb9f3a"
            ],
            [
             0.8888888888888888,
             "#fdca26"
            ],
            [
             1,
             "#f0f921"
            ]
           ],
           "sequentialminus": [
            [
             0,
             "#0d0887"
            ],
            [
             0.1111111111111111,
             "#46039f"
            ],
            [
             0.2222222222222222,
             "#7201a8"
            ],
            [
             0.3333333333333333,
             "#9c179e"
            ],
            [
             0.4444444444444444,
             "#bd3786"
            ],
            [
             0.5555555555555556,
             "#d8576b"
            ],
            [
             0.6666666666666666,
             "#ed7953"
            ],
            [
             0.7777777777777778,
             "#fb9f3a"
            ],
            [
             0.8888888888888888,
             "#fdca26"
            ],
            [
             1,
             "#f0f921"
            ]
           ]
          },
          "colorway": [
           "#636efa",
           "#EF553B",
           "#00cc96",
           "#ab63fa",
           "#FFA15A",
           "#19d3f3",
           "#FF6692",
           "#B6E880",
           "#FF97FF",
           "#FECB52"
          ],
          "font": {
           "color": "#2a3f5f"
          },
          "geo": {
           "bgcolor": "white",
           "lakecolor": "white",
           "landcolor": "#E5ECF6",
           "showlakes": true,
           "showland": true,
           "subunitcolor": "white"
          },
          "hoverlabel": {
           "align": "left"
          },
          "hovermode": "closest",
          "mapbox": {
           "style": "light"
          },
          "paper_bgcolor": "white",
          "plot_bgcolor": "#E5ECF6",
          "polar": {
           "angularaxis": {
            "gridcolor": "white",
            "linecolor": "white",
            "ticks": ""
           },
           "bgcolor": "#E5ECF6",
           "radialaxis": {
            "gridcolor": "white",
            "linecolor": "white",
            "ticks": ""
           }
          },
          "scene": {
           "xaxis": {
            "backgroundcolor": "#E5ECF6",
            "gridcolor": "white",
            "gridwidth": 2,
            "linecolor": "white",
            "showbackground": true,
            "ticks": "",
            "zerolinecolor": "white"
           },
           "yaxis": {
            "backgroundcolor": "#E5ECF6",
            "gridcolor": "white",
            "gridwidth": 2,
            "linecolor": "white",
            "showbackground": true,
            "ticks": "",
            "zerolinecolor": "white"
           },
           "zaxis": {
            "backgroundcolor": "#E5ECF6",
            "gridcolor": "white",
            "gridwidth": 2,
            "linecolor": "white",
            "showbackground": true,
            "ticks": "",
            "zerolinecolor": "white"
           }
          },
          "shapedefaults": {
           "line": {
            "color": "#2a3f5f"
           }
          },
          "ternary": {
           "aaxis": {
            "gridcolor": "white",
            "linecolor": "white",
            "ticks": ""
           },
           "baxis": {
            "gridcolor": "white",
            "linecolor": "white",
            "ticks": ""
           },
           "bgcolor": "#E5ECF6",
           "caxis": {
            "gridcolor": "white",
            "linecolor": "white",
            "ticks": ""
           }
          },
          "title": {
           "x": 0.05
          },
          "xaxis": {
           "automargin": true,
           "gridcolor": "white",
           "linecolor": "white",
           "ticks": "",
           "title": {
            "standoff": 15
           },
           "zerolinecolor": "white",
           "zerolinewidth": 2
          },
          "yaxis": {
           "automargin": true,
           "gridcolor": "white",
           "linecolor": "white",
           "ticks": "",
           "title": {
            "standoff": 15
           },
           "zerolinecolor": "white",
           "zerolinewidth": 2
          }
         }
        }
       }
      },
      "text/html": [
       "<div>\n",
       "        \n",
       "        \n",
       "            <div id=\"ac319cdc-0bc6-45d9-9538-1a69d75b267c\" class=\"plotly-graph-div\" style=\"height:525px; width:100%;\"></div>\n",
       "            <script type=\"text/javascript\">\n",
       "                require([\"plotly\"], function(Plotly) {\n",
       "                    window.PLOTLYENV=window.PLOTLYENV || {};\n",
       "                    \n",
       "                if (document.getElementById(\"ac319cdc-0bc6-45d9-9538-1a69d75b267c\")) {\n",
       "                    Plotly.newPlot(\n",
       "                        'ac319cdc-0bc6-45d9-9538-1a69d75b267c',\n",
       "                        [{\"marker\": {\"opacity\": 0.8, \"size\": 5}, \"mode\": \"markers\", \"type\": \"scatter3d\", \"x\": [0.0046484375, 0.0046875, 0.004765625, 0.0048449612403100775, 0.0048828125, 0.004921875, 0.004883720930232558, 0.0048449612403100775, 0.004807692307692308, 0.0045864661654135335, 0.004583333333333333, 0.00220703125, 0.0021875, 0.00216796875, 0.0021484375, 0.00212890625, 0.002109375, 0.00208984375, 0.004908256880733945, 0.004491525423728814, 0.004140625, 0.0029310344827586207, 0.0028212290502793295, 0.002631578947368421, 0.002475, 0.0023557692307692307, 0.0019008264462809918, 0.00177734375, 0.0017578125, 0.00173828125, 0.00171875, 0.0016796875, 0.0016796875, 0.00166015625, 0.0017857142857142857, 0.002, 0.0020095693779904307, 0.002225130890052356, 0.0015234375, 0.0015510204081632653, 0.0015677966101694915, 0.0015811965811965813, 0.001593886462882096, 0.0021220930232558138, 0.0021387283236994218, 0.0022699386503067485, 0.0025, 0.0024842767295597482, 0.0023121387283236996, 0.0025, 0.0028187919463087247, 0.0030575539568345324, 0.026875, 0.0271875, 0.0275, 0.0275, 0.0023670212765957445, 0.004362745098039216, 0.003125, 0.002597765363128492, 0.0026256983240223464, 0.0028160919540229884, 0.0027808988764044945, 0.002603092783505155, 0.0025123152709359605, 0.0025615763546798028, 0.002583732057416268, 0.002634146341463415, 0.0027948717948717947, 0.003971631205673759, 0.004064748201438849, 0.004253731343283582, 0.004496124031007752, 0.004717741935483871], \"y\": [0.002734375, 0.0026953125, 0.0026953125, 0.0025581395348837207, 0.0025390625, 0.0025, 0.0022868217054263567, 0.002248062015503876, 0.002192307692307692, 0.002030075187969925, 0.0020454545454545456, 0.00103515625, 0.0010546875, 0.0010546875, 0.00107421875, 0.0010546875, 0.0010546875, 0.00103515625, 0.002018348623853211, 0.0018220338983050846, 0.001640625, 0.0010919540229885056, 0.0010614525139664805, 0.0009736842105263158, 0.000925, 0.0008653846153846154, 0.0007438016528925619, 0.00072265625, 0.00072265625, 0.0007421875, 0.0007421875, 0.00078125, 0.00080078125, 0.0008203125, 0.0009033613445378151, 0.0010476190476190477, 0.0011961722488038277, 0.0013350785340314137, 0.0010546875, 0.0011224489795918367, 0.0012076271186440678, 0.0012393162393162394, 0.0012882096069868996, 0.0018604651162790699, 0.0018786127167630057, 0.0020245398773006133, 0.0022402597402597403, 0.002169811320754717, 0.002023121387283237, 0.002108433734939759, 0.002315436241610738, 0.0024820143884892085, 0.02125, 0.02125, 0.0209375, 0.020625, 0.001728723404255319, 0.002892156862745098, 0.002013888888888889, 0.0016201117318435754, 0.0016480446927374301, 0.0016954022988505746, 0.0016292134831460674, 0.0014948453608247423, 0.0014039408866995074, 0.0014039408866995074, 0.0014354066985645933, 0.0015121951219512196, 0.0016153846153846153, 0.0024113475177304964, 0.002446043165467626, 0.002574626865671642, 0.002674418604651163, 0.00282258064516129], \"z\": [0.01218595123853887, 0.01218595123853887, 0.01218595123853887, 0.012091486500255624, 0.01218595123853887, 0.01218595123853887, 0.012091486500255624, 0.012091486500255624, 0.011998475065638272, 0.011727832770924627, 0.011816679988886178, 0.006092975619269435, 0.006092975619269435, 0.006092975619269435, 0.006092975619269435, 0.006092975619269435, 0.006092975619269435, 0.006092975619269435, 0.014310107876449315, 0.013218658970618436, 0.01218595123853887, 0.008964377922603307, 0.008713976304653493, 0.008209482939647239, 0.007799008792664877, 0.0074990469160239204, 0.006445461812119733, 0.006092975619269435, 0.006092975619269435, 0.006092975619269435, 0.006092975619269435, 0.006092975619269435, 0.006092975619269435, 0.006092975619269435, 0.006553788901399057, 0.007427627421585597, 0.007463166308770217, 0.008166501353575788, 0.006092975619269435, 0.006366537789930512, 0.006609329485309218, 0.006665819480910151, 0.006811361390973692, 0.009068614875191717, 0.009016195136028759, 0.009569335941920094, 0.010128582847616724, 0.009810073953037582, 0.009016195136028759, 0.009396396135740816, 0.01046846817807366, 0.01122159538512932, 0.09748760990831096, 0.09748760990831096, 0.09748760990831096, 0.09748760990831096, 0.008296817864537103, 0.015292174103264465, 0.010831956656478996, 0.008713976304653493, 0.008713976304653493, 0.008964377922603307, 0.008762931227713345, 0.008040215250169977, 0.0076837525050885485, 0.0076837525050885485, 0.007463166308770217, 0.007608789066014514, 0.007998983377092182, 0.011062423819382805, 0.01122159538512932, 0.0116403116308431, 0.012091486500255624, 0.01257904643978206]}],\n",
       "                        {\"margin\": {\"b\": 0, \"l\": 0, \"r\": 0, \"t\": 0}, \"template\": {\"data\": {\"bar\": [{\"error_x\": {\"color\": \"#2a3f5f\"}, \"error_y\": {\"color\": \"#2a3f5f\"}, \"marker\": {\"line\": {\"color\": \"#E5ECF6\", \"width\": 0.5}}, \"type\": \"bar\"}], \"barpolar\": [{\"marker\": {\"line\": {\"color\": \"#E5ECF6\", \"width\": 0.5}}, \"type\": \"barpolar\"}], \"carpet\": [{\"aaxis\": {\"endlinecolor\": \"#2a3f5f\", \"gridcolor\": \"white\", \"linecolor\": \"white\", \"minorgridcolor\": \"white\", \"startlinecolor\": \"#2a3f5f\"}, \"baxis\": {\"endlinecolor\": \"#2a3f5f\", \"gridcolor\": \"white\", \"linecolor\": \"white\", \"minorgridcolor\": \"white\", \"startlinecolor\": \"#2a3f5f\"}, \"type\": \"carpet\"}], \"choropleth\": [{\"colorbar\": {\"outlinewidth\": 0, \"ticks\": \"\"}, \"type\": \"choropleth\"}], \"contour\": [{\"colorbar\": {\"outlinewidth\": 0, \"ticks\": \"\"}, \"colorscale\": [[0.0, \"#0d0887\"], [0.1111111111111111, \"#46039f\"], [0.2222222222222222, \"#7201a8\"], [0.3333333333333333, \"#9c179e\"], [0.4444444444444444, \"#bd3786\"], [0.5555555555555556, \"#d8576b\"], [0.6666666666666666, \"#ed7953\"], [0.7777777777777778, \"#fb9f3a\"], [0.8888888888888888, \"#fdca26\"], [1.0, \"#f0f921\"]], \"type\": \"contour\"}], \"contourcarpet\": [{\"colorbar\": {\"outlinewidth\": 0, \"ticks\": \"\"}, \"type\": \"contourcarpet\"}], \"heatmap\": [{\"colorbar\": {\"outlinewidth\": 0, \"ticks\": \"\"}, \"colorscale\": [[0.0, \"#0d0887\"], [0.1111111111111111, \"#46039f\"], [0.2222222222222222, \"#7201a8\"], [0.3333333333333333, \"#9c179e\"], [0.4444444444444444, \"#bd3786\"], [0.5555555555555556, \"#d8576b\"], [0.6666666666666666, \"#ed7953\"], [0.7777777777777778, \"#fb9f3a\"], [0.8888888888888888, \"#fdca26\"], [1.0, \"#f0f921\"]], \"type\": \"heatmap\"}], \"heatmapgl\": [{\"colorbar\": {\"outlinewidth\": 0, \"ticks\": \"\"}, \"colorscale\": [[0.0, \"#0d0887\"], [0.1111111111111111, \"#46039f\"], [0.2222222222222222, \"#7201a8\"], [0.3333333333333333, \"#9c179e\"], [0.4444444444444444, \"#bd3786\"], [0.5555555555555556, \"#d8576b\"], [0.6666666666666666, \"#ed7953\"], [0.7777777777777778, \"#fb9f3a\"], [0.8888888888888888, \"#fdca26\"], [1.0, \"#f0f921\"]], \"type\": \"heatmapgl\"}], \"histogram\": [{\"marker\": {\"colorbar\": {\"outlinewidth\": 0, \"ticks\": \"\"}}, \"type\": \"histogram\"}], \"histogram2d\": [{\"colorbar\": {\"outlinewidth\": 0, \"ticks\": \"\"}, \"colorscale\": [[0.0, \"#0d0887\"], [0.1111111111111111, \"#46039f\"], [0.2222222222222222, \"#7201a8\"], [0.3333333333333333, \"#9c179e\"], [0.4444444444444444, \"#bd3786\"], [0.5555555555555556, \"#d8576b\"], [0.6666666666666666, \"#ed7953\"], [0.7777777777777778, \"#fb9f3a\"], [0.8888888888888888, \"#fdca26\"], [1.0, \"#f0f921\"]], \"type\": \"histogram2d\"}], \"histogram2dcontour\": [{\"colorbar\": {\"outlinewidth\": 0, \"ticks\": \"\"}, \"colorscale\": [[0.0, \"#0d0887\"], [0.1111111111111111, \"#46039f\"], [0.2222222222222222, \"#7201a8\"], [0.3333333333333333, \"#9c179e\"], [0.4444444444444444, \"#bd3786\"], [0.5555555555555556, \"#d8576b\"], [0.6666666666666666, \"#ed7953\"], [0.7777777777777778, \"#fb9f3a\"], [0.8888888888888888, \"#fdca26\"], [1.0, \"#f0f921\"]], \"type\": \"histogram2dcontour\"}], \"mesh3d\": [{\"colorbar\": {\"outlinewidth\": 0, \"ticks\": \"\"}, \"type\": \"mesh3d\"}], \"parcoords\": [{\"line\": {\"colorbar\": {\"outlinewidth\": 0, \"ticks\": \"\"}}, \"type\": \"parcoords\"}], \"pie\": [{\"automargin\": true, \"type\": \"pie\"}], \"scatter\": [{\"marker\": {\"colorbar\": {\"outlinewidth\": 0, \"ticks\": \"\"}}, \"type\": \"scatter\"}], \"scatter3d\": [{\"line\": {\"colorbar\": {\"outlinewidth\": 0, \"ticks\": \"\"}}, \"marker\": {\"colorbar\": {\"outlinewidth\": 0, \"ticks\": \"\"}}, \"type\": \"scatter3d\"}], \"scattercarpet\": [{\"marker\": {\"colorbar\": {\"outlinewidth\": 0, \"ticks\": \"\"}}, \"type\": \"scattercarpet\"}], \"scattergeo\": [{\"marker\": {\"colorbar\": {\"outlinewidth\": 0, \"ticks\": \"\"}}, \"type\": \"scattergeo\"}], \"scattergl\": [{\"marker\": {\"colorbar\": {\"outlinewidth\": 0, \"ticks\": \"\"}}, \"type\": \"scattergl\"}], \"scattermapbox\": [{\"marker\": {\"colorbar\": {\"outlinewidth\": 0, \"ticks\": \"\"}}, \"type\": \"scattermapbox\"}], \"scatterpolar\": [{\"marker\": {\"colorbar\": {\"outlinewidth\": 0, \"ticks\": \"\"}}, \"type\": \"scatterpolar\"}], \"scatterpolargl\": [{\"marker\": {\"colorbar\": {\"outlinewidth\": 0, \"ticks\": \"\"}}, \"type\": \"scatterpolargl\"}], \"scatterternary\": [{\"marker\": {\"colorbar\": {\"outlinewidth\": 0, \"ticks\": \"\"}}, \"type\": \"scatterternary\"}], \"surface\": [{\"colorbar\": {\"outlinewidth\": 0, \"ticks\": \"\"}, \"colorscale\": [[0.0, \"#0d0887\"], [0.1111111111111111, \"#46039f\"], [0.2222222222222222, \"#7201a8\"], [0.3333333333333333, \"#9c179e\"], [0.4444444444444444, \"#bd3786\"], [0.5555555555555556, \"#d8576b\"], [0.6666666666666666, \"#ed7953\"], [0.7777777777777778, \"#fb9f3a\"], [0.8888888888888888, \"#fdca26\"], [1.0, \"#f0f921\"]], \"type\": \"surface\"}], \"table\": [{\"cells\": {\"fill\": {\"color\": \"#EBF0F8\"}, \"line\": {\"color\": \"white\"}}, \"header\": {\"fill\": {\"color\": \"#C8D4E3\"}, \"line\": {\"color\": \"white\"}}, \"type\": \"table\"}]}, \"layout\": {\"annotationdefaults\": {\"arrowcolor\": \"#2a3f5f\", \"arrowhead\": 0, \"arrowwidth\": 1}, \"coloraxis\": {\"colorbar\": {\"outlinewidth\": 0, \"ticks\": \"\"}}, \"colorscale\": {\"diverging\": [[0, \"#8e0152\"], [0.1, \"#c51b7d\"], [0.2, \"#de77ae\"], [0.3, \"#f1b6da\"], [0.4, \"#fde0ef\"], [0.5, \"#f7f7f7\"], [0.6, \"#e6f5d0\"], [0.7, \"#b8e186\"], [0.8, \"#7fbc41\"], [0.9, \"#4d9221\"], [1, \"#276419\"]], \"sequential\": [[0.0, \"#0d0887\"], [0.1111111111111111, \"#46039f\"], [0.2222222222222222, \"#7201a8\"], [0.3333333333333333, \"#9c179e\"], [0.4444444444444444, \"#bd3786\"], [0.5555555555555556, \"#d8576b\"], [0.6666666666666666, \"#ed7953\"], [0.7777777777777778, \"#fb9f3a\"], [0.8888888888888888, \"#fdca26\"], [1.0, \"#f0f921\"]], \"sequentialminus\": [[0.0, \"#0d0887\"], [0.1111111111111111, \"#46039f\"], [0.2222222222222222, \"#7201a8\"], [0.3333333333333333, \"#9c179e\"], [0.4444444444444444, \"#bd3786\"], [0.5555555555555556, \"#d8576b\"], [0.6666666666666666, \"#ed7953\"], [0.7777777777777778, \"#fb9f3a\"], [0.8888888888888888, \"#fdca26\"], [1.0, \"#f0f921\"]]}, \"colorway\": [\"#636efa\", \"#EF553B\", \"#00cc96\", \"#ab63fa\", \"#FFA15A\", \"#19d3f3\", \"#FF6692\", \"#B6E880\", \"#FF97FF\", \"#FECB52\"], \"font\": {\"color\": \"#2a3f5f\"}, \"geo\": {\"bgcolor\": \"white\", \"lakecolor\": \"white\", \"landcolor\": \"#E5ECF6\", \"showlakes\": true, \"showland\": true, \"subunitcolor\": \"white\"}, \"hoverlabel\": {\"align\": \"left\"}, \"hovermode\": \"closest\", \"mapbox\": {\"style\": \"light\"}, \"paper_bgcolor\": \"white\", \"plot_bgcolor\": \"#E5ECF6\", \"polar\": {\"angularaxis\": {\"gridcolor\": \"white\", \"linecolor\": \"white\", \"ticks\": \"\"}, \"bgcolor\": \"#E5ECF6\", \"radialaxis\": {\"gridcolor\": \"white\", \"linecolor\": \"white\", \"ticks\": \"\"}}, \"scene\": {\"xaxis\": {\"backgroundcolor\": \"#E5ECF6\", \"gridcolor\": \"white\", \"gridwidth\": 2, \"linecolor\": \"white\", \"showbackground\": true, \"ticks\": \"\", \"zerolinecolor\": \"white\"}, \"yaxis\": {\"backgroundcolor\": \"#E5ECF6\", \"gridcolor\": \"white\", \"gridwidth\": 2, \"linecolor\": \"white\", \"showbackground\": true, \"ticks\": \"\", \"zerolinecolor\": \"white\"}, \"zaxis\": {\"backgroundcolor\": \"#E5ECF6\", \"gridcolor\": \"white\", \"gridwidth\": 2, \"linecolor\": \"white\", \"showbackground\": true, \"ticks\": \"\", \"zerolinecolor\": \"white\"}}, \"shapedefaults\": {\"line\": {\"color\": \"#2a3f5f\"}}, \"ternary\": {\"aaxis\": {\"gridcolor\": \"white\", \"linecolor\": \"white\", \"ticks\": \"\"}, \"baxis\": {\"gridcolor\": \"white\", \"linecolor\": \"white\", \"ticks\": \"\"}, \"bgcolor\": \"#E5ECF6\", \"caxis\": {\"gridcolor\": \"white\", \"linecolor\": \"white\", \"ticks\": \"\"}}, \"title\": {\"x\": 0.05}, \"xaxis\": {\"automargin\": true, \"gridcolor\": \"white\", \"linecolor\": \"white\", \"ticks\": \"\", \"title\": {\"standoff\": 15}, \"zerolinecolor\": \"white\", \"zerolinewidth\": 2}, \"yaxis\": {\"automargin\": true, \"gridcolor\": \"white\", \"linecolor\": \"white\", \"ticks\": \"\", \"title\": {\"standoff\": 15}, \"zerolinecolor\": \"white\", \"zerolinewidth\": 2}}}},\n",
       "                        {\"responsive\": true}\n",
       "                    ).then(function(){\n",
       "                            \n",
       "var gd = document.getElementById('ac319cdc-0bc6-45d9-9538-1a69d75b267c');\n",
       "var x = new MutationObserver(function (mutations, observer) {{\n",
       "        var display = window.getComputedStyle(gd).display;\n",
       "        if (!display || display === 'none') {{\n",
       "            console.log([gd, 'removed!']);\n",
       "            Plotly.purge(gd);\n",
       "            observer.disconnect();\n",
       "        }}\n",
       "}});\n",
       "\n",
       "// Listen for the removal of the full notebook cells\n",
       "var notebookContainer = gd.closest('#notebook-container');\n",
       "if (notebookContainer) {{\n",
       "    x.observe(notebookContainer, {childList: true});\n",
       "}}\n",
       "\n",
       "// Listen for the clearing of the current output cell\n",
       "var outputEl = gd.closest('.output');\n",
       "if (outputEl) {{\n",
       "    x.observe(outputEl, {childList: true});\n",
       "}}\n",
       "\n",
       "                        })\n",
       "                };\n",
       "                });\n",
       "            </script>\n",
       "        </div>"
      ]
     },
     "metadata": {},
     "output_type": "display_data"
    }
   ],
   "source": [
    "import plotly\n",
    "import plotly.graph_objects as go \n",
    "\n",
    "plotly.offline.init_notebook_mode()\n",
    "trace = go.Scatter3d(\n",
    "    x = [pt[0] for pt in bowl_pts_cam],\n",
    "    y = [pt[1] for pt in bowl_pts_cam],\n",
    "    z = [pt[2] for pt in bowl_pts_cam],\n",
    "    mode = 'markers', \n",
    "    marker = {\n",
    "            'size': 5,\n",
    "            'opacity': 0.8,\n",
    "        })\n",
    "\n",
    "layout = go.Layout(\n",
    "    margin={'l': 0, 'r': 0, 'b': 0, 't': 0}\n",
    "\n",
    ")\n",
    "\n",
    "data = [trace]\n",
    "plot_figure = go.Figure(data=data, layout=layout)\n",
    "plotly.offline.iplot(plot_figure)\n",
    "# StereoSGBM officially a failed experiment\n",
    "# the point cloud plot is pretty cool though"
   ]
  },
  {
   "cell_type": "code",
   "execution_count": 37,
   "metadata": {},
   "outputs": [
    {
     "data": {
      "text/plain": [
       "[   -0.888332,     0.12878,     1.03925]"
      ]
     },
     "execution_count": 37,
     "metadata": {},
     "output_type": "execute_result"
    }
   ],
   "source": [
    "from feature_processor import FeatureType\n",
    "bowl_obj = None\n",
    "for obj in objects:\n",
    "    if obj.type == FeatureType.BOWL:\n",
    "        bowl_obj = obj\n",
    "bowl_obj.pos"
   ]
  },
  {
   "cell_type": "code",
   "execution_count": 38,
   "metadata": {},
   "outputs": [
    {
     "data": {
      "text/plain": [
       "True"
      ]
     },
     "execution_count": 38,
     "metadata": {},
     "output_type": "execute_result"
    }
   ],
   "source": [
    "bowl_pos_cam = PyKDL.Vector(*bowl_obj.pos)\n",
    "bowl_pos_world = tf_jp21_to_world * (tf_cam_to_jp21 * bowl_pos_cam)\n",
    "bowl_pos_psm2_main = PSM_J1_TO_BASE_LINK_TF * (tf_world_to_psm2_j1 * bowl_pos_world)\n",
    "# add a little bit to the z-axis to avoid hitting the bowl\n",
    "dest_psm2 = bowl_pos_psm2_main + PyKDL.Vector(0, 0, 0.1)\n",
    "psm2.move(dest_psm2)\n",
    "psm2.open_jaw()"
   ]
  },
  {
   "cell_type": "code",
   "execution_count": null,
   "metadata": {},
   "outputs": [],
   "source": []
  }
 ],
 "metadata": {
  "jupytext": {
   "text_representation": {
    "extension": ".py",
    "format_name": "light",
    "format_version": "1.5",
    "jupytext_version": "1.4.2"
   }
  },
  "kernelspec": {
   "display_name": "Python 2",
   "language": "python",
   "name": "python2"
  },
  "language_info": {
   "codemirror_mode": {
    "name": "ipython",
    "version": 2
   },
   "file_extension": ".py",
   "mimetype": "text/x-python",
   "name": "python",
   "nbconvert_exporter": "python",
   "pygments_lexer": "ipython2",
   "version": "2.7.18"
  }
 },
 "nbformat": 4,
 "nbformat_minor": 2
}
