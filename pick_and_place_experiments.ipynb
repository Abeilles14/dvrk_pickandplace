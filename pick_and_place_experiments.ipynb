{
 "cells": [
  {
   "cell_type": "code",
   "execution_count": 4,
   "metadata": {},
   "outputs": [],
   "source": [
    "import jupyros as jr\n",
    "import rospy\n",
    "import numpy as np\n",
    "from sensor_msgs import msg\n",
    "import cv2\n",
    "import cv_bridge\n",
    "from copy import deepcopy\n",
    "import ipywidgets as widgets\n",
    "from IPython.display import clear_output, Image, display\n",
    "import PIL.Image\n",
    "from cStringIO import StringIO\n",
    "import matplotlib.pyplot as plt\n",
    "import dvrk\n",
    "import PyKDL\n",
    "import tf\n",
    "from tf_conversions import posemath"
   ]
  },
  {
   "cell_type": "code",
   "execution_count": 5,
   "metadata": {},
   "outputs": [],
   "source": [
    "rospy.init_node('notebook')"
   ]
  },
  {
   "cell_type": "code",
   "execution_count": 6,
   "metadata": {},
   "outputs": [
    {
     "data": {
      "text/plain": [
       "[['/dvrk/setup_joint/robot_state', 'std_msgs/String'],\n",
       " ['/dvrk/PSM1/current_state', 'std_msgs/String'],\n",
       " ['/dvrk/ECM/wrench_body_current', 'geometry_msgs/WrenchStamped'],\n",
       " ['/stereo/right/image_flipped', 'sensor_msgs/Image'],\n",
       " ['/dvrk/PSM3/goal_reached', 'std_msgs/Bool'],\n",
       " ['/dvrk/PSM2/position_cartesian_local_current', 'geometry_msgs/PoseStamped'],\n",
       " ['/dvrk/SUJ/ECM/position_cartesian_local_current',\n",
       "  'geometry_msgs/PoseStamped'],\n",
       " ['/dvrk/SUJ/PSM2/position_cartesian_current', 'geometry_msgs/PoseStamped'],\n",
       " ['/dvrk/PSM3/state_joint_current', 'sensor_msgs/JointState'],\n",
       " ['/dvrk/console/teleop/teleop_psm_selected', 'diagnostic_msgs/KeyValue'],\n",
       " ['/dvrk/PSM2/joint_velocity_ratio', 'std_msgs/Float64'],\n",
       " ['/dvrk/PSM3/current_state', 'std_msgs/String'],\n",
       " ['/dvrk/PSM3/manip_clutch', 'std_msgs/Bool'],\n",
       " ['/dvrk/PSM3/position_cartesian_current', 'geometry_msgs/PoseStamped'],\n",
       " ['/dvrk/ECM/state_joint_desired', 'sensor_msgs/JointState'],\n",
       " ['/dvrk/console/teleop/teleop_psm_unselected', 'diagnostic_msgs/KeyValue'],\n",
       " ['/dvrk/PSM2/position_cartesian_desired', 'geometry_msgs/PoseStamped'],\n",
       " ['/dvrk/ECM/position_cartesian_local_current', 'geometry_msgs/PoseStamped'],\n",
       " ['/dvrk/PSM1/status', 'std_msgs/String'],\n",
       " ['/tf', 'tf2_msgs/TFMessage'],\n",
       " ['/dvrk/tf_broadcast/period_statistics', 'cisst_msgs/mtsIntervalStatistics'],\n",
       " ['/dvrk/PSM1/joint_velocity_ratio', 'std_msgs/Float64'],\n",
       " ['/dvrk/PSM1/desired_state', 'std_msgs/String'],\n",
       " ['/dvrk/PSM3/state_jaw_desired', 'sensor_msgs/JointState'],\n",
       " ['/dvrk/SUJ/PSM3/position_cartesian_local_current',\n",
       "  'geometry_msgs/PoseStamped'],\n",
       " ['/dvrk/ECM/position_cartesian_current', 'geometry_msgs/PoseStamped'],\n",
       " ['/dvrk/SUJ/PSM1/position_cartesian_local_current',\n",
       "  'geometry_msgs/PoseStamped'],\n",
       " ['/dvrk/PSM1/position_cartesian_local_desired', 'geometry_msgs/PoseStamped'],\n",
       " ['/dvrk/PSM2/position_cartesian_local_desired', 'geometry_msgs/PoseStamped'],\n",
       " ['/dvrk/PSM1/wrench_body_current', 'geometry_msgs/WrenchStamped'],\n",
       " ['/dvrk/PSM2/robot_state', 'std_msgs/String'],\n",
       " ['/dvrk/SUJ/ECM/position_cartesian_current', 'geometry_msgs/PoseStamped'],\n",
       " ['/dvrk/ECM/status', 'std_msgs/String'],\n",
       " ['/dvrk/ECM/current_state', 'std_msgs/String'],\n",
       " ['/dvrk/PSM1/jacobian_body', 'std_msgs/Float64MultiArray'],\n",
       " ['/dvrk/ECM/joint_velocity_ratio', 'std_msgs/Float64'],\n",
       " ['/dvrk/PSM2/current_state', 'std_msgs/String'],\n",
       " ['/dvrk/PSM1/error', 'std_msgs/String'],\n",
       " ['/dvrk/PSM1/twist_body_current', 'geometry_msgs/TwistStamped'],\n",
       " ['/stereo/left/image_raw', 'sensor_msgs/Image'],\n",
       " ['/dvrk/PSM3/jacobian_spatial', 'std_msgs/Float64MultiArray'],\n",
       " ['/dvrk/ECM/manip_clutch', 'sensor_msgs/Joy'],\n",
       " ['/dvrk/PSM2/desired_state', 'std_msgs/String'],\n",
       " ['/dvrk/PSM3/position_cartesian_local_desired', 'geometry_msgs/PoseStamped'],\n",
       " ['/dvrk/SUJ/PSM2/position_cartesian_local_current',\n",
       "  'geometry_msgs/PoseStamped'],\n",
       " ['/dvrk/PSM3/jacobian_body', 'std_msgs/Float64MultiArray'],\n",
       " ['/dvrk/PSM1/state_joint_desired', 'sensor_msgs/JointState'],\n",
       " ['/dvrk/ECM/twist_body_current', 'geometry_msgs/TwistStamped'],\n",
       " ['/dvrk/SUJ/PSM1/state_joint_current', 'sensor_msgs/JointState'],\n",
       " ['/dvrk/PSM2/manip_clutch', 'std_msgs/Bool'],\n",
       " ['/dvrk/PSM2/error', 'std_msgs/String'],\n",
       " ['/dvrk/ECM/position_cartesian_desired', 'geometry_msgs/PoseStamped'],\n",
       " ['/stereo/right/camera_info', 'sensor_msgs/CameraInfo'],\n",
       " ['/dvrk/PSM2/wrench_body_current', 'geometry_msgs/WrenchStamped'],\n",
       " ['/dvrk/PSM3/state_jaw_current', 'sensor_msgs/JointState'],\n",
       " ['/dvrk/PSM3/joint_acceleration_ratio', 'std_msgs/Float64'],\n",
       " ['/dvrk/PSM2/state_jaw_current', 'sensor_msgs/JointState'],\n",
       " ['/dvrk/PSM3/desired_state', 'std_msgs/String'],\n",
       " ['/dvrk/PSM1/manip_clutch', 'std_msgs/Bool'],\n",
       " ['/stereo/left/camera_info', 'sensor_msgs/CameraInfo'],\n",
       " ['/dvrk/PSM1/position_cartesian_desired', 'geometry_msgs/PoseStamped'],\n",
       " ['/dvrk/PSM2/jacobian_spatial', 'std_msgs/Float64MultiArray'],\n",
       " ['/dvrk/spin/period_statistics', 'cisst_msgs/mtsIntervalStatistics'],\n",
       " ['/dvrk/ECM/state_joint_current', 'sensor_msgs/JointState'],\n",
       " ['/dvrk/PSM3/twist_body_current', 'geometry_msgs/TwistStamped'],\n",
       " ['/rosout', 'rosgraph_msgs/Log'],\n",
       " ['/dvrk/PSM2/warning', 'std_msgs/String'],\n",
       " ['/dvrk/PSM3/warning', 'std_msgs/String'],\n",
       " ['/dvrk/PSM2/goal_reached', 'std_msgs/Bool'],\n",
       " ['/dvrk/PSM2/joint_acceleration_ratio', 'std_msgs/Float64'],\n",
       " ['/dvrk/PSM2/jacobian_body', 'std_msgs/Float64MultiArray'],\n",
       " ['/dvrk/PSM2/status', 'std_msgs/String'],\n",
       " ['/dvrk/PSM3/status', 'std_msgs/String'],\n",
       " ['/dvrk/ECM/joint_acceleration_ratio', 'std_msgs/Float64'],\n",
       " ['/dvrk/PSM2/state_joint_current', 'sensor_msgs/JointState'],\n",
       " ['/dvrk/PSM1/goal_reached', 'std_msgs/Bool'],\n",
       " ['/dvrk/PSM1/state_joint_current', 'sensor_msgs/JointState'],\n",
       " ['/dvrk/SUJ/PSM3/state_joint_current', 'sensor_msgs/JointState'],\n",
       " ['/dvrk/PSM1/jacobian_spatial', 'std_msgs/Float64MultiArray'],\n",
       " ['/rosout_agg', 'rosgraph_msgs/Log'],\n",
       " ['/dvrk/PSM2/state_joint_desired', 'sensor_msgs/JointState'],\n",
       " ['/dvrk/SUJ/PSM2/state_joint_current', 'sensor_msgs/JointState'],\n",
       " ['/dvrk/PSM3/state_joint_desired', 'sensor_msgs/JointState'],\n",
       " ['/dvrk/PSM1/joint_acceleration_ratio', 'std_msgs/Float64'],\n",
       " ['/dvrk/SUJ/PSM1/position_cartesian_current', 'geometry_msgs/PoseStamped'],\n",
       " ['/dvrk/ECM/desired_state', 'std_msgs/String'],\n",
       " ['/dvrk/PSM3/error', 'std_msgs/String'],\n",
       " ['/dvrk/PSM2/state_jaw_desired', 'sensor_msgs/JointState'],\n",
       " ['/dvrk/PSM1/position_cartesian_local_current', 'geometry_msgs/PoseStamped'],\n",
       " ['/dvrk/ECM/warning', 'std_msgs/String'],\n",
       " ['/dvrk/ECM/jacobian_spatial', 'std_msgs/Float64MultiArray'],\n",
       " ['/stereo/left/image_flipped', 'sensor_msgs/Image'],\n",
       " ['/dvrk/ECM/goal_reached', 'std_msgs/Bool'],\n",
       " ['/dvrk/PSM3/wrench_body_current', 'geometry_msgs/WrenchStamped'],\n",
       " ['/dvrk/PSM1/state_jaw_current', 'sensor_msgs/JointState'],\n",
       " ['/dvrk/setup_joint/state_joint_current', 'sensor_msgs/JointState'],\n",
       " ['/dvrk/PSM3/joint_velocity_ratio', 'std_msgs/Float64'],\n",
       " ['/dvrk/publishers/period_statistics', 'cisst_msgs/mtsIntervalStatistics'],\n",
       " ['/dvrk/PSM1/warning', 'std_msgs/String'],\n",
       " ['/dvrk/ECM/error', 'std_msgs/String'],\n",
       " ['/dvrk/console/teleop/scale', 'std_msgs/Float32'],\n",
       " ['/dvrk/PSM1/position_cartesian_current', 'geometry_msgs/PoseStamped'],\n",
       " ['/stereo/right/image_raw', 'sensor_msgs/Image'],\n",
       " ['/dvrk/PSM3/position_cartesian_desired', 'geometry_msgs/PoseStamped'],\n",
       " ['/dvrk/PSM3/position_cartesian_local_current', 'geometry_msgs/PoseStamped'],\n",
       " ['/dvrk/SUJ/PSM3/position_cartesian_current', 'geometry_msgs/PoseStamped'],\n",
       " ['/dvrk/SUJ/ECM/state_joint_current', 'sensor_msgs/JointState'],\n",
       " ['/dvrk/ECM/position_cartesian_local_desired', 'geometry_msgs/PoseStamped'],\n",
       " ['/dvrk/ECM/jacobian_body', 'std_msgs/Float64MultiArray'],\n",
       " ['/dvrk/PSM1/state_jaw_desired', 'sensor_msgs/JointState'],\n",
       " ['/dvrk/PSM2/twist_body_current', 'geometry_msgs/TwistStamped'],\n",
       " ['/dvrk/PSM2/position_cartesian_current', 'geometry_msgs/PoseStamped']]"
      ]
     },
     "execution_count": 6,
     "metadata": {},
     "output_type": "execute_result"
    }
   ],
   "source": [
    "rospy.get_published_topics()"
   ]
  },
  {
   "cell_type": "code",
   "execution_count": 7,
   "metadata": {},
   "outputs": [],
   "source": [
    "import time\n",
    "\n",
    "bridge = cv_bridge.CvBridge()\n",
    "left_image = None\n",
    "left_image_msg = None\n",
    "left_camera_info = None\n",
    "\n",
    "right_image = None\n",
    "right_image_msg = None\n",
    "right_camera_info = None\n",
    "\n",
    "def left_image_callback(im_msg):\n",
    "    global left_image, left_image_msg\n",
    "    left_image = bridge.imgmsg_to_cv2(im_msg, desired_encoding='rgb8')\n",
    "    left_image_msg = im_msg\n",
    "    \n",
    "def right_image_callback(im_msg):\n",
    "    global right_image, right_image_msg\n",
    "    right_image = bridge.imgmsg_to_cv2(im_msg, desired_encoding='rgb8')\n",
    "    right_image_msg = im_msg\n",
    "    \n",
    "def left_camera_info_callback(camera_info_msg):\n",
    "    global left_camera_info\n",
    "    left_camera_info = camera_info_msg\n",
    "    \n",
    "def right_camera_info_callback(camera_info_msg):\n",
    "    global right_camera_info\n",
    "    right_camera_info = camera_info_msg\n",
    "    \n",
    "jr.subscribe('/stereo/left/image_flipped', msg.Image, left_image_callback)\n",
    "jr.subscribe('/stereo/left/camera_info', msg.CameraInfo, left_camera_info_callback)\n",
    "jr.subscribe('/stereo/right/image_flipped', msg.Image, right_image_callback)\n",
    "jr.subscribe('/stereo/right/camera_info', msg.CameraInfo, right_camera_info_callback)\n",
    "\n",
    "while left_image is None or right_image is None:\n",
    "    print(\"left or right image not receieved\")\n",
    "    time.sleep(0.5)"
   ]
  },
  {
   "cell_type": "code",
   "execution_count": 8,
   "metadata": {},
   "outputs": [
    {
     "data": {
      "text/plain": [
       "<matplotlib.image.AxesImage at 0x7f2bee27bf90>"
      ]
     },
     "execution_count": 8,
     "metadata": {},
     "output_type": "execute_result"
    },
    {
     "data": {
      "image/png": "[encoded data removed]",
      "text/plain": [
       "<Figure size 432x288 with 1 Axes>"
      ]
     },
     "metadata": {
      "needs_background": "light"
     },
     "output_type": "display_data"
    }
   ],
   "source": [
    "plt.imshow(left_image)"
   ]
  },
  {
   "cell_type": "code",
   "execution_count": 9,
   "metadata": {},
   "outputs": [
    {
     "data": {
      "text/plain": [
       "<matplotlib.image.AxesImage at 0x7f2bee17ca10>"
      ]
     },
     "execution_count": 9,
     "metadata": {},
     "output_type": "execute_result"
    },
    {
     "data": {
      "image/png": "[encoded data removed]",
      "text/plain": [
       "<Figure size 432x288 with 1 Axes>"
      ]
     },
     "metadata": {
      "needs_background": "light"
     },
     "output_type": "display_data"
    }
   ],
   "source": [
    "plt.imshow(right_image)"
   ]
  },
  {
   "cell_type": "code",
   "execution_count": 10,
   "metadata": {},
   "outputs": [
    {
     "name": "stdout",
     "output_type": "stream",
     "text": [
      "LEFT CAM\n",
      "header: \n",
      "  seq: 3619\n",
      "  stamp: \n",
      "    secs: 1617695351\n",
      "    nsecs:  77624083\n",
      "  frame_id: \"left_camera\"\n",
      "height: 288\n",
      "width: 360\n",
      "distortion_model: \"plumb_bob\"\n",
      "D: [0.0, 0.0, 0.0, 0.0, 0.0]\n",
      "K: [311.9603517065951, 0.0, 180.0, 0.0, 311.9603517065951, 144.0, 0.0, 0.0, 1.0]\n",
      "R: [1.0, 0.0, 0.0, 0.0, 1.0, 0.0, 0.0, 0.0, 1.0]\n",
      "P: [311.9603517065951, 0.0, 180.0, 0.0, 0.0, 311.9603517065951, 144.0, 0.0, 0.0, 0.0, 1.0, 0.0]\n",
      "binning_x: 1\n",
      "binning_y: 1\n",
      "roi: \n",
      "  x_offset: 0\n",
      "  y_offset: 0\n",
      "  height: 0\n",
      "  width: 0\n",
      "  do_rectify: True\n",
      "RIGHT_CAM\n",
      "header: \n",
      "  seq: 3619\n",
      "  stamp: \n",
      "    secs: 1617695351\n",
      "    nsecs:  77624083\n",
      "  frame_id: \"right_camera\"\n",
      "height: 288\n",
      "width: 360\n",
      "distortion_model: \"plumb_bob\"\n",
      "D: [0.0, 0.0, 0.0, 0.0, 0.0]\n",
      "K: [311.9603517065951, 0.0, 180.0, 0.0, 311.9603517065951, 144.0, 0.0, 0.0, 1.0]\n",
      "R: [1.0, 0.0, 0.0, 0.0, 1.0, 0.0, 0.0, 0.0, 1.0]\n",
      "P: [311.9603517065951, 0.0, 180.0, -1.5598017585329753, 0.0, 311.9603517065951, 144.0, 0.0, 0.0, 0.0, 1.0, 0.0]\n",
      "binning_x: 1\n",
      "binning_y: 1\n",
      "roi: \n",
      "  x_offset: 0\n",
      "  y_offset: 0\n",
      "  height: 0\n",
      "  width: 0\n",
      "  do_rectify: True\n"
     ]
    }
   ],
   "source": [
    "print(\"LEFT CAM\")\n",
    "print(left_camera_info)\n",
    "print(\"RIGHT_CAM\")\n",
    "print(right_camera_info)"
   ]
  },
  {
   "cell_type": "code",
   "execution_count": 11,
   "metadata": {},
   "outputs": [],
   "source": [
    "psm1 = None \n",
    "ecm = None\n",
    "suj = None\n",
    "debug_output = widgets.Output(layout={'border': '1px solid black'})\n",
    "\n",
    "with debug_output:\n",
    "    global psm1, ecm\n",
    "    psm1 = dvrk.psm('PSM1')\n",
    "    ecm = dvrk.ecm('ECM')\n",
    "    psm2 = dvrk.psm('PSM2')\n",
    "\n",
    "HARDCODED_ECM_POS = np.array([0.0, 0.0, 0.04, 0.0])"
   ]
  },
  {
   "cell_type": "code",
   "execution_count": 12,
   "metadata": {},
   "outputs": [],
   "source": [
    "tf_listener = tf.TransformListener()"
   ]
  },
  {
   "cell_type": "code",
   "execution_count": 13,
   "metadata": {},
   "outputs": [
    {
     "name": "stderr",
     "output_type": "stream",
     "text": [
      "/home/iandre/dvrk_ws/src/geometry/tf/src/tf/listener.py:97: YAMLLoadWarning: calling yaml.load() without Loader=... is deprecated, as the default Loader is unsafe. Please read https://msg.pyyaml.org/load for full details.\n",
      "  data = yaml.load(self._buffer.all_frames_as_yaml()) or {}\n"
     ]
    },
    {
     "data": {
      "text/plain": [
       "['PSM2_base',\n",
       " 'PSM3_base',\n",
       " 'PSM1_RCM',\n",
       " 'PSM1',\n",
       " 'PSM2',\n",
       " 'PSM3',\n",
       " 'ecm_insertion_link',\n",
       " 'Vision_sensor_left',\n",
       " 'simworld',\n",
       " 'ECM_RCM',\n",
       " 'ECM_base',\n",
       " 'ECM',\n",
       " 'Jp21_ECM',\n",
       " 'camera',\n",
       " 'PSM1_base',\n",
       " 'PSM3_RCM',\n",
       " 'PSM2_RCM',\n",
       " 'J1_PSM1',\n",
       " 'ecm_pitch_link_1',\n",
       " 'J1_PSM2']"
      ]
     },
     "execution_count": 13,
     "metadata": {},
     "output_type": "execute_result"
    }
   ],
   "source": [
    "tf_listener.getFrameStrings()"
   ]
  },
  {
   "cell_type": "code",
   "execution_count": 14,
   "metadata": {},
   "outputs": [
    {
     "data": {
      "text/plain": [
       "True"
      ]
     },
     "execution_count": 14,
     "metadata": {},
     "output_type": "execute_result"
    }
   ],
   "source": [
    "import time\n",
    "time.sleep(1)\n",
    "ecm.move_joint(HARDCODED_ECM_POS)"
   ]
  },
  {
   "cell_type": "code",
   "execution_count": 15,
   "metadata": {
    "scrolled": true
   },
   "outputs": [
    {
     "name": "stdout",
     "output_type": "stream",
     "text": [
      "[    -1.46149,  0.00644616,    0.655595]\n"
     ]
    },
    {
     "data": {
      "text/plain": [
       "<matplotlib.image.AxesImage at 0x7f2ae8066a50>"
      ]
     },
     "execution_count": 15,
     "metadata": {},
     "output_type": "execute_result"
    },
    {
     "data": {
      "image/png": "[encoded data removed]",
      "text/plain": [
       "<Figure size 720x360 with 1 Axes>"
      ]
     },
     "metadata": {
      "needs_background": "light"
     },
     "output_type": "display_data"
    }
   ],
   "source": [
    "pick_and_place_utils = None\n",
    "from pick_and_place_utils import get_objects_and_img, tf_to_pykdl_frame, PSM_J1_TO_BASE_LINK_TF\n",
    "import image_geometry\n",
    "\n",
    "stereo_cam = image_geometry.StereoCameraModel()\n",
    "stereo_cam.fromCameraInfo(left_camera_info, right_camera_info)\n",
    "\n",
    "tf_cam_to_world = tf_to_pykdl_frame(tf_listener.lookupTransform('simworld', 'Vision_sensor_left', rospy.Time()))\n",
    "tf_world_to_psm1 = \\\n",
    "    tf_to_pykdl_frame(tf_listener.lookupTransform('PSM1_base', 'simworld', rospy.Time()))\n",
    "tf_world_to_psm2 = \\\n",
    "    tf_to_pykdl_frame(tf_listener.lookupTransform('PSM2_base', 'simworld', rospy.Time()))\n",
    "\n",
    "objects, left_frame = get_objects_and_img(left_image_msg, right_image_msg, stereo_cam, tf_cam_to_world)\n",
    "\n",
    "ball_pos_cam = objects[0].pos\n",
    "print(ball_pos_cam)\n",
    "\n",
    "plt.figure(figsize=(10, 5))\n",
    "plt.imshow(left_frame)\n",
    "# depth error experiments\n",
    "# (-0.02772727272727273, 0.009545454545454546, 0.14180015986663413) {-0.02987164259, 0.01018744707, 0.1481492519}\n",
    "# (-0.028636363636363637, 0.01, 0.14180015986663413) {-0.02869459987, 0.009940028191, 0.1379978657} \n",
    "# (-0.013333333333333334, 0.010416666666666666, 0.12998347987774794) {-0.01380112767, 0.009659290314, 0.1300171614} \n",
    "# (0.04038461538461539, 0.008076923076923077, 0.11998475065638273) {-0.009348809719, 0.01096570492, 0.1307697296} "
   ]
  },
  {
   "cell_type": "code",
   "execution_count": 16,
   "metadata": {},
   "outputs": [
    {
     "data": {
      "text/plain": [
       "[    -1.46149,  0.00644616,    0.655595]"
      ]
     },
     "execution_count": 16,
     "metadata": {},
     "output_type": "execute_result"
    }
   ],
   "source": [
    "ball_pos_cam = PyKDL.Vector(*ball_pos_cam)\n",
    "tf_cam_to_jp21 = tf_to_pykdl_frame(tf_listener.lookupTransform('ecm_pitch_link_1', 'camera', rospy.Time()))\n",
    "ball_pos_jp21 = tf_cam_to_jp21 * ball_pos_cam\n",
    "ball_pos_jp21"
   ]
  },
  {
   "cell_type": "code",
   "execution_count": 17,
   "metadata": {},
   "outputs": [
    {
     "data": {
      "text/plain": [
       "([0.0, 0.0, 0.0], [0.0, 0.0, 0.0, 1.0])"
      ]
     },
     "execution_count": 17,
     "metadata": {},
     "output_type": "execute_result"
    }
   ],
   "source": [
    "# did this to confirm that the /tf transforms provided by dVRK are within margin of error of \n",
    "# actual sim coordinates\n",
    "tf_insertion_to_jp21 = tf_listener.lookupTransform('ecm_pitch_link_1', 'ecm_insertion_link', rospy.Time())\n",
    "tf_insertion_to_jp21"
   ]
  },
  {
   "cell_type": "code",
   "execution_count": 18,
   "metadata": {},
   "outputs": [
    {
     "data": {
      "text/plain": [
       "[    -2.55274,    -0.61582,     0.27293]"
      ]
     },
     "execution_count": 18,
     "metadata": {},
     "output_type": "execute_result"
    }
   ],
   "source": [
    "tf_jp21_to_world = tf_to_pykdl_frame(tf_listener.lookupTransform('world', 'Jp21_ECM', rospy.Time()))\n",
    "ball_pos_world = tf_jp21_to_world * ball_pos_jp21\n",
    "# i'm a winner\n",
    "ball_pos_world"
   ]
  },
  {
   "cell_type": "code",
   "execution_count": 19,
   "metadata": {},
   "outputs": [
    {
     "data": {
      "text/plain": [
       "[    0.362233,     0.52628,    -1.20936]"
      ]
     },
     "execution_count": 19,
     "metadata": {},
     "output_type": "execute_result"
    }
   ],
   "source": [
    "tf_world_to_psm2_j1 = tf_to_pykdl_frame(tf_listener.lookupTransform('J1_PSM2', 'world', rospy.Time()))\n",
    "ball_pos_psm2_j1 = tf_world_to_psm2_j1 * ball_pos_world\n",
    "# ok not off by *too* much\n",
    "ball_pos_psm2_j1"
   ]
  },
  {
   "cell_type": "code",
   "execution_count": 20,
   "metadata": {},
   "outputs": [
    {
     "data": {
      "text/plain": [
       "[   -0.362233,     1.20936,    -0.52628]"
      ]
     },
     "execution_count": 20,
     "metadata": {},
     "output_type": "execute_result"
    }
   ],
   "source": [
    "ball_pos_psm2_main = PSM_J1_TO_BASE_LINK_TF * ball_pos_psm2_j1\n",
    "ball_pos_psm2_main"
   ]
  },
  {
   "cell_type": "markdown",
   "metadata": {},
   "source": [
    "#### "
   ]
  },
  {
   "cell_type": "code",
   "execution_count": 21,
   "metadata": {},
   "outputs": [
    {
     "data": {
      "text/plain": [
       "[    -1.95009,  -0.0927861,   -0.792173]"
      ]
     },
     "execution_count": 21,
     "metadata": {},
     "output_type": "execute_result"
    }
   ],
   "source": [
    "psm2_rot = psm2.get_current_position().M\n",
    "psm2_pos = psm2.get_current_position().p\n",
    "psm2_pos"
   ]
  },
  {
   "cell_type": "code",
   "execution_count": 22,
   "metadata": {},
   "outputs": [
    {
     "data": {
      "text/plain": [
       "True"
      ]
     },
     "execution_count": 22,
     "metadata": {},
     "output_type": "execute_result"
    }
   ],
   "source": [
    "psm2.move(ball_pos_psm2_main)"
   ]
  },
  {
   "cell_type": "code",
   "execution_count": 23,
   "metadata": {},
   "outputs": [],
   "source": [
    "cam_z_vec_world = (tf_jp21_to_world * tf_cam_to_jp21).M * PyKDL.Vector(0, 0, 1.0)\n",
    "cam_z_vec_psm2_main = (PSM_J1_TO_BASE_LINK_TF * tf_world_to_psm2_j1).M * cam_z_vec_world"
   ]
  },
  {
   "cell_type": "code",
   "execution_count": null,
   "metadata": {},
   "outputs": [],
   "source": [
    "psm2.move_joint_one(0., 5)\n",
    "psm2.open_jaw()\n",
    "psm2.dmove(0.03 * cam_z_vec_psm2_main)\n",
    "psm2.close_jaw()"
   ]
  },
  {
   "cell_type": "code",
   "execution_count": 28,
   "metadata": {},
   "outputs": [
    {
     "data": {
      "text/plain": [
       "True"
      ]
     },
     "execution_count": 28,
     "metadata": {},
     "output_type": "execute_result"
    }
   ],
   "source": [
    "psm2.dmove( PyKDL.Vector(0, 0, 0.1))"
   ]
  },
  {
   "cell_type": "code",
   "execution_count": 29,
   "metadata": {},
   "outputs": [
    {
     "data": {
      "text/plain": [
       "<matplotlib.colorbar.Colorbar at 0x7fe9a809d9d0>"
      ]
     },
     "execution_count": 29,
     "metadata": {},
     "output_type": "execute_result"
    },
    {
     "data": {
      "image/png": "[encoded data removed]",
      "text/plain": [
       "<Figure size 432x288 with 2 Axes>"
      ]
     },
     "metadata": {
      "needs_background": "light"
     },
     "output_type": "display_data"
    }
   ],
   "source": [
    "stereo = cv2.StereoSGBM_create(minDisparity=1, numDisparities=16, blockSize=5)\n",
    "\n",
    "left_image_bw = cv2.cvtColor(left_image, cv2.COLOR_RGB2GRAY)\n",
    "right_image_bw = cv2.cvtColor(right_image, cv2.COLOR_RGB2GRAY)\n",
    "disparity_map = stereo.compute(left_image_bw, right_image_bw)\n",
    "plt.imshow(disparity_map)\n",
    "plt.colorbar()"
   ]
  },
  {
   "cell_type": "code",
   "execution_count": 30,
   "metadata": {
    "lines_to_next_cell": 0
   },
   "outputs": [
    {
     "name": "stdout",
     "output_type": "stream",
     "text": [
      "[[[190 226]]\n",
      "\n",
      " [[189 227]]\n",
      "\n",
      " [[188 227]]\n",
      "\n",
      " [[187 228]]\n",
      "\n",
      " [[186 228]]\n",
      "\n",
      " [[185 229]]\n",
      "\n",
      " [[185 230]]\n",
      "\n",
      " [[183 232]]\n",
      "\n",
      " [[183 234]]\n",
      "\n",
      " [[182 235]]\n",
      "\n",
      " [[182 240]]\n",
      "\n",
      " [[183 241]]\n",
      "\n",
      " [[183 243]]\n",
      "\n",
      " [[184 244]]\n",
      "\n",
      " [[184 245]]\n",
      "\n",
      " [[187 248]]\n",
      "\n",
      " [[188 248]]\n",
      "\n",
      " [[189 249]]\n",
      "\n",
      " [[190 249]]\n",
      "\n",
      " [[191 250]]\n",
      "\n",
      " [[196 250]]\n",
      "\n",
      " [[197 249]]\n",
      "\n",
      " [[199 249]]\n",
      "\n",
      " [[200 248]]\n",
      "\n",
      " [[202 248]]\n",
      "\n",
      " [[205 251]]\n",
      "\n",
      " [[205 252]]\n",
      "\n",
      " [[204 253]]\n",
      "\n",
      " [[204 255]]\n",
      "\n",
      " [[203 256]]\n",
      "\n",
      " [[203 264]]\n",
      "\n",
      " [[204 265]]\n",
      "\n",
      " [[204 267]]\n",
      "\n",
      " [[205 268]]\n",
      "\n",
      " [[205 269]]\n",
      "\n",
      " [[206 270]]\n",
      "\n",
      " [[206 271]]\n",
      "\n",
      " [[208 273]]\n",
      "\n",
      " [[208 274]]\n",
      "\n",
      " [[209 274]]\n",
      "\n",
      " [[212 277]]\n",
      "\n",
      " [[213 277]]\n",
      "\n",
      " [[214 278]]\n",
      "\n",
      " [[216 278]]\n",
      "\n",
      " [[217 279]]\n",
      "\n",
      " [[224 279]]\n",
      "\n",
      " [[225 278]]\n",
      "\n",
      " [[227 278]]\n",
      "\n",
      " [[228 277]]\n",
      "\n",
      " [[229 277]]\n",
      "\n",
      " [[234 272]]\n",
      "\n",
      " [[234 271]]\n",
      "\n",
      " [[235 270]]\n",
      "\n",
      " [[235 269]]\n",
      "\n",
      " [[236 268]]\n",
      "\n",
      " [[236 265]]\n",
      "\n",
      " [[237 264]]\n",
      "\n",
      " [[237 260]]\n",
      "\n",
      " [[236 259]]\n",
      "\n",
      " [[236 256]]\n",
      "\n",
      " [[235 255]]\n",
      "\n",
      " [[235 254]]\n",
      "\n",
      " [[234 253]]\n",
      "\n",
      " [[234 252]]\n",
      "\n",
      " [[237 249]]\n",
      "\n",
      " [[239 251]]\n",
      "\n",
      " [[240 251]]\n",
      "\n",
      " [[241 252]]\n",
      "\n",
      " [[248 252]]\n",
      "\n",
      " [[249 251]]\n",
      "\n",
      " [[250 251]]\n",
      "\n",
      " [[251 250]]\n",
      "\n",
      " [[252 250]]\n",
      "\n",
      " [[253 249]]\n",
      "\n",
      " [[253 248]]\n",
      "\n",
      " [[255 246]]\n",
      "\n",
      " [[255 244]]\n",
      "\n",
      " [[256 243]]\n",
      "\n",
      " [[256 238]]\n",
      "\n",
      " [[255 237]]\n",
      "\n",
      " [[255 235]]\n",
      "\n",
      " [[253 233]]\n",
      "\n",
      " [[253 232]]\n",
      "\n",
      " [[251 230]]\n",
      "\n",
      " [[250 230]]\n",
      "\n",
      " [[249 229]]\n",
      "\n",
      " [[248 229]]\n",
      "\n",
      " [[247 228]]\n",
      "\n",
      " [[240 228]]\n",
      "\n",
      " [[239 229]]\n",
      "\n",
      " [[238 229]]\n",
      "\n",
      " [[237 230]]\n",
      "\n",
      " [[236 230]]\n",
      "\n",
      " [[234 232]]\n",
      "\n",
      " [[234 233]]\n",
      "\n",
      " [[233 234]]\n",
      "\n",
      " [[233 235]]\n",
      "\n",
      " [[232 236]]\n",
      "\n",
      " [[232 243]]\n",
      "\n",
      " [[230 245]]\n",
      "\n",
      " [[229 245]]\n",
      "\n",
      " [[228 246]]\n",
      "\n",
      " [[227 245]]\n",
      "\n",
      " [[226 245]]\n",
      "\n",
      " [[225 244]]\n",
      "\n",
      " [[222 244]]\n",
      "\n",
      " [[221 243]]\n",
      "\n",
      " [[217 243]]\n",
      "\n",
      " [[216 244]]\n",
      "\n",
      " [[213 244]]\n",
      "\n",
      " [[212 245]]\n",
      "\n",
      " [[210 245]]\n",
      "\n",
      " [[209 244]]\n",
      "\n",
      " [[208 244]]\n",
      "\n",
      " [[205 241]]\n",
      "\n",
      " [[205 234]]\n",
      "\n",
      " [[204 233]]\n",
      "\n",
      " [[204 232]]\n",
      "\n",
      " [[203 231]]\n",
      "\n",
      " [[203 230]]\n",
      "\n",
      " [[201 228]]\n",
      "\n",
      " [[200 228]]\n",
      "\n",
      " [[199 227]]\n",
      "\n",
      " [[198 227]]\n",
      "\n",
      " [[197 226]]]\n",
      "208\n",
      "244\n",
      "244\n",
      "180\n",
      "167\n",
      "167\n",
      "230\n",
      "244\n",
      "256\n",
      "256\n",
      "245\n",
      "256\n",
      "256\n",
      "256\n",
      "256\n",
      "256\n",
      "256\n",
      "256\n",
      "256\n",
      "256\n",
      "256\n",
      "256\n",
      "256\n",
      "256\n",
      "256\n",
      "256\n",
      "256\n",
      "133\n",
      "70\n",
      "70\n",
      "16\n",
      "45\n",
      "46\n",
      "49\n",
      "50\n",
      "16\n",
      "43\n",
      "190\n",
      "192\n",
      "50\n",
      "86\n",
      "213\n",
      "208\n",
      "49\n",
      "51\n",
      "192\n",
      "256\n",
      "256\n",
      "256\n",
      "256\n",
      "48\n",
      "48\n",
      "51\n",
      "79\n",
      "256\n",
      "256\n",
      "256\n",
      "126\n",
      "139\n",
      "146\n",
      "168\n",
      "256\n",
      "256\n",
      "224\n",
      "48\n",
      "48\n",
      "51\n",
      "129\n",
      "49\n",
      "48\n",
      "256\n",
      "256\n",
      "256\n",
      "256\n",
      "49\n",
      "256\n",
      "151\n",
      "146\n",
      "116\n",
      "51\n"
     ]
    },
    {
     "data": {
      "text/plain": [
       "<matplotlib.collections.PathCollection at 0x7fe86be27590>"
      ]
     },
     "execution_count": 30,
     "metadata": {},
     "output_type": "execute_result"
    },
    {
     "data": {
      "image/png": "[encoded data removed]",
      "text/plain": [
       "<Figure size 432x288 with 1 Axes>"
      ]
     },
     "metadata": {
      "needs_background": "light"
     },
     "output_type": "display_data"
    }
   ],
   "source": [
    "from feature_processor import feature_processor\n",
    "from pick_and_place_utils import FEAT_PATHS, CV_TO_CAM_FRAME_ROT\n",
    "fp = feature_processor(FEAT_PATHS)\n",
    "feats, frame = fp.FindImageFeatures(left_image_msg)\n",
    "bowl = max(feats, key=lambda feat : cv2.contourArea(feat.contour))\n",
    "bowl_pts_cam = []\n",
    "print(bowl.contour)\n",
    "\n",
    "for pt_ in bowl.contour:\n",
    "    pt = tuple(np.clip(pt_[0], (0, 0), np.array(left_image_bw.shape) - np.array([1, 1])))\n",
    "    disparity = disparity_map[pt]\n",
    "    if disparity < 1:\n",
    "        continue\n",
    "    print(disparity)\n",
    "    cam_xyz = stereo_cam.projectPixelTo3d(pt, disparity)\n",
    "    cam_pt = np.matmul(CV_TO_CAM_FRAME_ROT, cam_xyz)\n",
    "    bowl_pts_cam.append(PyKDL.Vector(*cam_pt))\n",
    "\n",
    "plt.scatter([pt[0] for pt in bowl_pts_cam], [pt[1] for pt in bowl_pts_cam])"
   ]
  },
  {
   "cell_type": "code",
   "execution_count": 31,
   "metadata": {
    "lines_to_next_cell": 2,
    "scrolled": false
   },
   "outputs": [
    {
     "data": {
      "application/vnd.plotly.v1+json": {
       "config": {
        "linkText": "Export to plot.ly",
        "plotlyServerURL": "https://plot.ly",
        "showLink": false
       },
       "data": [
        {
         "marker": {
          "opacity": 0.8,
          "size": 5
         },
         "mode": "markers",
         "type": "scatter3d",
         "x": [
          -0.00021634615384615385,
          -4.098360655737705e-05,
          -6.147540983606557e-05,
          -8.333333333333333e-05,
          -0.00011976047904191617,
          -0.00011976047904191617,
          -0.00015217391304347825,
          -0.0001639344262295082,
          -0.00017578125,
          -0.0001953125,
          -0.00022448979591836734,
          -0.0003125,
          -0.00033203125,
          -0.00037109375,
          -0.000390625,
          -0.0004296875,
          -0.00048828125,
          -0.00048828125,
          -0.00046875,
          -0.00046875,
          -0.00044921875,
          -0.00044921875,
          -0.00046875,
          -0.00046875,
          -0.00048828125,
          -0.00048828125,
          -0.0005078125,
          -0.0009774436090225565,
          -0.002,
          -0.002,
          -0.01,
          -0.0036666666666666666,
          -0.0036956521739130435,
          -0.003673469387755102,
          -0.0037,
          -0.01375,
          -0.005232558139534884,
          -0.0012631578947368421,
          -0.0012760416666666666,
          -0.0055,
          -0.0032558139534883722,
          -0.0013145539906103286,
          -0.0013701923076923077,
          -0.005816326530612245,
          -0.005490196078431373,
          -0.0014583333333333334,
          -0.00107421875,
          -0.00115234375,
          -0.001171875,
          -0.00119140625,
          -0.0078125,
          -0.007916666666666667,
          -0.007450980392156863,
          -0.004746835443037975,
          -0.0013671875,
          -0.00134765625,
          -0.001328125,
          -0.002380952380952381,
          -0.0021223021582733813,
          -0.0019863013698630137,
          -0.0016964285714285714,
          -0.00109375,
          -0.0010546875,
          -0.0012053571428571428,
          -0.005520833333333333,
          -0.005520833333333333,
          -0.005098039215686275,
          -0.0020155038759689923,
          -0.004285714285714286,
          -0.004270833333333333,
          -0.00072265625,
          -0.000703125,
          -0.00064453125,
          -0.000625,
          -0.003061224489795918,
          -0.00048828125,
          -0.0007947019867549669,
          -0.0007876712328767124,
          -0.0009913793103448277,
          -0.0016666666666666668
         ],
         "y": [
          -0.0019951923076923076,
          -0.0019672131147540984,
          -0.001987704918032787,
          -0.00275,
          -0.0029940119760479044,
          -0.0030239520958083833,
          -0.002260869565217391,
          -0.0021311475409836068,
          -0.00205078125,
          -0.00205078125,
          -0.002163265306122449,
          -0.0020703125,
          -0.00205078125,
          -0.00205078125,
          -0.00203125,
          -0.00203125,
          -0.00208984375,
          -0.002109375,
          -0.00212890625,
          -0.00216796875,
          -0.0021875,
          -0.00234375,
          -0.00236328125,
          -0.00240234375,
          -0.002421875,
          -0.00244140625,
          -0.0024609375,
          -0.004774436090225564,
          -0.009214285714285715,
          -0.009285714285714286,
          -0.0415625,
          -0.014777777777777779,
          -0.014565217391304348,
          -0.013673469387755101,
          -0.0135,
          -0.0421875,
          -0.015581395348837209,
          -0.0035,
          -0.003463541666666667,
          -0.0126,
          -0.007209302325581395,
          -0.00284037558685446,
          -0.0028846153846153848,
          -0.01183673469387755,
          -0.011274509803921568,
          -0.002916666666666667,
          -0.00216796875,
          -0.00208984375,
          -0.00208984375,
          -0.002109375,
          -0.010416666666666666,
          -0.0103125,
          -0.009215686274509804,
          -0.005886075949367089,
          -0.0016796875,
          -0.00166015625,
          -0.00166015625,
          -0.0033333333333333335,
          -0.0030575539568345324,
          -0.0029109589041095892,
          -0.0025595238095238097,
          -0.0016796875,
          -0.00171875,
          -0.001986607142857143,
          -0.009375,
          -0.009479166666666667,
          -0.009019607843137255,
          -0.0038372093023255815,
          -0.01020408163265306,
          -0.0103125,
          -0.00193359375,
          -0.001953125,
          -0.001953125,
          -0.00197265625,
          -0.010306122448979592,
          -0.00189453125,
          -0.002913907284768212,
          -0.0029794520547945205,
          -0.003706896551724138,
          -0.00803921568627451
         ],
         "z": [
          0.0074990469160239204,
          0.00639263015792203,
          0.00639263015792203,
          0.008665565325183196,
          0.00934013029061662,
          0.00934013029061662,
          0.006781746776230327,
          0.00639263015792203,
          0.006092975619269435,
          0.006092975619269435,
          0.006366537789930512,
          0.006092975619269435,
          0.006092975619269435,
          0.006092975619269435,
          0.006092975619269435,
          0.006092975619269435,
          0.006092975619269435,
          0.006092975619269435,
          0.006092975619269435,
          0.006092975619269435,
          0.006092975619269435,
          0.006092975619269435,
          0.006092975619269435,
          0.006092975619269435,
          0.006092975619269435,
          0.006092975619269435,
          0.006092975619269435,
          0.011727832770924627,
          0.02228288226475679,
          0.02228288226475679,
          0.09748760990831096,
          0.034662261300732786,
          0.03390873388115164,
          0.031832688949652556,
          0.031196035170659508,
          0.09748760990831096,
          0.03627445950076687,
          0.008209482939647239,
          0.008123967492359246,
          0.031196035170659508,
          0.018137229750383434,
          0.007323012950859039,
          0.0074990469160239204,
          0.031832688949652556,
          0.03058434820652893,
          0.008123967492359246,
          0.006092975619269435,
          0.006092975619269435,
          0.006092975619269435,
          0.006092975619269435,
          0.032495869969436986,
          0.032495869969436986,
          0.03058434820652893,
          0.019744326057379434,
          0.006092975619269435,
          0.006092975619269435,
          0.006092975619269435,
          0.012379379035975996,
          0.01122159538512932,
          0.010683573688582023,
          0.009284534276981997,
          0.006092975619269435,
          0.006092975619269435,
          0.006963400707736498,
          0.032495869969436986,
          0.032495869969436986,
          0.03058434820652893,
          0.012091486500255624,
          0.031832688949652556,
          0.032495869969436986,
          0.006092975619269435,
          0.006092975619269435,
          0.006092975619269435,
          0.006092975619269435,
          0.031832688949652556,
          0.006092975619269435,
          0.010329812970417055,
          0.010683573688582023,
          0.01344656688390496,
          0.03058434820652893
         ]
        }
       ],
       "layout": {
        "margin": {
         "b": 0,
         "l": 0,
         "r": 0,
         "t": 0
        },
        "template": {
         "data": {
          "bar": [
           {
            "error_x": {
             "color": "#2a3f5f"
            },
            "error_y": {
             "color": "#2a3f5f"
            },
            "marker": {
             "line": {
              "color": "#E5ECF6",
              "width": 0.5
             }
            },
            "type": "bar"
           }
          ],
          "barpolar": [
           {
            "marker": {
             "line": {
              "color": "#E5ECF6",
              "width": 0.5
             }
            },
            "type": "barpolar"
           }
          ],
          "carpet": [
           {
            "aaxis": {
             "endlinecolor": "#2a3f5f",
             "gridcolor": "white",
             "linecolor": "white",
             "minorgridcolor": "white",
             "startlinecolor": "#2a3f5f"
            },
            "baxis": {
             "endlinecolor": "#2a3f5f",
             "gridcolor": "white",
             "linecolor": "white",
             "minorgridcolor": "white",
             "startlinecolor": "#2a3f5f"
            },
            "type": "carpet"
           }
          ],
          "choropleth": [
           {
            "colorbar": {
             "outlinewidth": 0,
             "ticks": ""
            },
            "type": "choropleth"
           }
          ],
          "contour": [
           {
            "colorbar": {
             "outlinewidth": 0,
             "ticks": ""
            },
            "colorscale": [
             [
              0,
              "#0d0887"
             ],
             [
              0.1111111111111111,
              "#46039f"
             ],
             [
              0.2222222222222222,
              "#7201a8"
             ],
             [
              0.3333333333333333,
              "#9c179e"
             ],
             [
              0.4444444444444444,
              "#bd3786"
             ],
             [
              0.5555555555555556,
              "#d8576b"
             ],
             [
              0.6666666666666666,
              "#ed7953"
             ],
             [
              0.7777777777777778,
              "#fb9f3a"
             ],
             [
              0.8888888888888888,
              "#fdca26"
             ],
             [
              1,
              "#f0f921"
             ]
            ],
            "type": "contour"
           }
          ],
          "contourcarpet": [
           {
            "colorbar": {
             "outlinewidth": 0,
             "ticks": ""
            },
            "type": "contourcarpet"
           }
          ],
          "heatmap": [
           {
            "colorbar": {
             "outlinewidth": 0,
             "ticks": ""
            },
            "colorscale": [
             [
              0,
              "#0d0887"
             ],
             [
              0.1111111111111111,
              "#46039f"
             ],
             [
              0.2222222222222222,
              "#7201a8"
             ],
             [
              0.3333333333333333,
              "#9c179e"
             ],
             [
              0.4444444444444444,
              "#bd3786"
             ],
             [
              0.5555555555555556,
              "#d8576b"
             ],
             [
              0.6666666666666666,
              "#ed7953"
             ],
             [
              0.7777777777777778,
              "#fb9f3a"
             ],
             [
              0.8888888888888888,
              "#fdca26"
             ],
             [
              1,
              "#f0f921"
             ]
            ],
            "type": "heatmap"
           }
          ],
          "heatmapgl": [
           {
            "colorbar": {
             "outlinewidth": 0,
             "ticks": ""
            },
            "colorscale": [
             [
              0,
              "#0d0887"
             ],
             [
              0.1111111111111111,
              "#46039f"
             ],
             [
              0.2222222222222222,
              "#7201a8"
             ],
             [
              0.3333333333333333,
              "#9c179e"
             ],
             [
              0.4444444444444444,
              "#bd3786"
             ],
             [
              0.5555555555555556,
              "#d8576b"
             ],
             [
              0.6666666666666666,
              "#ed7953"
             ],
             [
              0.7777777777777778,
              "#fb9f3a"
             ],
             [
              0.8888888888888888,
              "#fdca26"
             ],
             [
              1,
              "#f0f921"
             ]
            ],
            "type": "heatmapgl"
           }
          ],
          "histogram": [
           {
            "marker": {
             "colorbar": {
              "outlinewidth": 0,
              "ticks": ""
             }
            },
            "type": "histogram"
           }
          ],
          "histogram2d": [
           {
            "colorbar": {
             "outlinewidth": 0,
             "ticks": ""
            },
            "colorscale": [
             [
              0,
              "#0d0887"
             ],
             [
              0.1111111111111111,
              "#46039f"
             ],
             [
              0.2222222222222222,
              "#7201a8"
             ],
             [
              0.3333333333333333,
              "#9c179e"
             ],
             [
              0.4444444444444444,
              "#bd3786"
             ],
             [
              0.5555555555555556,
              "#d8576b"
             ],
             [
              0.6666666666666666,
              "#ed7953"
             ],
             [
              0.7777777777777778,
              "#fb9f3a"
             ],
             [
              0.8888888888888888,
              "#fdca26"
             ],
             [
              1,
              "#f0f921"
             ]
            ],
            "type": "histogram2d"
           }
          ],
          "histogram2dcontour": [
           {
            "colorbar": {
             "outlinewidth": 0,
             "ticks": ""
            },
            "colorscale": [
             [
              0,
              "#0d0887"
             ],
             [
              0.1111111111111111,
              "#46039f"
             ],
             [
              0.2222222222222222,
              "#7201a8"
             ],
             [
              0.3333333333333333,
              "#9c179e"
             ],
             [
              0.4444444444444444,
              "#bd3786"
             ],
             [
              0.5555555555555556,
              "#d8576b"
             ],
             [
              0.6666666666666666,
              "#ed7953"
             ],
             [
              0.7777777777777778,
              "#fb9f3a"
             ],
             [
              0.8888888888888888,
              "#fdca26"
             ],
             [
              1,
              "#f0f921"
             ]
            ],
            "type": "histogram2dcontour"
           }
          ],
          "mesh3d": [
           {
            "colorbar": {
             "outlinewidth": 0,
             "ticks": ""
            },
            "type": "mesh3d"
           }
          ],
          "parcoords": [
           {
            "line": {
             "colorbar": {
              "outlinewidth": 0,
              "ticks": ""
             }
            },
            "type": "parcoords"
           }
          ],
          "pie": [
           {
            "automargin": true,
            "type": "pie"
           }
          ],
          "scatter": [
           {
            "marker": {
             "colorbar": {
              "outlinewidth": 0,
              "ticks": ""
             }
            },
            "type": "scatter"
           }
          ],
          "scatter3d": [
           {
            "line": {
             "colorbar": {
              "outlinewidth": 0,
              "ticks": ""
             }
            },
            "marker": {
             "colorbar": {
              "outlinewidth": 0,
              "ticks": ""
             }
            },
            "type": "scatter3d"
           }
          ],
          "scattercarpet": [
           {
            "marker": {
             "colorbar": {
              "outlinewidth": 0,
              "ticks": ""
             }
            },
            "type": "scattercarpet"
           }
          ],
          "scattergeo": [
           {
            "marker": {
             "colorbar": {
              "outlinewidth": 0,
              "ticks": ""
             }
            },
            "type": "scattergeo"
           }
          ],
          "scattergl": [
           {
            "marker": {
             "colorbar": {
              "outlinewidth": 0,
              "ticks": ""
             }
            },
            "type": "scattergl"
           }
          ],
          "scattermapbox": [
           {
            "marker": {
             "colorbar": {
              "outlinewidth": 0,
              "ticks": ""
             }
            },
            "type": "scattermapbox"
           }
          ],
          "scatterpolar": [
           {
            "marker": {
             "colorbar": {
              "outlinewidth": 0,
              "ticks": ""
             }
            },
            "type": "scatterpolar"
           }
          ],
          "scatterpolargl": [
           {
            "marker": {
             "colorbar": {
              "outlinewidth": 0,
              "ticks": ""
             }
            },
            "type": "scatterpolargl"
           }
          ],
          "scatterternary": [
           {
            "marker": {
             "colorbar": {
              "outlinewidth": 0,
              "ticks": ""
             }
            },
            "type": "scatterternary"
           }
          ],
          "surface": [
           {
            "colorbar": {
             "outlinewidth": 0,
             "ticks": ""
            },
            "colorscale": [
             [
              0,
              "#0d0887"
             ],
             [
              0.1111111111111111,
              "#46039f"
             ],
             [
              0.2222222222222222,
              "#7201a8"
             ],
             [
              0.3333333333333333,
              "#9c179e"
             ],
             [
              0.4444444444444444,
              "#bd3786"
             ],
             [
              0.5555555555555556,
              "#d8576b"
             ],
             [
              0.6666666666666666,
              "#ed7953"
             ],
             [
              0.7777777777777778,
              "#fb9f3a"
             ],
             [
              0.8888888888888888,
              "#fdca26"
             ],
             [
              1,
              "#f0f921"
             ]
            ],
            "type": "surface"
           }
          ],
          "table": [
           {
            "cells": {
             "fill": {
              "color": "#EBF0F8"
             },
             "line": {
              "color": "white"
             }
            },
            "header": {
             "fill": {
              "color": "#C8D4E3"
             },
             "line": {
              "color": "white"
             }
            },
            "type": "table"
           }
          ]
         },
         "layout": {
          "annotationdefaults": {
           "arrowcolor": "#2a3f5f",
           "arrowhead": 0,
           "arrowwidth": 1
          },
          "coloraxis": {
           "colorbar": {
            "outlinewidth": 0,
            "ticks": ""
           }
          },
          "colorscale": {
           "diverging": [
            [
             0,
             "#8e0152"
            ],
            [
             0.1,
             "#c51b7d"
            ],
            [
             0.2,
             "#de77ae"
            ],
            [
             0.3,
             "#f1b6da"
            ],
            [
             0.4,
             "#fde0ef"
            ],
            [
             0.5,
             "#f7f7f7"
            ],
            [
             0.6,
             "#e6f5d0"
            ],
            [
             0.7,
             "#b8e186"
            ],
            [
             0.8,
             "#7fbc41"
            ],
            [
             0.9,
             "#4d9221"
            ],
            [
             1,
             "#276419"
            ]
           ],
           "sequential": [
            [
             0,
             "#0d0887"
            ],
            [
             0.1111111111111111,
             "#46039f"
            ],
            [
             0.2222222222222222,
             "#7201a8"
            ],
            [
             0.3333333333333333,
             "#9c179e"
            ],
            [
             0.4444444444444444,
             "#bd3786"
            ],
            [
             0.5555555555555556,
             "#d8576b"
            ],
            [
             0.6666666666666666,
             "#ed7953"
            ],
            [
             0.7777777777777778,
             "#fb9f3a"
            ],
            [
             0.8888888888888888,
             "#fdca26"
            ],
            [
             1,
             "#f0f921"
            ]
           ],
           "sequentialminus": [
            [
             0,
             "#0d0887"
            ],
            [
             0.1111111111111111,
             "#46039f"
            ],
            [
             0.2222222222222222,
             "#7201a8"
            ],
            [
             0.3333333333333333,
             "#9c179e"
            ],
            [
             0.4444444444444444,
             "#bd3786"
            ],
            [
             0.5555555555555556,
             "#d8576b"
            ],
            [
             0.6666666666666666,
             "#ed7953"
            ],
            [
             0.7777777777777778,
             "#fb9f3a"
            ],
            [
             0.8888888888888888,
             "#fdca26"
            ],
            [
             1,
             "#f0f921"
            ]
           ]
          },
          "colorway": [
           "#636efa",
           "#EF553B",
           "#00cc96",
           "#ab63fa",
           "#FFA15A",
           "#19d3f3",
           "#FF6692",
           "#B6E880",
           "#FF97FF",
           "#FECB52"
          ],
          "font": {
           "color": "#2a3f5f"
          },
          "geo": {
           "bgcolor": "white",
           "lakecolor": "white",
           "landcolor": "#E5ECF6",
           "showlakes": true,
           "showland": true,
           "subunitcolor": "white"
          },
          "hoverlabel": {
           "align": "left"
          },
          "hovermode": "closest",
          "mapbox": {
           "style": "light"
          },
          "paper_bgcolor": "white",
          "plot_bgcolor": "#E5ECF6",
          "polar": {
           "angularaxis": {
            "gridcolor": "white",
            "linecolor": "white",
            "ticks": ""
           },
           "bgcolor": "#E5ECF6",
           "radialaxis": {
            "gridcolor": "white",
            "linecolor": "white",
            "ticks": ""
           }
          },
          "scene": {
           "xaxis": {
            "backgroundcolor": "#E5ECF6",
            "gridcolor": "white",
            "gridwidth": 2,
            "linecolor": "white",
            "showbackground": true,
            "ticks": "",
            "zerolinecolor": "white"
           },
           "yaxis": {
            "backgroundcolor": "#E5ECF6",
            "gridcolor": "white",
            "gridwidth": 2,
            "linecolor": "white",
            "showbackground": true,
            "ticks": "",
            "zerolinecolor": "white"
           },
           "zaxis": {
            "backgroundcolor": "#E5ECF6",
            "gridcolor": "white",
            "gridwidth": 2,
            "linecolor": "white",
            "showbackground": true,
            "ticks": "",
            "zerolinecolor": "white"
           }
          },
          "shapedefaults": {
           "line": {
            "color": "#2a3f5f"
           }
          },
          "ternary": {
           "aaxis": {
            "gridcolor": "white",
            "linecolor": "white",
            "ticks": ""
           },
           "baxis": {
            "gridcolor": "white",
            "linecolor": "white",
            "ticks": ""
           },
           "bgcolor": "#E5ECF6",
           "caxis": {
            "gridcolor": "white",
            "linecolor": "white",
            "ticks": ""
           }
          },
          "title": {
           "x": 0.05
          },
          "xaxis": {
           "automargin": true,
           "gridcolor": "white",
           "linecolor": "white",
           "ticks": "",
           "title": {
            "standoff": 15
           },
           "zerolinecolor": "white",
           "zerolinewidth": 2
          },
          "yaxis": {
           "automargin": true,
           "gridcolor": "white",
           "linecolor": "white",
           "ticks": "",
           "title": {
            "standoff": 15
           },
           "zerolinecolor": "white",
           "zerolinewidth": 2
          }
         }
        }
       }
      },
      "text/html": [
       "<div>\n",
       "        \n",
       "        \n",
       "            <div id=\"ed6b1649-1e90-4eb1-aa99-127f2477d2ce\" class=\"plotly-graph-div\" style=\"height:525px; width:100%;\"></div>\n",
       "            <script type=\"text/javascript\">\n",
       "                require([\"plotly\"], function(Plotly) {\n",
       "                    window.PLOTLYENV=window.PLOTLYENV || {};\n",
       "                    \n",
       "                if (document.getElementById(\"ed6b1649-1e90-4eb1-aa99-127f2477d2ce\")) {\n",
       "                    Plotly.newPlot(\n",
       "                        'ed6b1649-1e90-4eb1-aa99-127f2477d2ce',\n",
       "                        [{\"marker\": {\"opacity\": 0.8, \"size\": 5}, \"mode\": \"markers\", \"type\": \"scatter3d\", \"x\": [-0.00021634615384615385, -4.098360655737705e-05, -6.147540983606557e-05, -8.333333333333333e-05, -0.00011976047904191617, -0.00011976047904191617, -0.00015217391304347825, -0.0001639344262295082, -0.00017578125, -0.0001953125, -0.00022448979591836734, -0.0003125, -0.00033203125, -0.00037109375, -0.000390625, -0.0004296875, -0.00048828125, -0.00048828125, -0.00046875, -0.00046875, -0.00044921875, -0.00044921875, -0.00046875, -0.00046875, -0.00048828125, -0.00048828125, -0.0005078125, -0.0009774436090225565, -0.002, -0.002, -0.01, -0.0036666666666666666, -0.0036956521739130435, -0.003673469387755102, -0.0037, -0.01375, -0.005232558139534884, -0.0012631578947368421, -0.0012760416666666666, -0.0055, -0.0032558139534883722, -0.0013145539906103286, -0.0013701923076923077, -0.005816326530612245, -0.005490196078431373, -0.0014583333333333334, -0.00107421875, -0.00115234375, -0.001171875, -0.00119140625, -0.0078125, -0.007916666666666667, -0.007450980392156863, -0.004746835443037975, -0.0013671875, -0.00134765625, -0.001328125, -0.002380952380952381, -0.0021223021582733813, -0.0019863013698630137, -0.0016964285714285714, -0.00109375, -0.0010546875, -0.0012053571428571428, -0.005520833333333333, -0.005520833333333333, -0.005098039215686275, -0.0020155038759689923, -0.004285714285714286, -0.004270833333333333, -0.00072265625, -0.000703125, -0.00064453125, -0.000625, -0.003061224489795918, -0.00048828125, -0.0007947019867549669, -0.0007876712328767124, -0.0009913793103448277, -0.0016666666666666668], \"y\": [-0.0019951923076923076, -0.0019672131147540984, -0.001987704918032787, -0.00275, -0.0029940119760479044, -0.0030239520958083833, -0.002260869565217391, -0.0021311475409836068, -0.00205078125, -0.00205078125, -0.002163265306122449, -0.0020703125, -0.00205078125, -0.00205078125, -0.00203125, -0.00203125, -0.00208984375, -0.002109375, -0.00212890625, -0.00216796875, -0.0021875, -0.00234375, -0.00236328125, -0.00240234375, -0.002421875, -0.00244140625, -0.0024609375, -0.004774436090225564, -0.009214285714285715, -0.009285714285714286, -0.0415625, -0.014777777777777779, -0.014565217391304348, -0.013673469387755101, -0.0135, -0.0421875, -0.015581395348837209, -0.0035, -0.003463541666666667, -0.0126, -0.007209302325581395, -0.00284037558685446, -0.0028846153846153848, -0.01183673469387755, -0.011274509803921568, -0.002916666666666667, -0.00216796875, -0.00208984375, -0.00208984375, -0.002109375, -0.010416666666666666, -0.0103125, -0.009215686274509804, -0.005886075949367089, -0.0016796875, -0.00166015625, -0.00166015625, -0.0033333333333333335, -0.0030575539568345324, -0.0029109589041095892, -0.0025595238095238097, -0.0016796875, -0.00171875, -0.001986607142857143, -0.009375, -0.009479166666666667, -0.009019607843137255, -0.0038372093023255815, -0.01020408163265306, -0.0103125, -0.00193359375, -0.001953125, -0.001953125, -0.00197265625, -0.010306122448979592, -0.00189453125, -0.002913907284768212, -0.0029794520547945205, -0.003706896551724138, -0.00803921568627451], \"z\": [0.0074990469160239204, 0.00639263015792203, 0.00639263015792203, 0.008665565325183196, 0.00934013029061662, 0.00934013029061662, 0.006781746776230327, 0.00639263015792203, 0.006092975619269435, 0.006092975619269435, 0.006366537789930512, 0.006092975619269435, 0.006092975619269435, 0.006092975619269435, 0.006092975619269435, 0.006092975619269435, 0.006092975619269435, 0.006092975619269435, 0.006092975619269435, 0.006092975619269435, 0.006092975619269435, 0.006092975619269435, 0.006092975619269435, 0.006092975619269435, 0.006092975619269435, 0.006092975619269435, 0.006092975619269435, 0.011727832770924627, 0.02228288226475679, 0.02228288226475679, 0.09748760990831096, 0.034662261300732786, 0.03390873388115164, 0.031832688949652556, 0.031196035170659508, 0.09748760990831096, 0.03627445950076687, 0.008209482939647239, 0.008123967492359246, 0.031196035170659508, 0.018137229750383434, 0.007323012950859039, 0.0074990469160239204, 0.031832688949652556, 0.03058434820652893, 0.008123967492359246, 0.006092975619269435, 0.006092975619269435, 0.006092975619269435, 0.006092975619269435, 0.032495869969436986, 0.032495869969436986, 0.03058434820652893, 0.019744326057379434, 0.006092975619269435, 0.006092975619269435, 0.006092975619269435, 0.012379379035975996, 0.01122159538512932, 0.010683573688582023, 0.009284534276981997, 0.006092975619269435, 0.006092975619269435, 0.006963400707736498, 0.032495869969436986, 0.032495869969436986, 0.03058434820652893, 0.012091486500255624, 0.031832688949652556, 0.032495869969436986, 0.006092975619269435, 0.006092975619269435, 0.006092975619269435, 0.006092975619269435, 0.031832688949652556, 0.006092975619269435, 0.010329812970417055, 0.010683573688582023, 0.01344656688390496, 0.03058434820652893]}],\n",
       "                        {\"margin\": {\"b\": 0, \"l\": 0, \"r\": 0, \"t\": 0}, \"template\": {\"data\": {\"bar\": [{\"error_x\": {\"color\": \"#2a3f5f\"}, \"error_y\": {\"color\": \"#2a3f5f\"}, \"marker\": {\"line\": {\"color\": \"#E5ECF6\", \"width\": 0.5}}, \"type\": \"bar\"}], \"barpolar\": [{\"marker\": {\"line\": {\"color\": \"#E5ECF6\", \"width\": 0.5}}, \"type\": \"barpolar\"}], \"carpet\": [{\"aaxis\": {\"endlinecolor\": \"#2a3f5f\", \"gridcolor\": \"white\", \"linecolor\": \"white\", \"minorgridcolor\": \"white\", \"startlinecolor\": \"#2a3f5f\"}, \"baxis\": {\"endlinecolor\": \"#2a3f5f\", \"gridcolor\": \"white\", \"linecolor\": \"white\", \"minorgridcolor\": \"white\", \"startlinecolor\": \"#2a3f5f\"}, \"type\": \"carpet\"}], \"choropleth\": [{\"colorbar\": {\"outlinewidth\": 0, \"ticks\": \"\"}, \"type\": \"choropleth\"}], \"contour\": [{\"colorbar\": {\"outlinewidth\": 0, \"ticks\": \"\"}, \"colorscale\": [[0.0, \"#0d0887\"], [0.1111111111111111, \"#46039f\"], [0.2222222222222222, \"#7201a8\"], [0.3333333333333333, \"#9c179e\"], [0.4444444444444444, \"#bd3786\"], [0.5555555555555556, \"#d8576b\"], [0.6666666666666666, \"#ed7953\"], [0.7777777777777778, \"#fb9f3a\"], [0.8888888888888888, \"#fdca26\"], [1.0, \"#f0f921\"]], \"type\": \"contour\"}], \"contourcarpet\": [{\"colorbar\": {\"outlinewidth\": 0, \"ticks\": \"\"}, \"type\": \"contourcarpet\"}], \"heatmap\": [{\"colorbar\": {\"outlinewidth\": 0, \"ticks\": \"\"}, \"colorscale\": [[0.0, \"#0d0887\"], [0.1111111111111111, \"#46039f\"], [0.2222222222222222, \"#7201a8\"], [0.3333333333333333, \"#9c179e\"], [0.4444444444444444, \"#bd3786\"], [0.5555555555555556, \"#d8576b\"], [0.6666666666666666, \"#ed7953\"], [0.7777777777777778, \"#fb9f3a\"], [0.8888888888888888, \"#fdca26\"], [1.0, \"#f0f921\"]], \"type\": \"heatmap\"}], \"heatmapgl\": [{\"colorbar\": {\"outlinewidth\": 0, \"ticks\": \"\"}, \"colorscale\": [[0.0, \"#0d0887\"], [0.1111111111111111, \"#46039f\"], [0.2222222222222222, \"#7201a8\"], [0.3333333333333333, \"#9c179e\"], [0.4444444444444444, \"#bd3786\"], [0.5555555555555556, \"#d8576b\"], [0.6666666666666666, \"#ed7953\"], [0.7777777777777778, \"#fb9f3a\"], [0.8888888888888888, \"#fdca26\"], [1.0, \"#f0f921\"]], \"type\": \"heatmapgl\"}], \"histogram\": [{\"marker\": {\"colorbar\": {\"outlinewidth\": 0, \"ticks\": \"\"}}, \"type\": \"histogram\"}], \"histogram2d\": [{\"colorbar\": {\"outlinewidth\": 0, \"ticks\": \"\"}, \"colorscale\": [[0.0, \"#0d0887\"], [0.1111111111111111, \"#46039f\"], [0.2222222222222222, \"#7201a8\"], [0.3333333333333333, \"#9c179e\"], [0.4444444444444444, \"#bd3786\"], [0.5555555555555556, \"#d8576b\"], [0.6666666666666666, \"#ed7953\"], [0.7777777777777778, \"#fb9f3a\"], [0.8888888888888888, \"#fdca26\"], [1.0, \"#f0f921\"]], \"type\": \"histogram2d\"}], \"histogram2dcontour\": [{\"colorbar\": {\"outlinewidth\": 0, \"ticks\": \"\"}, \"colorscale\": [[0.0, \"#0d0887\"], [0.1111111111111111, \"#46039f\"], [0.2222222222222222, \"#7201a8\"], [0.3333333333333333, \"#9c179e\"], [0.4444444444444444, \"#bd3786\"], [0.5555555555555556, \"#d8576b\"], [0.6666666666666666, \"#ed7953\"], [0.7777777777777778, \"#fb9f3a\"], [0.8888888888888888, \"#fdca26\"], [1.0, \"#f0f921\"]], \"type\": \"histogram2dcontour\"}], \"mesh3d\": [{\"colorbar\": {\"outlinewidth\": 0, \"ticks\": \"\"}, \"type\": \"mesh3d\"}], \"parcoords\": [{\"line\": {\"colorbar\": {\"outlinewidth\": 0, \"ticks\": \"\"}}, \"type\": \"parcoords\"}], \"pie\": [{\"automargin\": true, \"type\": \"pie\"}], \"scatter\": [{\"marker\": {\"colorbar\": {\"outlinewidth\": 0, \"ticks\": \"\"}}, \"type\": \"scatter\"}], \"scatter3d\": [{\"line\": {\"colorbar\": {\"outlinewidth\": 0, \"ticks\": \"\"}}, \"marker\": {\"colorbar\": {\"outlinewidth\": 0, \"ticks\": \"\"}}, \"type\": \"scatter3d\"}], \"scattercarpet\": [{\"marker\": {\"colorbar\": {\"outlinewidth\": 0, \"ticks\": \"\"}}, \"type\": \"scattercarpet\"}], \"scattergeo\": [{\"marker\": {\"colorbar\": {\"outlinewidth\": 0, \"ticks\": \"\"}}, \"type\": \"scattergeo\"}], \"scattergl\": [{\"marker\": {\"colorbar\": {\"outlinewidth\": 0, \"ticks\": \"\"}}, \"type\": \"scattergl\"}], \"scattermapbox\": [{\"marker\": {\"colorbar\": {\"outlinewidth\": 0, \"ticks\": \"\"}}, \"type\": \"scattermapbox\"}], \"scatterpolar\": [{\"marker\": {\"colorbar\": {\"outlinewidth\": 0, \"ticks\": \"\"}}, \"type\": \"scatterpolar\"}], \"scatterpolargl\": [{\"marker\": {\"colorbar\": {\"outlinewidth\": 0, \"ticks\": \"\"}}, \"type\": \"scatterpolargl\"}], \"scatterternary\": [{\"marker\": {\"colorbar\": {\"outlinewidth\": 0, \"ticks\": \"\"}}, \"type\": \"scatterternary\"}], \"surface\": [{\"colorbar\": {\"outlinewidth\": 0, \"ticks\": \"\"}, \"colorscale\": [[0.0, \"#0d0887\"], [0.1111111111111111, \"#46039f\"], [0.2222222222222222, \"#7201a8\"], [0.3333333333333333, \"#9c179e\"], [0.4444444444444444, \"#bd3786\"], [0.5555555555555556, \"#d8576b\"], [0.6666666666666666, \"#ed7953\"], [0.7777777777777778, \"#fb9f3a\"], [0.8888888888888888, \"#fdca26\"], [1.0, \"#f0f921\"]], \"type\": \"surface\"}], \"table\": [{\"cells\": {\"fill\": {\"color\": \"#EBF0F8\"}, \"line\": {\"color\": \"white\"}}, \"header\": {\"fill\": {\"color\": \"#C8D4E3\"}, \"line\": {\"color\": \"white\"}}, \"type\": \"table\"}]}, \"layout\": {\"annotationdefaults\": {\"arrowcolor\": \"#2a3f5f\", \"arrowhead\": 0, \"arrowwidth\": 1}, \"coloraxis\": {\"colorbar\": {\"outlinewidth\": 0, \"ticks\": \"\"}}, \"colorscale\": {\"diverging\": [[0, \"#8e0152\"], [0.1, \"#c51b7d\"], [0.2, \"#de77ae\"], [0.3, \"#f1b6da\"], [0.4, \"#fde0ef\"], [0.5, \"#f7f7f7\"], [0.6, \"#e6f5d0\"], [0.7, \"#b8e186\"], [0.8, \"#7fbc41\"], [0.9, \"#4d9221\"], [1, \"#276419\"]], \"sequential\": [[0.0, \"#0d0887\"], [0.1111111111111111, \"#46039f\"], [0.2222222222222222, \"#7201a8\"], [0.3333333333333333, \"#9c179e\"], [0.4444444444444444, \"#bd3786\"], [0.5555555555555556, \"#d8576b\"], [0.6666666666666666, \"#ed7953\"], [0.7777777777777778, \"#fb9f3a\"], [0.8888888888888888, \"#fdca26\"], [1.0, \"#f0f921\"]], \"sequentialminus\": [[0.0, \"#0d0887\"], [0.1111111111111111, \"#46039f\"], [0.2222222222222222, \"#7201a8\"], [0.3333333333333333, \"#9c179e\"], [0.4444444444444444, \"#bd3786\"], [0.5555555555555556, \"#d8576b\"], [0.6666666666666666, \"#ed7953\"], [0.7777777777777778, \"#fb9f3a\"], [0.8888888888888888, \"#fdca26\"], [1.0, \"#f0f921\"]]}, \"colorway\": [\"#636efa\", \"#EF553B\", \"#00cc96\", \"#ab63fa\", \"#FFA15A\", \"#19d3f3\", \"#FF6692\", \"#B6E880\", \"#FF97FF\", \"#FECB52\"], \"font\": {\"color\": \"#2a3f5f\"}, \"geo\": {\"bgcolor\": \"white\", \"lakecolor\": \"white\", \"landcolor\": \"#E5ECF6\", \"showlakes\": true, \"showland\": true, \"subunitcolor\": \"white\"}, \"hoverlabel\": {\"align\": \"left\"}, \"hovermode\": \"closest\", \"mapbox\": {\"style\": \"light\"}, \"paper_bgcolor\": \"white\", \"plot_bgcolor\": \"#E5ECF6\", \"polar\": {\"angularaxis\": {\"gridcolor\": \"white\", \"linecolor\": \"white\", \"ticks\": \"\"}, \"bgcolor\": \"#E5ECF6\", \"radialaxis\": {\"gridcolor\": \"white\", \"linecolor\": \"white\", \"ticks\": \"\"}}, \"scene\": {\"xaxis\": {\"backgroundcolor\": \"#E5ECF6\", \"gridcolor\": \"white\", \"gridwidth\": 2, \"linecolor\": \"white\", \"showbackground\": true, \"ticks\": \"\", \"zerolinecolor\": \"white\"}, \"yaxis\": {\"backgroundcolor\": \"#E5ECF6\", \"gridcolor\": \"white\", \"gridwidth\": 2, \"linecolor\": \"white\", \"showbackground\": true, \"ticks\": \"\", \"zerolinecolor\": \"white\"}, \"zaxis\": {\"backgroundcolor\": \"#E5ECF6\", \"gridcolor\": \"white\", \"gridwidth\": 2, \"linecolor\": \"white\", \"showbackground\": true, \"ticks\": \"\", \"zerolinecolor\": \"white\"}}, \"shapedefaults\": {\"line\": {\"color\": \"#2a3f5f\"}}, \"ternary\": {\"aaxis\": {\"gridcolor\": \"white\", \"linecolor\": \"white\", \"ticks\": \"\"}, \"baxis\": {\"gridcolor\": \"white\", \"linecolor\": \"white\", \"ticks\": \"\"}, \"bgcolor\": \"#E5ECF6\", \"caxis\": {\"gridcolor\": \"white\", \"linecolor\": \"white\", \"ticks\": \"\"}}, \"title\": {\"x\": 0.05}, \"xaxis\": {\"automargin\": true, \"gridcolor\": \"white\", \"linecolor\": \"white\", \"ticks\": \"\", \"title\": {\"standoff\": 15}, \"zerolinecolor\": \"white\", \"zerolinewidth\": 2}, \"yaxis\": {\"automargin\": true, \"gridcolor\": \"white\", \"linecolor\": \"white\", \"ticks\": \"\", \"title\": {\"standoff\": 15}, \"zerolinecolor\": \"white\", \"zerolinewidth\": 2}}}},\n",
       "                        {\"responsive\": true}\n",
       "                    ).then(function(){\n",
       "                            \n",
       "var gd = document.getElementById('ed6b1649-1e90-4eb1-aa99-127f2477d2ce');\n",
       "var x = new MutationObserver(function (mutations, observer) {{\n",
       "        var display = window.getComputedStyle(gd).display;\n",
       "        if (!display || display === 'none') {{\n",
       "            console.log([gd, 'removed!']);\n",
       "            Plotly.purge(gd);\n",
       "            observer.disconnect();\n",
       "        }}\n",
       "}});\n",
       "\n",
       "// Listen for the removal of the full notebook cells\n",
       "var notebookContainer = gd.closest('#notebook-container');\n",
       "if (notebookContainer) {{\n",
       "    x.observe(notebookContainer, {childList: true});\n",
       "}}\n",
       "\n",
       "// Listen for the clearing of the current output cell\n",
       "var outputEl = gd.closest('.output');\n",
       "if (outputEl) {{\n",
       "    x.observe(outputEl, {childList: true});\n",
       "}}\n",
       "\n",
       "                        })\n",
       "                };\n",
       "                });\n",
       "            </script>\n",
       "        </div>"
      ]
     },
     "metadata": {},
     "output_type": "display_data"
    }
   ],
   "source": [
    "import plotly\n",
    "import plotly.graph_objects as go \n",
    "\n",
    "plotly.offline.init_notebook_mode()\n",
    "trace = go.Scatter3d(\n",
    "    x = [pt[0] for pt in bowl_pts_cam],\n",
    "    y = [pt[1] for pt in bowl_pts_cam],\n",
    "    z = [pt[2] for pt in bowl_pts_cam],\n",
    "    mode = 'markers', \n",
    "    marker = {\n",
    "            'size': 5,\n",
    "            'opacity': 0.8,\n",
    "        })\n",
    "\n",
    "layout = go.Layout(\n",
    "    margin={'l': 0, 'r': 0, 'b': 0, 't': 0}\n",
    "\n",
    ")\n",
    "\n",
    "data = [trace]\n",
    "plot_figure = go.Figure(data=data, layout=layout)\n",
    "plotly.offline.iplot(plot_figure)\n",
    "# StereoSGBM officially a failed experiment\n",
    "# the point cloud plot is pretty cool though"
   ]
  },
  {
   "cell_type": "code",
   "execution_count": 33,
   "metadata": {},
   "outputs": [
    {
     "data": {
      "text/plain": [
       "[    -1.54133, -0.00296429,    0.672683]"
      ]
     },
     "execution_count": 33,
     "metadata": {},
     "output_type": "execute_result"
    }
   ],
   "source": [
    "from feature_processor import FeatureType\n",
    "bowl_obj = None\n",
    "for obj in objects:\n",
    "    if obj.type == FeatureType.BOWL:\n",
    "        bowl_obj = obj\n",
    "bowl_obj.pos"
   ]
  },
  {
   "cell_type": "code",
   "execution_count": 34,
   "metadata": {},
   "outputs": [
    {
     "ename": "AttributeError",
     "evalue": "Object3d instance has no attribute 'pos_cam'",
     "output_type": "error",
     "traceback": [
      "\u001b[0;31m---------------------------------------------------------------------------\u001b[0m",
      "\u001b[0;31mAttributeError\u001b[0m                            Traceback (most recent call last)",
      "\u001b[0;32m<ipython-input-34-7c2a14acb643>\u001b[0m in \u001b[0;36m<module>\u001b[0;34m()\u001b[0m\n\u001b[0;32m----> 1\u001b[0;31m \u001b[0mbowl_pos_cam\u001b[0m \u001b[0;34m=\u001b[0m \u001b[0mPyKDL\u001b[0m\u001b[0;34m.\u001b[0m\u001b[0mVector\u001b[0m\u001b[0;34m(\u001b[0m\u001b[0;34m*\u001b[0m\u001b[0mbowl_obj\u001b[0m\u001b[0;34m.\u001b[0m\u001b[0mpos_cam\u001b[0m\u001b[0;34m)\u001b[0m\u001b[0;34m\u001b[0m\u001b[0m\n\u001b[0m\u001b[1;32m      2\u001b[0m \u001b[0mbowl_pos_world\u001b[0m \u001b[0;34m=\u001b[0m \u001b[0mtf_jp21_to_world\u001b[0m \u001b[0;34m*\u001b[0m \u001b[0;34m(\u001b[0m\u001b[0mtf_cam_to_jp21\u001b[0m \u001b[0;34m*\u001b[0m \u001b[0mbowl_pos_cam\u001b[0m\u001b[0;34m)\u001b[0m\u001b[0;34m\u001b[0m\u001b[0m\n\u001b[1;32m      3\u001b[0m \u001b[0mbowl_pos_psm2_main\u001b[0m \u001b[0;34m=\u001b[0m \u001b[0mPSM_J1_TO_BASE_LINK_TF\u001b[0m \u001b[0;34m*\u001b[0m \u001b[0;34m(\u001b[0m\u001b[0mtf_world_to_psm2_j1\u001b[0m \u001b[0;34m*\u001b[0m \u001b[0mbowl_pos_world\u001b[0m\u001b[0;34m)\u001b[0m\u001b[0;34m\u001b[0m\u001b[0m\n\u001b[1;32m      4\u001b[0m \u001b[0;31m# add a little bit to the z-axis to avoid hitting the bowl\u001b[0m\u001b[0;34m\u001b[0m\u001b[0;34m\u001b[0m\u001b[0m\n\u001b[1;32m      5\u001b[0m \u001b[0mdest_psm2\u001b[0m \u001b[0;34m=\u001b[0m \u001b[0mbowl_pos_psm2_main\u001b[0m \u001b[0;34m+\u001b[0m \u001b[0mPyKDL\u001b[0m\u001b[0;34m.\u001b[0m\u001b[0mVector\u001b[0m\u001b[0;34m(\u001b[0m\u001b[0;36m0\u001b[0m\u001b[0;34m,\u001b[0m \u001b[0;36m0\u001b[0m\u001b[0;34m,\u001b[0m \u001b[0;36m0.1\u001b[0m\u001b[0;34m)\u001b[0m\u001b[0;34m\u001b[0m\u001b[0m\n",
      "\u001b[0;31mAttributeError\u001b[0m: Object3d instance has no attribute 'pos_cam'"
     ]
    }
   ],
   "source": [
    "bowl_pos_cam = PyKDL.Vector(*bowl_obj.pos)\n",
    "bowl_pos_world = tf_jp21_to_world * (tf_cam_to_jp21 * bowl_pos_cam)\n",
    "bowl_pos_psm2_main = PSM_J1_TO_BASE_LINK_TF * (tf_world_to_psm2_j1 * bowl_pos_world)\n",
    "# add a little bit to the z-axis to avoid hitting the bowl\n",
    "dest_psm2 = bowl_pos_psm2_main + PyKDL.Vector(0, 0, 0.1)\n",
    "psm2.move(dest_psm2)\n",
    "psm2.open_jaw()"
   ]
  },
  {
   "cell_type": "code",
   "execution_count": null,
   "metadata": {},
   "outputs": [],
   "source": []
  }
 ],
 "metadata": {
  "jupytext": {
   "text_representation": {
    "extension": ".py",
    "format_name": "light",
    "format_version": "1.5",
    "jupytext_version": "1.4.2"
   }
  },
  "kernelspec": {
   "display_name": "Python 2",
   "language": "python",
   "name": "python2"
  },
  "language_info": {
   "codemirror_mode": {
    "name": "ipython",
    "version": 2
   },
   "file_extension": ".py",
   "mimetype": "text/x-python",
   "name": "python",
   "nbconvert_exporter": "python",
   "pygments_lexer": "ipython2",
   "version": "2.7.18"
  }
 },
 "nbformat": 4,
 "nbformat_minor": 2
}
