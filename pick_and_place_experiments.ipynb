{
 "cells": [
  {
   "cell_type": "code",
   "execution_count": 1,
   "metadata": {},
   "outputs": [],
   "source": [
    "import jupyros as jr\n",
    "import rospy\n",
    "import numpy as np\n",
    "from sensor_msgs import msg\n",
    "import cv2\n",
    "import cv_bridge\n",
    "from copy import deepcopy\n",
    "import ipywidgets as widgets\n",
    "from IPython.display import clear_output, Image, display\n",
    "import PIL.Image\n",
    "from cStringIO import StringIO\n",
    "import matplotlib.pyplot as plt\n",
    "import dvrk\n",
    "import PyKDL\n",
    "import tf\n",
    "from tf_conversions import posemath"
   ]
  },
  {
   "cell_type": "code",
   "execution_count": 2,
   "metadata": {},
   "outputs": [],
   "source": [
    "rospy.init_node('notebook')"
   ]
  },
  {
   "cell_type": "code",
   "execution_count": 3,
   "metadata": {},
   "outputs": [
    {
     "data": {
      "text/plain": [
       "[['/dvrk/setup_joint/robot_state', 'std_msgs/String'],\n",
       " ['/dvrk/PSM1/current_state', 'std_msgs/String'],\n",
       " ['/dvrk/ECM/wrench_body_current', 'geometry_msgs/WrenchStamped'],\n",
       " ['/stereo/right/image_flipped', 'sensor_msgs/Image'],\n",
       " ['/dvrk/PSM3/goal_reached', 'std_msgs/Bool'],\n",
       " ['/dvrk/PSM2/position_cartesian_local_current', 'geometry_msgs/PoseStamped'],\n",
       " ['/dvrk/console/teleop/scale', 'std_msgs/Float32'],\n",
       " ['/dvrk/PSM3/state_joint_current', 'sensor_msgs/JointState'],\n",
       " ['/dvrk/console/teleop/teleop_psm_selected', 'diagnostic_msgs/KeyValue'],\n",
       " ['/dvrk/PSM2/joint_velocity_ratio', 'std_msgs/Float64'],\n",
       " ['/dvrk/PSM3/current_state', 'std_msgs/String'],\n",
       " ['/dvrk/PSM3/manip_clutch', 'std_msgs/Bool'],\n",
       " ['/dvrk/PSM3/position_cartesian_current', 'geometry_msgs/PoseStamped'],\n",
       " ['/dvrk/ECM/state_joint_desired', 'sensor_msgs/JointState'],\n",
       " ['/dvrk/console/teleop/teleop_psm_unselected', 'diagnostic_msgs/KeyValue'],\n",
       " ['/dvrk/PSM2/position_cartesian_desired', 'geometry_msgs/PoseStamped'],\n",
       " ['/dvrk/ECM/position_cartesian_local_current', 'geometry_msgs/PoseStamped'],\n",
       " ['/dvrk/PSM1/status', 'std_msgs/String'],\n",
       " ['/dvrk/ECM/position_cartesian_desired', 'geometry_msgs/PoseStamped'],\n",
       " ['/dvrk/tf_broadcast/period_statistics', 'cisst_msgs/mtsIntervalStatistics'],\n",
       " ['/dvrk/PSM1/joint_velocity_ratio', 'std_msgs/Float64'],\n",
       " ['/dvrk/PSM1/desired_state', 'std_msgs/String'],\n",
       " ['/dvrk/PSM3/state_jaw_desired', 'sensor_msgs/JointState'],\n",
       " ['/dvrk/ECM/position_cartesian_current', 'geometry_msgs/PoseStamped'],\n",
       " ['/dvrk/PSM1/position_cartesian_local_desired', 'geometry_msgs/PoseStamped'],\n",
       " ['/dvrk/PSM2/position_cartesian_local_desired', 'geometry_msgs/PoseStamped'],\n",
       " ['/clicked_point', 'geometry_msgs/PointStamped'],\n",
       " ['/dvrk/PSM1/wrench_body_current', 'geometry_msgs/WrenchStamped'],\n",
       " ['/dvrk/PSM2/robot_state', 'std_msgs/String'],\n",
       " ['/dvrk/PSM1/state_jaw_current', 'sensor_msgs/JointState'],\n",
       " ['/dvrk/setup_joint/state_joint_current', 'sensor_msgs/JointState'],\n",
       " ['/dvrk/PSM1/jacobian_body', 'std_msgs/Float64MultiArray'],\n",
       " ['/dvrk/ECM/joint_velocity_ratio', 'std_msgs/Float64'],\n",
       " ['/dvrk/PSM2/current_state', 'std_msgs/String'],\n",
       " ['/dvrk/PSM1/error', 'std_msgs/String'],\n",
       " ['/dvrk/PSM1/twist_body_current', 'geometry_msgs/TwistStamped'],\n",
       " ['/stereo/left/image_raw', 'sensor_msgs/Image'],\n",
       " ['/dvrk/PSM3/jacobian_spatial', 'std_msgs/Float64MultiArray'],\n",
       " ['/dvrk/ECM/manip_clutch', 'sensor_msgs/Joy'],\n",
       " ['/dvrk/PSM2/desired_state', 'std_msgs/String'],\n",
       " ['/dvrk/PSM3/position_cartesian_local_desired', 'geometry_msgs/PoseStamped'],\n",
       " ['/dvrk/PSM3/jacobian_body', 'std_msgs/Float64MultiArray'],\n",
       " ['/dvrk/ECM/joint_states', 'sensor_msgs/JointState'],\n",
       " ['/stereo/left/camera_info', 'sensor_msgs/CameraInfo'],\n",
       " ['/dvrk/ECM/twist_body_current', 'geometry_msgs/TwistStamped'],\n",
       " ['/dvrk/PSM2/manip_clutch', 'std_msgs/Bool'],\n",
       " ['/dvrk/PSM2/error', 'std_msgs/String'],\n",
       " ['/tf', 'tf2_msgs/TFMessage'],\n",
       " ['/stereo/right/camera_info', 'sensor_msgs/CameraInfo'],\n",
       " ['/dvrk/PSM2/wrench_body_current', 'geometry_msgs/WrenchStamped'],\n",
       " ['/dvrk/PSM3/state_jaw_current', 'sensor_msgs/JointState'],\n",
       " ['/dvrk/PSM3/joint_acceleration_ratio', 'std_msgs/Float64'],\n",
       " ['/dvrk/PSM2/state_jaw_current', 'sensor_msgs/JointState'],\n",
       " ['/dvrk/PSM3/desired_state', 'std_msgs/String'],\n",
       " ['/dvrk/PSM1/manip_clutch', 'std_msgs/Bool'],\n",
       " ['/dvrk/PSM1/state_joint_desired', 'sensor_msgs/JointState'],\n",
       " ['/dvrk/PSM1/position_cartesian_desired', 'geometry_msgs/PoseStamped'],\n",
       " ['/tf_static', 'tf2_msgs/TFMessage'],\n",
       " ['/dvrk/PSM2/jacobian_spatial', 'std_msgs/Float64MultiArray'],\n",
       " ['/dvrk/PSM1/state_joint_current', 'sensor_msgs/JointState'],\n",
       " ['/dvrk/spin/period_statistics', 'cisst_msgs/mtsIntervalStatistics'],\n",
       " ['/dvrk/ECM/state_joint_current', 'sensor_msgs/JointState'],\n",
       " ['/dvrk/PSM3/twist_body_current', 'geometry_msgs/TwistStamped'],\n",
       " ['/rosout', 'rosgraph_msgs/Log'],\n",
       " ['/dvrk/PSM2/warning', 'std_msgs/String'],\n",
       " ['/dvrk/PSM3/warning', 'std_msgs/String'],\n",
       " ['/dvrk/PSM2/goal_reached', 'std_msgs/Bool'],\n",
       " ['/dvrk/PSM2/joint_acceleration_ratio', 'std_msgs/Float64'],\n",
       " ['/dvrk/PSM2/jacobian_body', 'std_msgs/Float64MultiArray'],\n",
       " ['/dvrk/PSM2/status', 'std_msgs/String'],\n",
       " ['/dvrk/PSM3/status', 'std_msgs/String'],\n",
       " ['/dvrk/ECM/joint_acceleration_ratio', 'std_msgs/Float64'],\n",
       " ['/dvrk/PSM2/state_joint_current', 'sensor_msgs/JointState'],\n",
       " ['/dvrk/PSM1/goal_reached', 'std_msgs/Bool'],\n",
       " ['/dvrk/PSM2/joint_states', 'sensor_msgs/JointState'],\n",
       " ['/dvrk/ECM/jacobian_body', 'std_msgs/Float64MultiArray'],\n",
       " ['/dvrk/PSM1/jacobian_spatial', 'std_msgs/Float64MultiArray'],\n",
       " ['/rosout_agg', 'rosgraph_msgs/Log'],\n",
       " ['/dvrk/PSM2/state_joint_desired', 'sensor_msgs/JointState'],\n",
       " ['/dvrk/PSM1/joint_acceleration_ratio', 'std_msgs/Float64'],\n",
       " ['/move_base_simple/goal', 'geometry_msgs/PoseStamped'],\n",
       " ['/dvrk/ECM/desired_state', 'std_msgs/String'],\n",
       " ['/dvrk/PSM3/error', 'std_msgs/String'],\n",
       " ['/dvrk/PSM2/state_jaw_desired', 'sensor_msgs/JointState'],\n",
       " ['/dvrk/PSM1/position_cartesian_local_current', 'geometry_msgs/PoseStamped'],\n",
       " ['/dvrk/ECM/warning', 'std_msgs/String'],\n",
       " ['/dvrk/ECM/jacobian_spatial', 'std_msgs/Float64MultiArray'],\n",
       " ['/stereo/left/image_flipped', 'sensor_msgs/Image'],\n",
       " ['/dvrk/ECM/goal_reached', 'std_msgs/Bool'],\n",
       " ['/dvrk/PSM3/wrench_body_current', 'geometry_msgs/WrenchStamped'],\n",
       " ['/dvrk/ECM/status', 'std_msgs/String'],\n",
       " ['/dvrk/ECM/current_state', 'std_msgs/String'],\n",
       " ['/dvrk/PSM3/joint_velocity_ratio', 'std_msgs/Float64'],\n",
       " ['/dvrk/publishers/period_statistics', 'cisst_msgs/mtsIntervalStatistics'],\n",
       " ['/dvrk/PSM1/warning', 'std_msgs/String'],\n",
       " ['/initialpose', 'geometry_msgs/PoseWithCovarianceStamped'],\n",
       " ['/dvrk/ECM/error', 'std_msgs/String'],\n",
       " ['/dvrk/PSM1/joint_states', 'sensor_msgs/JointState'],\n",
       " ['/dvrk/PSM1/position_cartesian_current', 'geometry_msgs/PoseStamped'],\n",
       " ['/stereo/right/image_raw', 'sensor_msgs/Image'],\n",
       " ['/dvrk/PSM3/position_cartesian_desired', 'geometry_msgs/PoseStamped'],\n",
       " ['/dvrk/PSM3/position_cartesian_local_current', 'geometry_msgs/PoseStamped'],\n",
       " ['/dvrk/ECM/position_cartesian_local_desired', 'geometry_msgs/PoseStamped'],\n",
       " ['/dvrk/PSM3/state_joint_desired', 'sensor_msgs/JointState'],\n",
       " ['/dvrk/PSM1/state_jaw_desired', 'sensor_msgs/JointState'],\n",
       " ['/dvrk/PSM2/twist_body_current', 'geometry_msgs/TwistStamped'],\n",
       " ['/dvrk/PSM2/position_cartesian_current', 'geometry_msgs/PoseStamped']]"
      ]
     },
     "execution_count": 3,
     "metadata": {},
     "output_type": "execute_result"
    }
   ],
   "source": [
    "rospy.get_published_topics()"
   ]
  },
  {
   "cell_type": "code",
   "execution_count": 4,
   "metadata": {},
   "outputs": [
    {
     "data": {
      "application/vnd.jupyter.widget-view+json": {
       "model_id": "960a90e8a3ac4cb3b1917da978538d4c",
       "version_major": 2,
       "version_minor": 0
      },
      "text/plain": [
       "VkJveChjaGlsZHJlbj0oSEJveChjaGlsZHJlbj0oQnV0dG9uKGRlc2NyaXB0aW9uPXUnU3RvcCcsIHN0eWxlPUJ1dHRvblN0eWxlKCkpLCkpLCBPdXRwdXQobGF5b3V0PUxheW91dChib3JkZXLigKY=\n"
      ]
     },
     "metadata": {},
     "output_type": "display_data"
    }
   ],
   "source": [
    "bridge = cv_bridge.CvBridge()\n",
    "left_image = None\n",
    "left_image_msg = None\n",
    "left_camera_info = None\n",
    "\n",
    "right_image = None\n",
    "right_image_msg = None\n",
    "right_camera_info = None\n",
    "\n",
    "def left_image_callback(im_msg):\n",
    "    global left_image, left_image_msg\n",
    "    left_image = bridge.imgmsg_to_cv2(im_msg, desired_encoding='rgb8')\n",
    "    left_image_msg = im_msg\n",
    "    \n",
    "def right_image_callback(im_msg):\n",
    "    global right_image, right_image_msg\n",
    "    right_image = bridge.imgmsg_to_cv2(im_msg, desired_encoding='rgb8')\n",
    "    right_image_msg = im_msg\n",
    "    \n",
    "def left_camera_info_callback(camera_info_msg):\n",
    "    global left_camera_info\n",
    "    left_camera_info = camera_info_msg\n",
    "    \n",
    "def right_camera_info_callback(camera_info_msg):\n",
    "    global right_camera_info\n",
    "    right_camera_info = camera_info_msg\n",
    "    \n",
    "jr.subscribe('/stereo/left/image_flipped', msg.Image, left_image_callback)\n",
    "jr.subscribe('/stereo/left/camera_info', msg.CameraInfo, left_camera_info_callback)\n",
    "jr.subscribe('/stereo/right/image_flipped', msg.Image, right_image_callback)\n",
    "jr.subscribe('/stereo/right/camera_info', msg.CameraInfo, right_camera_info_callback)"
   ]
  },
  {
   "cell_type": "code",
   "execution_count": 5,
   "metadata": {},
   "outputs": [
    {
     "data": {
      "text/plain": [
       "<matplotlib.image.AxesImage at 0x7fbdab96ef50>"
      ]
     },
     "execution_count": 5,
     "metadata": {},
     "output_type": "execute_result"
    },
    {
     "data": {
      "image/png": "[encoded data removed]",
      "text/plain": [
       "<Figure size 432x288 with 1 Axes>"
      ]
     },
     "metadata": {
      "needs_background": "light"
     },
     "output_type": "display_data"
    }
   ],
   "source": [
    "plt.imshow(left_image)"
   ]
  },
  {
   "cell_type": "code",
   "execution_count": 6,
   "metadata": {},
   "outputs": [
    {
     "data": {
      "text/plain": [
       "<matplotlib.image.AxesImage at 0x7fbdab770ad0>"
      ]
     },
     "execution_count": 6,
     "metadata": {},
     "output_type": "execute_result"
    },
    {
     "data": {
      "image/png": "[encoded data removed]",
      "text/plain": [
       "<Figure size 432x288 with 1 Axes>"
      ]
     },
     "metadata": {
      "needs_background": "light"
     },
     "output_type": "display_data"
    }
   ],
   "source": [
    "plt.imshow(right_image)"
   ]
  },
  {
   "cell_type": "code",
   "execution_count": 7,
   "metadata": {},
   "outputs": [
    {
     "name": "stdout",
     "output_type": "stream",
     "text": [
      "LEFT CAM\n",
      "header: \n",
      "  seq: 44417\n",
      "  stamp: \n",
      "    secs: 1590648540\n",
      "    nsecs:  94176292\n",
      "  frame_id: \"left_camera\"\n",
      "height: 288\n",
      "width: 360\n",
      "distortion_model: \"plumb_bob\"\n",
      "D: [0.0, 0.0, 0.0, 0.0, 0.0]\n",
      "K: [311.9603517065951, 0.0, 180.0, 0.0, 311.9603517065951, 144.0, 0.0, 0.0, 1.0]\n",
      "R: [1.0, 0.0, 0.0, 0.0, 1.0, 0.0, 0.0, 0.0, 1.0]\n",
      "P: [311.9603517065951, 0.0, 180.0, 0.0, 0.0, 311.9603517065951, 144.0, 0.0, 0.0, 0.0, 1.0, 0.0]\n",
      "binning_x: 1\n",
      "binning_y: 1\n",
      "roi: \n",
      "  x_offset: 0\n",
      "  y_offset: 0\n",
      "  height: 0\n",
      "  width: 0\n",
      "  do_rectify: True\n",
      "RIGHT_CAM\n",
      "header: \n",
      "  seq: 44417\n",
      "  stamp: \n",
      "    secs: 1590648540\n",
      "    nsecs:  94176292\n",
      "  frame_id: \"right_camera\"\n",
      "height: 288\n",
      "width: 360\n",
      "distortion_model: \"plumb_bob\"\n",
      "D: [0.0, 0.0, 0.0, 0.0, 0.0]\n",
      "K: [311.9603517065951, 0.0, 180.0, 0.0, 311.9603517065951, 144.0, 0.0, 0.0, 1.0]\n",
      "R: [1.0, 0.0, 0.0, 0.0, 1.0, 0.0, 0.0, 0.0, 1.0]\n",
      "P: [311.9603517065951, 0.0, 180.0, -1.5598017585329753, 0.0, 311.9603517065951, 144.0, 0.0, 0.0, 0.0, 1.0, 0.0]\n",
      "binning_x: 1\n",
      "binning_y: 1\n",
      "roi: \n",
      "  x_offset: 0\n",
      "  y_offset: 0\n",
      "  height: 0\n",
      "  width: 0\n",
      "  do_rectify: True\n"
     ]
    }
   ],
   "source": [
    "print(\"LEFT CAM\")\n",
    "print(left_camera_info)\n",
    "print(\"RIGHT_CAM\")\n",
    "print(right_camera_info)"
   ]
  },
  {
   "cell_type": "code",
   "execution_count": 8,
   "metadata": {},
   "outputs": [],
   "source": [
    "psm1 = None \n",
    "ecm = None\n",
    "suj = None\n",
    "debug_output = widgets.Output(layout={'border': '1px solid black'})\n",
    "\n",
    "with debug_output:\n",
    "    global psm1, ecm\n",
    "    psm1 = dvrk.psm('PSM1')\n",
    "    ecm = dvrk.ecm('ECM')\n",
    "    psm2 = dvrk.psm('PSM2')\n",
    "\n",
    "HARDCODED_ECM_POS = np.array([0.0, 0.0, 0.05, 0.0])"
   ]
  },
  {
   "cell_type": "code",
   "execution_count": 9,
   "metadata": {},
   "outputs": [],
   "source": [
    "tf_listener = tf.TransformListener()"
   ]
  },
  {
   "cell_type": "code",
   "execution_count": 10,
   "metadata": {},
   "outputs": [
    {
     "name": "stderr",
     "output_type": "stream",
     "text": [
      "/opt/ros/melodic/lib/python2.7/dist-packages/tf/listener.py:97: YAMLLoadWarning: calling yaml.load() without Loader=... is deprecated, as the default Loader is unsafe. Please read https://msg.pyyaml.org/load for full details.\n",
      "  data = yaml.load(self._buffer.all_frames_as_yaml()) or {}\n"
     ]
    },
    {
     "data": {
      "text/plain": [
       "[]"
      ]
     },
     "execution_count": 10,
     "metadata": {},
     "output_type": "execute_result"
    }
   ],
   "source": [
    "tf_listener.getFrameStrings()"
   ]
  },
  {
   "cell_type": "code",
   "execution_count": 11,
   "metadata": {},
   "outputs": [
    {
     "name": "stderr",
     "output_type": "stream",
     "text": [
      "[ERROR] [1590648544.697856]: bad callback: <bound method ecm.__state_joint_current_cb of <dvrk.ecm.ecm object at 0x7fbdab92b990>>\n",
      "Traceback (most recent call last):\n",
      "  File \"/opt/ros/melodic/lib/python2.7/dist-packages/rospy/topics.py\", line 750, in _invoke_callback\n",
      "    cb(msg)\n",
      "  File \"/home/ubuntu/catkin_ws/src/dvrk-ros/dvrk_python/src/dvrk/arm.py\", line 285, in __state_joint_current_cb\n",
      "    self.__velocity_joint_current.resize(len(data.velocity))\n",
      "ValueError: cannot resize an array that references or is referenced\n",
      "by another array in this way.\n",
      "Use the np.resize function or refcheck=False\n",
      "\n"
     ]
    },
    {
     "data": {
      "text/plain": [
       "True"
      ]
     },
     "execution_count": 11,
     "metadata": {},
     "output_type": "execute_result"
    }
   ],
   "source": [
    "import time\n",
    "time.sleep(5)\n",
    "ecm.move_joint(HARDCODED_ECM_POS)"
   ]
  },
  {
   "cell_type": "code",
   "execution_count": 12,
   "metadata": {},
   "outputs": [
    {
     "name": "stdout",
     "output_type": "stream",
     "text": [
      "[INFO] [1590648545.841527]: Number of feature files:\n",
      "[INFO] [1590648545.845754]: 1\n",
      "[INFO] [1590648545.849296]: Feature ranges: \n",
      "[INFO] [1590648545.851668]: [[[  0.  37.  45.]\n",
      "  [ 23. 100. 100.]]]\n",
      "[INFO] [1590648545.865957]: 0\n",
      "[INFO] [1590648545.868783]: Size: 59.54829972383762\n",
      "[INFO] [1590648545.870063]: Height: 288 Width: 360\n",
      "[INFO] [1590648545.871967]: [x: 183.0\n",
      "y: 125.0]\n",
      "[INFO] [1590648545.875287]: [[183. 125.]]\n",
      "[INFO] [1590648545.879199]: Size: 0.0\n",
      "[INFO] [1590648545.880501]: Height: 288 Width: 360\n",
      "[INFO] [1590648545.884465]: [x: 172.0\n",
      "y: 122.0]\n",
      "[INFO] [1590648545.886142]: [[172. 122.]]\n",
      "[INFO] [1590648545.887716]: Size: 0.0\n",
      "type: \n",
      "  data: \"centroids\"\n",
      "center: \n",
      "  x: 183\n",
      "  y: 125\n",
      "zoom: \n",
      "  data: 1.0\n",
      "yaw_angle: \n",
      "  data: 0.0\n",
      "points: \n",
      "  - \n",
      "    x: 183.0\n",
      "    y: 125.0\n"
     ]
    },
    {
     "data": {
      "text/plain": [
       "<matplotlib.image.AxesImage at 0x7fbd00095d90>"
      ]
     },
     "execution_count": 12,
     "metadata": {},
     "output_type": "execute_result"
    },
    {
     "data": {
      "image/png": "[encoded data removed]",
      "text/plain": [
       "<Figure size 432x288 with 1 Axes>"
      ]
     },
     "metadata": {
      "needs_background": "light"
     },
     "output_type": "display_data"
    }
   ],
   "source": [
    "import image_geometry\n",
    "import vision_pipeline\n",
    "BALL_FEAT_PATH = '../autonomous_surgical_camera/auto_cam/config/features/red_ball.csv'\n",
    "cv2.imwrite('left.png', left_image)\n",
    "fp = vision_pipeline.feature_processor([BALL_FEAT_PATH], 'left.png')\n",
    "left_feats, left_frame = fp.Centroids(left_image_msg)\n",
    "right_feats, right_frame = fp.Centroids(right_image_msg)\n",
    "print(left_feats)\n",
    "plt.imshow(left_frame)"
   ]
  },
  {
   "cell_type": "code",
   "execution_count": 13,
   "metadata": {},
   "outputs": [
    {
     "name": "stdout",
     "output_type": "stream",
     "text": [
      "type: \n",
      "  data: \"centroids\"\n",
      "center: \n",
      "  x: 172\n",
      "  y: 122\n",
      "zoom: \n",
      "  data: 1.0\n",
      "yaw_angle: \n",
      "  data: 0.0\n",
      "points: \n",
      "  - \n",
      "    x: 172.0\n",
      "    y: 122.0\n"
     ]
    },
    {
     "data": {
      "text/plain": [
       "<matplotlib.image.AxesImage at 0x7fbce012e0d0>"
      ]
     },
     "execution_count": 13,
     "metadata": {},
     "output_type": "execute_result"
    },
    {
     "data": {
      "image/png": "[encoded data removed]",
      "text/plain": [
       "<Figure size 432x288 with 1 Axes>"
      ]
     },
     "metadata": {
      "needs_background": "light"
     },
     "output_type": "display_data"
    }
   ],
   "source": [
    "print(right_feats)\n",
    "plt.imshow(right_frame)"
   ]
  },
  {
   "cell_type": "code",
   "execution_count": 14,
   "metadata": {},
   "outputs": [
    {
     "name": "stdout",
     "output_type": "stream",
     "text": [
      "[INFO] [1590648546.423810]: Number of feature files:\n",
      "[INFO] [1590648546.425065]: 1\n",
      "[INFO] [1590648546.429661]: Feature ranges: \n",
      "[INFO] [1590648546.431592]: [[[  0.  37.  45.]\n",
      "  [ 23. 100. 100.]]]\n",
      "[INFO] [1590648546.439641]: 0\n",
      "[INFO] [1590648546.443259]: Size: 59.54829972383762\n",
      "[INFO] [1590648546.444786]: Height: 288 Width: 360\n",
      "[INFO] [1590648546.451923]: [x: 183.0\n",
      "y: 125.0]\n",
      "[INFO] [1590648546.453847]: [[183. 125.]]\n",
      "[INFO] [1590648546.455618]: Size: 0.0\n",
      "[INFO] [1590648546.459600]: Height: 288 Width: 360\n",
      "[INFO] [1590648546.462374]: [x: 172.0\n",
      "y: 122.0]\n",
      "[INFO] [1590648546.463959]: [[172. 122.]]\n",
      "[INFO] [1590648546.470071]: Size: 0.0\n",
      "(-0.0013636363636363637, 0.008636363636363636, 0.14180015986663413)\n"
     ]
    },
    {
     "data": {
      "text/plain": [
       "<matplotlib.image.AxesImage at 0x7fbce00ab390>"
      ]
     },
     "execution_count": 14,
     "metadata": {},
     "output_type": "execute_result"
    },
    {
     "data": {
      "image/png": "[encoded data removed]",
      "text/plain": [
       "<Figure size 432x288 with 1 Axes>"
      ]
     },
     "metadata": {
      "needs_background": "light"
     },
     "output_type": "display_data"
    }
   ],
   "source": [
    "pick_and_place_utils = None\n",
    "from pick_and_place_utils import get_feat_position_and_img, tf_to_pykdl_frame, PSM_J1_TO_BASE_LINK_TF\n",
    "\n",
    "stereo_cam = image_geometry.StereoCameraModel()\n",
    "stereo_cam.fromCameraInfo(left_camera_info, right_camera_info)\n",
    "ball_pos_cam, left_frame = get_feat_position_and_img(left_image_msg, right_image_msg, stereo_cam)\n",
    "print(ball_pos_cam)\n",
    "plt.imshow(left_frame)"
   ]
  },
  {
   "cell_type": "code",
   "execution_count": 15,
   "metadata": {},
   "outputs": [
    {
     "data": {
      "text/plain": [
       "[   -0.369364,     -0.1925,  0.00136365]"
      ]
     },
     "execution_count": 15,
     "metadata": {},
     "output_type": "execute_result"
    }
   ],
   "source": [
    "ball_pos_cam = PyKDL.Vector(*ball_pos_cam)\n",
    "tf_cam_to_jp21 = tf_to_pykdl_frame(tf_listener.lookupTransform('ecm_pitch_link_1', 'camera', rospy.Time()))\n",
    "ball_pos_jp21 = tf_cam_to_jp21 * ball_pos_cam\n",
    "ball_pos_jp21"
   ]
  },
  {
   "cell_type": "code",
   "execution_count": 16,
   "metadata": {},
   "outputs": [
    {
     "data": {
      "text/plain": [
       "([-0.3780000000000002, 0.3322000000018508, 2.448874436566939e-13],\n",
       " [0.7071067811848165,\n",
       "  -6.677109938001597e-17,\n",
       "  -1.2669696976051526e-16,\n",
       "  0.707106781188279])"
      ]
     },
     "execution_count": 16,
     "metadata": {},
     "output_type": "execute_result"
    }
   ],
   "source": [
    "# did this to confirm that the /tf transforms provided by dVRK are within margin of error of \n",
    "# actual sim coordinates\n",
    "tf_insertion_to_jp21 = tf_listener.lookupTransform('ecm_pitch_link_1', 'ecm_insertion_link', rospy.Time())\n",
    "tf_insertion_to_jp21"
   ]
  },
  {
   "cell_type": "code",
   "execution_count": 17,
   "metadata": {},
   "outputs": [
    {
     "data": {
      "text/plain": [
       "[    -1.48863,  0.00177209,    0.655824]"
      ]
     },
     "execution_count": 17,
     "metadata": {},
     "output_type": "execute_result"
    }
   ],
   "source": [
    "tf_jp21_to_world = tf_to_pykdl_frame(tf_listener.lookupTransform('world', 'Jp21_ECM', rospy.Time()))\n",
    "ball_pos_world = tf_jp21_to_world * ball_pos_jp21\n",
    "# i'm a winner\n",
    "ball_pos_world"
   ]
  },
  {
   "cell_type": "code",
   "execution_count": 18,
   "metadata": {},
   "outputs": [
    {
     "data": {
      "text/plain": [
       "[     0.14592,    0.142964,  0.00168367]"
      ]
     },
     "execution_count": 18,
     "metadata": {},
     "output_type": "execute_result"
    }
   ],
   "source": [
    "tf_world_to_psm2_j1 = tf_to_pykdl_frame(tf_listener.lookupTransform('J1_PSM2', 'world', rospy.Time()))\n",
    "ball_pos_psm2_j1 = tf_world_to_psm2_j1 * ball_pos_world\n",
    "# ok not off by *too* much\n",
    "ball_pos_psm2_j1"
   ]
  },
  {
   "cell_type": "code",
   "execution_count": 19,
   "metadata": {},
   "outputs": [
    {
     "data": {
      "text/plain": [
       "[    -0.14592, -0.00168367,   -0.142964]"
      ]
     },
     "execution_count": 19,
     "metadata": {},
     "output_type": "execute_result"
    }
   ],
   "source": [
    "ball_pos_psm2_main = PSM_J1_TO_BASE_LINK_TF * ball_pos_psm2_j1\n",
    "ball_pos_psm2_main"
   ]
  },
  {
   "cell_type": "markdown",
   "metadata": {},
   "source": [
    "#### "
   ]
  },
  {
   "cell_type": "code",
   "execution_count": 20,
   "metadata": {},
   "outputs": [
    {
     "data": {
      "text/plain": [
       "[   -0.150783,  -0.0157269,   -0.117741]"
      ]
     },
     "execution_count": 20,
     "metadata": {},
     "output_type": "execute_result"
    }
   ],
   "source": [
    "psm2_rot = psm2.get_current_position().M\n",
    "psm2_pos = psm2.get_current_position().p\n",
    "psm2_pos"
   ]
  },
  {
   "cell_type": "code",
   "execution_count": 21,
   "metadata": {},
   "outputs": [
    {
     "data": {
      "text/plain": [
       "True"
      ]
     },
     "execution_count": 21,
     "metadata": {},
     "output_type": "execute_result"
    }
   ],
   "source": [
    "psm2.move(ball_pos_psm2_main)"
   ]
  },
  {
   "cell_type": "code",
   "execution_count": 22,
   "metadata": {},
   "outputs": [
    {
     "data": {
      "text/plain": [
       "True"
      ]
     },
     "execution_count": 22,
     "metadata": {},
     "output_type": "execute_result"
    }
   ],
   "source": [
    "cam_z_vec_world = (tf_jp21_to_world * tf_cam_to_jp21).M * PyKDL.Vector(0, 0, 1.0)\n",
    "cam_z_vec_psm2_main = (PSM_J1_TO_BASE_LINK_TF * tf_world_to_psm2_j1).M * cam_z_vec_world\n",
    "psm2.move_joint_one(0., 5)\n",
    "psm2.open_jaw()\n",
    "psm2.dmove(0.03 * cam_z_vec_psm2_main)\n",
    "psm2.close_jaw()"
   ]
  },
  {
   "cell_type": "code",
   "execution_count": 23,
   "metadata": {},
   "outputs": [
    {
     "data": {
      "text/plain": [
       "True"
      ]
     },
     "execution_count": 23,
     "metadata": {},
     "output_type": "execute_result"
    }
   ],
   "source": [
    "psm2.dmove(PyKDL.Vector(0, 0, 0.05))"
   ]
  },
  {
   "cell_type": "code",
   "execution_count": null,
   "metadata": {},
   "outputs": [],
   "source": []
  }
 ],
 "metadata": {
  "jupytext": {
   "text_representation": {
    "extension": ".py",
    "format_name": "light",
    "format_version": "1.5",
    "jupytext_version": "1.4.2"
   }
  },
  "kernelspec": {
   "display_name": "Python 2",
   "language": "python",
   "name": "python2"
  },
  "language_info": {
   "codemirror_mode": {
    "name": "ipython",
    "version": 2
   },
   "file_extension": ".py",
   "mimetype": "text/x-python",
   "name": "python",
   "nbconvert_exporter": "python",
   "pygments_lexer": "ipython2",
   "version": "2.7.17"
  }
 },
 "nbformat": 4,
 "nbformat_minor": 2
}
