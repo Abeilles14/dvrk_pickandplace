{
 "cells": [
  {
   "cell_type": "code",
   "execution_count": 1,
   "metadata": {},
   "outputs": [],
   "source": [
    "import jupyros as jr\n",
    "import rospy\n",
    "import numpy as np\n",
    "from sensor_msgs import msg\n",
    "import cv2\n",
    "import cv_bridge\n",
    "from copy import deepcopy\n",
    "import ipywidgets as widgets\n",
    "from IPython.display import clear_output, Image, display\n",
    "import PIL.Image\n",
    "from cStringIO import StringIO\n",
    "import matplotlib.pyplot as plt\n",
    "import dvrk\n",
    "import PyKDL\n",
    "import tf\n",
    "from tf_conversions import posemath"
   ]
  },
  {
   "cell_type": "code",
   "execution_count": 2,
   "metadata": {},
   "outputs": [],
   "source": [
    "rospy.init_node('notebook')"
   ]
  },
  {
   "cell_type": "code",
   "execution_count": 3,
   "metadata": {},
   "outputs": [
    {
     "data": {
      "text/plain": [
       "[['/dvrk/setup_joint/robot_state', 'std_msgs/String'],\n",
       " ['/dvrk/PSM1/current_state', 'std_msgs/String'],\n",
       " ['/dvrk/ECM/wrench_body_current', 'geometry_msgs/WrenchStamped'],\n",
       " ['/stereo/right/image_flipped', 'sensor_msgs/Image'],\n",
       " ['/dvrk/PSM2/position_cartesian_local_current', 'geometry_msgs/PoseStamped'],\n",
       " ['/dvrk/SUJ/ECM/position_cartesian_local_current',\n",
       "  'geometry_msgs/PoseStamped'],\n",
       " ['/dvrk/SUJ/PSM2/position_cartesian_current', 'geometry_msgs/PoseStamped'],\n",
       " ['/dvrk/console/teleop/teleop_psm_selected', 'diagnostic_msgs/KeyValue'],\n",
       " ['/dvrk/PSM2/joint_velocity_ratio', 'std_msgs/Float64'],\n",
       " ['/dvrk/ECM/state_joint_desired', 'sensor_msgs/JointState'],\n",
       " ['/dvrk/console/teleop/teleop_psm_unselected', 'diagnostic_msgs/KeyValue'],\n",
       " ['/dvrk/PSM2/position_cartesian_desired', 'geometry_msgs/PoseStamped'],\n",
       " ['/dvrk/ECM/position_cartesian_local_current', 'geometry_msgs/PoseStamped'],\n",
       " ['/dvrk/PSM1/status', 'std_msgs/String'],\n",
       " ['/dvrk/console/teleop/scale', 'std_msgs/Float32'],\n",
       " ['/dvrk/tf_broadcast/period_statistics', 'cisst_msgs/mtsIntervalStatistics'],\n",
       " ['/dvrk/PSM1/joint_velocity_ratio', 'std_msgs/Float64'],\n",
       " ['/tf', 'tf2_msgs/TFMessage'],\n",
       " ['/dvrk/PSM1/desired_state', 'std_msgs/String'],\n",
       " ['/dvrk/SUJ/PSM3/position_cartesian_local_current',\n",
       "  'geometry_msgs/PoseStamped'],\n",
       " ['/dvrk/ECM/position_cartesian_current', 'geometry_msgs/PoseStamped'],\n",
       " ['/dvrk/PSM1/position_cartesian_local_desired', 'geometry_msgs/PoseStamped'],\n",
       " ['/dvrk/PSM2/position_cartesian_local_desired', 'geometry_msgs/PoseStamped'],\n",
       " ['/clicked_point', 'geometry_msgs/PointStamped'],\n",
       " ['/dvrk/PSM1/wrench_body_current', 'geometry_msgs/WrenchStamped'],\n",
       " ['/dvrk/PSM2/robot_state', 'std_msgs/String'],\n",
       " ['/dvrk/SUJ/ECM/position_cartesian_current', 'geometry_msgs/PoseStamped'],\n",
       " ['/dvrk/SUJ/PSM1/position_cartesian_local_current',\n",
       "  'geometry_msgs/PoseStamped'],\n",
       " ['/dvrk/setup_joint/state_joint_current', 'sensor_msgs/JointState'],\n",
       " ['/dvrk/PSM1/jacobian_body', 'std_msgs/Float64MultiArray'],\n",
       " ['/dvrk/ECM/joint_velocity_ratio', 'std_msgs/Float64'],\n",
       " ['/dvrk/PSM2/current_state', 'std_msgs/String'],\n",
       " ['/dvrk/PSM1/error', 'std_msgs/String'],\n",
       " ['/dvrk/PSM1/twist_body_current', 'geometry_msgs/TwistStamped'],\n",
       " ['/stereo/left/image_raw', 'sensor_msgs/Image'],\n",
       " ['/dvrk/ECM/manip_clutch', 'sensor_msgs/Joy'],\n",
       " ['/dvrk/PSM2/desired_state', 'std_msgs/String'],\n",
       " ['/dvrk/SUJ/PSM2/position_cartesian_local_current',\n",
       "  'geometry_msgs/PoseStamped'],\n",
       " ['/dvrk/ECM/joint_states', 'sensor_msgs/JointState'],\n",
       " ['/stereo/left/camera_info', 'sensor_msgs/CameraInfo'],\n",
       " ['/dvrk/ECM/twist_body_current', 'geometry_msgs/TwistStamped'],\n",
       " ['/dvrk/SUJ/PSM1/state_joint_current', 'sensor_msgs/JointState'],\n",
       " ['/dvrk/PSM2/manip_clutch', 'std_msgs/Bool'],\n",
       " ['/dvrk/PSM2/error', 'std_msgs/String'],\n",
       " ['/dvrk/ECM/position_cartesian_desired', 'geometry_msgs/PoseStamped'],\n",
       " ['/stereo/right/camera_info', 'sensor_msgs/CameraInfo'],\n",
       " ['/dvrk/PSM2/wrench_body_current', 'geometry_msgs/WrenchStamped'],\n",
       " ['/dvrk/PSM2/state_jaw_current', 'sensor_msgs/JointState'],\n",
       " ['/dvrk/PSM1/manip_clutch', 'std_msgs/Bool'],\n",
       " ['/dvrk/PSM1/state_joint_desired', 'sensor_msgs/JointState'],\n",
       " ['/dvrk/PSM1/position_cartesian_desired', 'geometry_msgs/PoseStamped'],\n",
       " ['/tf_static', 'tf2_msgs/TFMessage'],\n",
       " ['/dvrk/PSM2/jacobian_spatial', 'std_msgs/Float64MultiArray'],\n",
       " ['/dvrk/spin/period_statistics', 'cisst_msgs/mtsIntervalStatistics'],\n",
       " ['/dvrk/ECM/state_joint_current', 'sensor_msgs/JointState'],\n",
       " ['/rosout', 'rosgraph_msgs/Log'],\n",
       " ['/dvrk/PSM2/warning', 'std_msgs/String'],\n",
       " ['/dvrk/PSM2/goal_reached', 'std_msgs/Bool'],\n",
       " ['/dvrk/PSM2/joint_acceleration_ratio', 'std_msgs/Float64'],\n",
       " ['/dvrk/PSM2/jacobian_body', 'std_msgs/Float64MultiArray'],\n",
       " ['/dvrk/PSM2/status', 'std_msgs/String'],\n",
       " ['/dvrk/ECM/joint_acceleration_ratio', 'std_msgs/Float64'],\n",
       " ['/dvrk/PSM2/state_joint_current', 'sensor_msgs/JointState'],\n",
       " ['/dvrk/PSM1/goal_reached', 'std_msgs/Bool'],\n",
       " ['/dvrk/PSM1/state_jaw_current', 'sensor_msgs/JointState'],\n",
       " ['/dvrk/PSM2/joint_states', 'sensor_msgs/JointState'],\n",
       " ['/dvrk/PSM1/state_joint_current', 'sensor_msgs/JointState'],\n",
       " ['/dvrk/SUJ/PSM3/state_joint_current', 'sensor_msgs/JointState'],\n",
       " ['/dvrk/PSM1/jacobian_spatial', 'std_msgs/Float64MultiArray'],\n",
       " ['/rosout_agg', 'rosgraph_msgs/Log'],\n",
       " ['/dvrk/PSM2/state_joint_desired', 'sensor_msgs/JointState'],\n",
       " ['/dvrk/SUJ/PSM2/state_joint_current', 'sensor_msgs/JointState'],\n",
       " ['/dvrk/PSM1/joint_acceleration_ratio', 'std_msgs/Float64'],\n",
       " ['/dvrk/SUJ/PSM1/position_cartesian_current', 'geometry_msgs/PoseStamped'],\n",
       " ['/dvrk/ECM/desired_state', 'std_msgs/String'],\n",
       " ['/dvrk/SUJ/ECM/state_joint_current', 'sensor_msgs/JointState'],\n",
       " ['/dvrk/PSM2/state_jaw_desired', 'sensor_msgs/JointState'],\n",
       " ['/dvrk/PSM1/position_cartesian_local_current', 'geometry_msgs/PoseStamped'],\n",
       " ['/dvrk/ECM/warning', 'std_msgs/String'],\n",
       " ['/dvrk/ECM/jacobian_spatial', 'std_msgs/Float64MultiArray'],\n",
       " ['/stereo/left/image_flipped', 'sensor_msgs/Image'],\n",
       " ['/dvrk/ECM/goal_reached', 'std_msgs/Bool'],\n",
       " ['/dvrk/ECM/status', 'std_msgs/String'],\n",
       " ['/dvrk/ECM/current_state', 'std_msgs/String'],\n",
       " ['/dvrk/publishers/period_statistics', 'cisst_msgs/mtsIntervalStatistics'],\n",
       " ['/dvrk/PSM1/warning', 'std_msgs/String'],\n",
       " ['/initialpose', 'geometry_msgs/PoseWithCovarianceStamped'],\n",
       " ['/move_base_simple/goal', 'geometry_msgs/PoseStamped'],\n",
       " ['/dvrk/ECM/error', 'std_msgs/String'],\n",
       " ['/dvrk/PSM1/joint_states', 'sensor_msgs/JointState'],\n",
       " ['/dvrk/PSM1/position_cartesian_current', 'geometry_msgs/PoseStamped'],\n",
       " ['/stereo/right/image_raw', 'sensor_msgs/Image'],\n",
       " ['/dvrk/SUJ/PSM3/position_cartesian_current', 'geometry_msgs/PoseStamped'],\n",
       " ['/dvrk/ECM/position_cartesian_local_desired', 'geometry_msgs/PoseStamped'],\n",
       " ['/dvrk/ECM/jacobian_body', 'std_msgs/Float64MultiArray'],\n",
       " ['/dvrk/PSM1/state_jaw_desired', 'sensor_msgs/JointState'],\n",
       " ['/dvrk/PSM2/twist_body_current', 'geometry_msgs/TwistStamped'],\n",
       " ['/dvrk/PSM2/position_cartesian_current', 'geometry_msgs/PoseStamped']]"
      ]
     },
     "execution_count": 3,
     "metadata": {},
     "output_type": "execute_result"
    }
   ],
   "source": [
    "rospy.get_published_topics()"
   ]
  },
  {
   "cell_type": "code",
   "execution_count": 4,
   "metadata": {},
   "outputs": [
    {
     "data": {
      "application/vnd.jupyter.widget-view+json": {
       "model_id": "6a26d020953a47ea86fb9a2729c05281",
       "version_major": 2,
       "version_minor": 0
      },
      "text/plain": [
       "VkJveChjaGlsZHJlbj0oSEJveChjaGlsZHJlbj0oQnV0dG9uKGRlc2NyaXB0aW9uPXUnU3RvcCcsIHN0eWxlPUJ1dHRvblN0eWxlKCkpLCkpLCBPdXRwdXQobGF5b3V0PUxheW91dChib3JkZXLigKY=\n"
      ]
     },
     "metadata": {},
     "output_type": "display_data"
    }
   ],
   "source": [
    "bridge = cv_bridge.CvBridge()\n",
    "left_image = None\n",
    "left_image_msg = None\n",
    "left_camera_info = None\n",
    "\n",
    "right_image = None\n",
    "right_image_msg = None\n",
    "right_camera_info = None\n",
    "\n",
    "def left_image_callback(im_msg):\n",
    "    global left_image, left_image_msg\n",
    "    left_image = bridge.imgmsg_to_cv2(im_msg, desired_encoding='rgb8')\n",
    "    left_image_msg = im_msg\n",
    "    \n",
    "def right_image_callback(im_msg):\n",
    "    global right_image, right_image_msg\n",
    "    right_image = bridge.imgmsg_to_cv2(im_msg, desired_encoding='rgb8')\n",
    "    right_image_msg = im_msg\n",
    "    \n",
    "def left_camera_info_callback(camera_info_msg):\n",
    "    global left_camera_info\n",
    "    left_camera_info = camera_info_msg\n",
    "    \n",
    "def right_camera_info_callback(camera_info_msg):\n",
    "    global right_camera_info\n",
    "    right_camera_info = camera_info_msg\n",
    "    \n",
    "jr.subscribe('/stereo/left/image_flipped', msg.Image, left_image_callback)\n",
    "jr.subscribe('/stereo/left/camera_info', msg.CameraInfo, left_camera_info_callback)\n",
    "jr.subscribe('/stereo/right/image_flipped', msg.Image, right_image_callback)\n",
    "jr.subscribe('/stereo/right/camera_info', msg.CameraInfo, right_camera_info_callback)"
   ]
  },
  {
   "cell_type": "code",
   "execution_count": 5,
   "metadata": {},
   "outputs": [
    {
     "data": {
      "text/plain": [
       "<matplotlib.image.AxesImage at 0x7feccc0f3f10>"
      ]
     },
     "execution_count": 5,
     "metadata": {},
     "output_type": "execute_result"
    },
    {
     "data": {
      "image/png": "[encoded data removed]",
      "text/plain": [
       "<Figure size 432x288 with 1 Axes>"
      ]
     },
     "metadata": {
      "needs_background": "light"
     },
     "output_type": "display_data"
    }
   ],
   "source": [
    "left_image = cv2.flip(left_image, 0)\n",
    "plt.imshow(left_image)"
   ]
  },
  {
   "cell_type": "code",
   "execution_count": 6,
   "metadata": {},
   "outputs": [
    {
     "data": {
      "text/plain": [
       "<matplotlib.image.AxesImage at 0x7feccbffca50>"
      ]
     },
     "execution_count": 6,
     "metadata": {},
     "output_type": "execute_result"
    },
    {
     "data": {
      "image/png": "[encoded data removed]",
      "text/plain": [
       "<Figure size 432x288 with 1 Axes>"
      ]
     },
     "metadata": {
      "needs_background": "light"
     },
     "output_type": "display_data"
    }
   ],
   "source": [
    "right_image = cv2.flip(right_image, 0)\n",
    "plt.imshow(right_image)"
   ]
  },
  {
   "cell_type": "code",
   "execution_count": 7,
   "metadata": {},
   "outputs": [
    {
     "name": "stdout",
     "output_type": "stream",
     "text": [
      "LEFT CAM\n",
      "header: \n",
      "  seq: 417\n",
      "  stamp: \n",
      "    secs: 1589573677\n",
      "    nsecs: 199120998\n",
      "  frame_id: \"left_camera\"\n",
      "height: 288\n",
      "width: 360\n",
      "distortion_model: \"plumb_bob\"\n",
      "D: [0.0, 0.0, 0.0, 0.0, 0.0]\n",
      "K: [311.9603517065951, 0.0, 180.0, 0.0, 311.9603517065951, 144.0, 0.0, 0.0, 1.0]\n",
      "R: [1.0, 0.0, 0.0, 0.0, 1.0, 0.0, 0.0, 0.0, 1.0]\n",
      "P: [311.9603517065951, 0.0, 180.0, 0.0, 0.0, 311.9603517065951, 144.0, 0.0, 0.0, 0.0, 1.0, 0.0]\n",
      "binning_x: 1\n",
      "binning_y: 1\n",
      "roi: \n",
      "  x_offset: 0\n",
      "  y_offset: 0\n",
      "  height: 0\n",
      "  width: 0\n",
      "  do_rectify: True\n",
      "RIGHT_CAM\n",
      "header: \n",
      "  seq: 404\n",
      "  stamp: \n",
      "    secs: 1589573676\n",
      "    nsecs: 144664764\n",
      "  frame_id: \"right_camera\"\n",
      "height: 288\n",
      "width: 360\n",
      "distortion_model: \"plumb_bob\"\n",
      "D: [0.0, 0.0, 0.0, 0.0, 0.0]\n",
      "K: [311.9603517065951, 0.0, 180.0, 0.0, 311.9603517065951, 144.0, 0.0, 0.0, 1.0]\n",
      "R: [1.0, 0.0, 0.0, 0.0, 1.0, 0.0, 0.0, 0.0, 1.0]\n",
      "P: [311.9603517065951, 0.0, 180.0, -1.5598017585329753, 0.0, 311.9603517065951, 144.0, 0.0, 0.0, 0.0, 1.0, 0.0]\n",
      "binning_x: 1\n",
      "binning_y: 1\n",
      "roi: \n",
      "  x_offset: 0\n",
      "  y_offset: 0\n",
      "  height: 0\n",
      "  width: 0\n",
      "  do_rectify: True\n"
     ]
    }
   ],
   "source": [
    "print(\"LEFT CAM\")\n",
    "print(left_camera_info)\n",
    "print(\"RIGHT_CAM\")\n",
    "print(right_camera_info)"
   ]
  },
  {
   "cell_type": "code",
   "execution_count": 8,
   "metadata": {},
   "outputs": [],
   "source": [
    "psm1 = None \n",
    "ecm = None\n",
    "suj = None\n",
    "debug_output = widgets.Output(layout={'border': '1px solid black'})\n",
    "\n",
    "with debug_output:\n",
    "    global psm1, ecm\n",
    "    psm1 = dvrk.psm('PSM1')\n",
    "    ecm = dvrk.ecm('ECM')\n",
    "    suj = dvrk.suj('ECM')\n"
   ]
  },
  {
   "cell_type": "code",
   "execution_count": 9,
   "metadata": {},
   "outputs": [
    {
     "data": {
      "text/plain": [
       "[[           1,-8.86787e-06,  7.3459e-06;\n",
       "   1.1465e-05,    0.707179,   -0.707035;\n",
       "  1.07503e-06,    0.707035,    0.707179]\n",
       "[     1.95011,  -0.0927632,    -0.87215]]"
      ]
     },
     "execution_count": 9,
     "metadata": {},
     "output_type": "execute_result"
    }
   ],
   "source": [
    "psm1.get_current_position()"
   ]
  },
  {
   "cell_type": "code",
   "execution_count": 10,
   "metadata": {},
   "outputs": [
    {
     "data": {
      "text/plain": [
       "[[          -1,-6.27083e-06,-6.27028e-06;\n",
       "  -8.8679e-06,    0.707179,    0.707035;\n",
       "  5.09929e-10,    0.707035,   -0.707179]\n",
       "[ 2.93028e-06,    0.580657,    0.244121]]"
      ]
     },
     "execution_count": 10,
     "metadata": {},
     "output_type": "execute_result"
    }
   ],
   "source": [
    "ecm.get_current_position()"
   ]
  },
  {
   "cell_type": "code",
   "execution_count": 11,
   "metadata": {},
   "outputs": [
    {
     "data": {
      "text/plain": [
       "[[          -1, 6.27081e-06, 2.59709e-06;\n",
       " -6.27081e-06,   -0.707176,   -0.707037;\n",
       " -2.59709e-06,   -0.707037,    0.707176]\n",
       "[  3.6871e-06,    0.495318,    0.329477]]"
      ]
     },
     "execution_count": 11,
     "metadata": {},
     "output_type": "execute_result"
    }
   ],
   "source": [
    "suj.get_current_position()"
   ]
  },
  {
   "cell_type": "code",
   "execution_count": 12,
   "metadata": {},
   "outputs": [],
   "source": [
    "tf_listener = tf.TransformListener()"
   ]
  },
  {
   "cell_type": "code",
   "execution_count": 13,
   "metadata": {},
   "outputs": [
    {
     "name": "stderr",
     "output_type": "stream",
     "text": [
      "/opt/ros/melodic/lib/python2.7/dist-packages/tf/listener.py:97: YAMLLoadWarning: calling yaml.load() without Loader=... is deprecated, as the default Loader is unsafe. Please read https://msg.pyyaml.org/load for full details.\n",
      "  data = yaml.load(self._buffer.all_frames_as_yaml()) or {}\n"
     ]
    },
    {
     "data": {
      "text/plain": [
       "['PSM2_tool_wrist_shaft_link',\n",
       " 'PSM2_outer_pitch_front_link',\n",
       " 'PSM2_tool_main_link',\n",
       " 'PSM2_tool_wrist_caudier_link_2_left',\n",
       " 'PSM1',\n",
       " 'PSM2',\n",
       " 'PSM2_tool_wrist_caudier_ee_link',\n",
       " 'PSM2_outer_insertion_link',\n",
       " 'PSM1_tool_wrist_sca_ee_link_2',\n",
       " 'ecm_setup_link',\n",
       " 'ecm_yaw_link',\n",
       " 'PSM2_tool_wrist_caudier_link_shaft',\n",
       " 'PSM1_tool_wrist_sca_ee_link_0',\n",
       " 'ECM',\n",
       " 'PSM1_outer_pitch_link',\n",
       " 'PSM2_base',\n",
       " 'PSM2_outer_pitch_link',\n",
       " 'PSM1_tool_tip_link',\n",
       " 'camera',\n",
       " 'PSM1_tool_wrist_sca_ee_link_1',\n",
       " 'PSM1_outer_pitch_front_link',\n",
       " 'ecm_pitch_link',\n",
       " 'PSM1_outer_pitch_top_link',\n",
       " 'PSM2_tool_wrist_caudier_link',\n",
       " 'PSM1_outer_yaw_link',\n",
       " 'ecm_roll_link',\n",
       " 'ecm_pitch_link_2',\n",
       " 'ecm_pitch_link_3',\n",
       " 'PSM1_tool_wrist_shaft_link',\n",
       " 'PSM2_outer_pitch_back_link',\n",
       " 'PSM1_tool_wrist_sca_link',\n",
       " 'PSM2_outer_pitch_top_link',\n",
       " 'PSM3_base',\n",
       " 'PSM2_tool_wrist_caudier_ee_link_0',\n",
       " 'PSM1_outer_insertion_link',\n",
       " 'PSM2_outer_pitch_bottom_link',\n",
       " 'ECM_base',\n",
       " 'ecm_insertion_link',\n",
       " 'PSM1_outer_pitch_bottom_link',\n",
       " 'PSM2_tool_wrist_caudier_link_2_right',\n",
       " 'ecm_base_link',\n",
       " 'PSM1_tool_wrist_link',\n",
       " 'PSM1_tool_main_link',\n",
       " 'PSM1_tool_wrist_sca_shaft_link',\n",
       " 'PSM1_psm_base_link',\n",
       " 'PSM2_tool_wrist_link',\n",
       " 'ecm_pitch_link_1',\n",
       " 'PSM1_outer_pitch_back_link',\n",
       " 'PSM2_outer_yaw_link',\n",
       " 'ecm_setup_base_link',\n",
       " 'PSM1_base',\n",
       " 'PSM2_psm_base_link']"
      ]
     },
     "execution_count": 13,
     "metadata": {},
     "output_type": "execute_result"
    }
   ],
   "source": [
    "tf_listener.getFrameStrings()"
   ]
  },
  {
   "cell_type": "code",
   "execution_count": 14,
   "metadata": {},
   "outputs": [
    {
     "name": "stdout",
     "output_type": "stream",
     "text": [
      "[INFO] [1589573683.710205]: Number of feature files:\n",
      "[INFO] [1589573683.718970]: 1\n",
      "[INFO] [1589573683.728604]: Feature ranges: \n",
      "[INFO] [1589573683.735222]: [[[  0.  37.  45.]\n",
      "  [ 23. 100. 100.]]]\n",
      "[INFO] [1589573683.751730]: 0\n",
      "[INFO] [1589573683.754454]: Size: 31.25699921617557\n",
      "[INFO] [1589573683.757406]: Height: 288 Width: 360\n",
      "[INFO] [1589573683.768999]: [x: 242.0\n",
      "y: 223.0]\n",
      "[INFO] [1589573683.771258]: [[242. 223.]]\n",
      "[INFO] [1589573683.777325]: Size: 0.0\n",
      "[INFO] [1589573683.779932]: Height: 288 Width: 360\n",
      "[INFO] [1589573683.784095]: [x: 232.0\n",
      "y: 220.0]\n",
      "[INFO] [1589573683.788582]: [[232. 220.]]\n",
      "[INFO] [1589573683.791107]: Size: 0.0\n",
      "type: \n",
      "  data: \"centroids\"\n",
      "center: \n",
      "  x: 242\n",
      "  y: 223\n",
      "zoom: \n",
      "  data: 1.0\n",
      "yaw_angle: \n",
      "  data: 0.0\n",
      "points: \n",
      "  - \n",
      "    x: 242.0\n",
      "    y: 223.0\n"
     ]
    },
    {
     "data": {
      "text/plain": [
       "<matplotlib.image.AxesImage at 0x7fec84025350>"
      ]
     },
     "execution_count": 14,
     "metadata": {},
     "output_type": "execute_result"
    },
    {
     "data": {
      "image/png": "[encoded data removed]",
      "text/plain": [
       "<Figure size 432x288 with 1 Axes>"
      ]
     },
     "metadata": {
      "needs_background": "light"
     },
     "output_type": "display_data"
    }
   ],
   "source": [
    "import image_geometry\n",
    "import vision_pipeline\n",
    "BALL_FEAT_PATH = '../autonomous_surgical_camera/auto_cam/config/features/red_ball.csv'\n",
    "cv2.imwrite('left.png', left_image)\n",
    "fp = vision_pipeline.feature_processor([BALL_FEAT_PATH], 'left.png')\n",
    "left_feats, left_frame = fp.Centroids(left_image_msg)\n",
    "right_feats, right_frame = fp.Centroids(right_image_msg)\n",
    "print(left_feats)\n",
    "plt.imshow(left_frame)"
   ]
  },
  {
   "cell_type": "code",
   "execution_count": 15,
   "metadata": {},
   "outputs": [
    {
     "name": "stdout",
     "output_type": "stream",
     "text": [
      "type: \n",
      "  data: \"centroids\"\n",
      "center: \n",
      "  x: 232\n",
      "  y: 220\n",
      "zoom: \n",
      "  data: 1.0\n",
      "yaw_angle: \n",
      "  data: 0.0\n",
      "points: \n",
      "  - \n",
      "    x: 232.0\n",
      "    y: 220.0\n"
     ]
    },
    {
     "data": {
      "text/plain": [
       "<matplotlib.image.AxesImage at 0x7fec4c14e650>"
      ]
     },
     "execution_count": 15,
     "metadata": {},
     "output_type": "execute_result"
    },
    {
     "data": {
      "image/png": "[encoded data removed]",
      "text/plain": [
       "<Figure size 432x288 with 1 Axes>"
      ]
     },
     "metadata": {
      "needs_background": "light"
     },
     "output_type": "display_data"
    }
   ],
   "source": [
    "print(right_feats)\n",
    "plt.imshow(right_frame)"
   ]
  },
  {
   "cell_type": "code",
   "execution_count": 16,
   "metadata": {},
   "outputs": [
    {
     "name": "stdout",
     "output_type": "stream",
     "text": [
      "[(242.0, 223.0)]\n",
      "[(232.0, 220.0)]\n"
     ]
    },
    {
     "data": {
      "text/plain": [
       "<matplotlib.image.AxesImage at 0x7fec4c0d5550>"
      ]
     },
     "execution_count": 16,
     "metadata": {},
     "output_type": "execute_result"
    },
    {
     "data": {
      "image/png": "[encoded data removed]",
      "text/plain": [
       "<Figure size 432x288 with 1 Axes>"
      ]
     },
     "metadata": {
      "needs_background": "light"
     },
     "output_type": "display_data"
    }
   ],
   "source": [
    "left_cam = image_geometry.PinholeCameraModel()\n",
    "left_cam.fromCameraInfo(left_camera_info)\n",
    "right_cam = image_geometry.PinholeCameraModel()\n",
    "right_cam.fromCameraInfo(right_camera_info)\n",
    "left_frame_rectified = deepcopy(left_frame)\n",
    "\n",
    "def rectify(cam, ros_pt):\n",
    "    return tuple(cam.rectifyPoint((ros_pt.x, ros_pt.y)))\n",
    "\n",
    "def invert_rectify(cam, ros_pt, frame_dims):\n",
    "    return tuple(cam.rectifyPoint((frame_dims[0] - ros_pt.x, frame_dims[1] - ros_pt.y)))\n",
    "\n",
    "left_feat_pts = [rectify(left_cam, pt) for pt in left_feats.points]\n",
    "right_feat_pts = [rectify(right_cam, pt) for pt in right_feats.points]\n",
    "print(left_feat_pts)\n",
    "print(right_feat_pts)\n",
    "left_cam.rectifyImage(left_frame, left_frame_rectified)\n",
    "plt.imshow(left_frame)"
   ]
  },
  {
   "cell_type": "code",
   "execution_count": 17,
   "metadata": {},
   "outputs": [
    {
     "data": {
      "text/plain": [
       "<matplotlib.image.AxesImage at 0x7fec4c048890>"
      ]
     },
     "execution_count": 17,
     "metadata": {},
     "output_type": "execute_result"
    },
    {
     "data": {
      "image/png": "[encoded data removed]",
      "text/plain": [
       "<Figure size 432x288 with 1 Axes>"
      ]
     },
     "metadata": {
      "needs_background": "light"
     },
     "output_type": "display_data"
    }
   ],
   "source": [
    "right_frame_rectified = deepcopy(right_frame)\n",
    "left_cam.rectifyImage(right_frame, right_frame_rectified)\n",
    "plt.imshow(right_frame_rectified)"
   ]
  },
  {
   "cell_type": "code",
   "execution_count": 18,
   "metadata": {},
   "outputs": [
    {
     "name": "stdout",
     "output_type": "stream",
     "text": [
      "10.0\n",
      "(0.031, 0.0395, 0.15598017585329754)\n"
     ]
    }
   ],
   "source": [
    "stereocam = image_geometry.StereoCameraModel()\n",
    "stereocam.fromCameraInfo(left_camera_info, right_camera_info)\n",
    "disparity = abs(left_feat_pts[0][0] - right_feat_pts[0][0])\n",
    "print(disparity)\n",
    "ball_pos_cam = stereocam.projectPixelTo3d(left_feat_pts[0], disparity)\n",
    "print(ball_pos_cam)"
   ]
  },
  {
   "cell_type": "code",
   "execution_count": 19,
   "metadata": {},
   "outputs": [],
   "source": [
    "def tfl_to_pykdl_frame(tfl_frame):\n",
    "    pos, rot_quat = tfl_frame\n",
    "    pos2 = PyKDL.Vector(*pos)\n",
    "    rot = PyKDL.Rotation.Quaternion(*rot_quat)\n",
    "    return PyKDL.Frame(rot, pos2)"
   ]
  },
  {
   "cell_type": "code",
   "execution_count": 20,
   "metadata": {
    "lines_to_next_cell": 2
   },
   "outputs": [],
   "source": [
    "ball_pos_cam = PyKDL.Vector(*ball_pos_cam)"
   ]
  },
  {
   "cell_type": "code",
   "execution_count": 21,
   "metadata": {},
   "outputs": [],
   "source": [
    "# some hardcoded transforms from suj-simulated.json\n",
    "ECM_WORLD_ORIGIN_TO_SUJ_ROT_MAT = np.asarray([[ 0.0000,  -1.0000,  0.0000],\n",
    "                                              [1.0000,  0.0000,  0.0000],\n",
    "                                              [ 0.0000,  0.0000,  1.0000]])\n",
    "ECM_WORLD_ORIGIN_TO_SUJ_ROT = PyKDL.Rotation(*ECM_WORLD_ORIGIN_TO_SUJ_ROT_MAT.flatten())\n",
    "ECM_WORLD_ORIGIN_TO_SUJ_TRANS = PyKDL.Vector(0.0000 , 0.0000, 0.4300)\n",
    "ECM_WORLD_ORIGIN_TO_SUJ_FRAME = PyKDL.Frame(ECM_WORLD_ORIGIN_TO_SUJ_ROT, ECM_WORLD_ORIGIN_TO_SUJ_TRANS)\n",
    "ECM_SUJ_TO_WORLD_ORIGIN_FRAME = ECM_WORLD_ORIGIN_TO_SUJ_FRAME.Inverse()\n",
    "\n",
    "ECM_SUJ_TO_BASE_ROT_MAT = np.asarray([[ 0.0000, 1.0000,  0.0000],\n",
    "                                      [ -1.0000,  0.0000,  0.0000],\n",
    "                                      [ 0.0000,  0.0000,  1.0000]])\n",
    "ECM_SUJ_TO_BASE_ROT = PyKDL.Rotation(*ECM_BASE_TO_SUJ_ROT_MAT.flatten())\n",
    "ECM_SUJ_TO_BASE_TRANS = PyKDL.Vector(0.6126, 0.0000,   0.1016)\n",
    "ECM_SUJ_TO_BASE_FRAME = PyKDL.Frame(ECM_BASE_TO_SUJ_ROT, ECM_BASE_TO_SUJ_TRANS)\n",
    "ECM_BASE_TO_SUJ_FRAME = ECM_SUJ_TO_BASE_FRAME.Inverse()\n",
    "\n",
    "ECM_BASE_TO_WORLD_FRAME = \n",
    "\n",
    "PSM1_WORLD_ORIGIN_TO_SUJ_ROT_MAT = np.asarray([[-1.0000,  0.0000,  0.0000],\n",
    "                                               [ 0.0000, -1.0000,  0.0000],\n",
    "                                               [ 0.0000,  0.0000,  1.0000]])\n",
    "PSM1_WORLD_ORIGIN_TO_SUJ_ROT = PyKDL.Rotation(*PSM1_WORLD_ORIGIN_TO_SUJ_ROT_MAT.flatten())\n",
    "PSM1_WORLD_ORIGIN_TO_SUJ_TRANS = PyKDL.Vector(0.4864, 0.0000, 0.1524)\n",
    "PSM1_WORLD_ORIGIN_TO_SUJ_FRAME = PyKDL.Frame(PSM1_WORLD_ORIGIN_TO_SUJ_ROT, PSM1_WORLD_ORIGIN_TO_SUJ_TRANS)\n",
    "\n",
    "PSM1_SUJ_TO_TOOL_ROT_MAT = np.asarray([[ 0.0000, 1.0000,  0.0000],\n",
    "                                      [ -1.0000,  0.0000,  0.0000],\n",
    "                                      [ 0.0000,  0.0000,  1.0000]])\n",
    "PSM1_SUJ_TO_TOOL_ROT = PyKDL.Rotation(*PSM1_SUJ_TO_TOOL_ROT_MAT.flatten())\n",
    "PSM1_SUJ_TO_TOOL_TRANS = PyKDL.Vector(0.4864, 0.0000, 0.1524)\n",
    "PSM1_SUJ_TO_TOOL_FRAME = PyKDL.Frame(PSM1_SUJ_TO_TOOL_ROT, PSM1_SUJ_TO_TOOL_TRANS)\n",
    "\n",
    "PSM1_WORLD_TO_TOOL_FRAME = PSM1_SUJ_TO_TOOL_FRAME * PSM1_WORLD_ORIGIN_TO_SUJ_FRAME\n",
    "PSM1_TOOL_TO_WORLD_FRAME = PSM1_WORLD_TO_TOOL_FRAME.Inverse()"
   ]
  },
  {
   "cell_type": "code",
   "execution_count": 22,
   "metadata": {},
   "outputs": [
    {
     "data": {
      "text/plain": [
       "[     1.11028,  -0.0606099,   -0.631427]"
      ]
     },
     "execution_count": 22,
     "metadata": {},
     "output_type": "execute_result"
    },
    {
     "name": "stderr",
     "output_type": "stream",
     "text": [
      "[ERROR] [1589574306.331378]: bad callback: <bound method ecm.__state_joint_current_cb of <dvrk.ecm.ecm object at 0x7feccbf8f6d0>>\n",
      "Traceback (most recent call last):\n",
      "  File \"/opt/ros/melodic/lib/python2.7/dist-packages/rospy/topics.py\", line 750, in _invoke_callback\n",
      "    cb(msg)\n",
      "  File \"/home/ubuntu/catkin_ws/src/dvrk-ros/dvrk_python/src/dvrk/arm.py\", line 286, in __state_joint_current_cb\n",
      "    self.__effort_joint_current.resize(len(data.effort))\n",
      "ValueError: cannot resize an array that references or is referenced\n",
      "by another array in this way.\n",
      "Use the np.resize function or refcheck=False\n",
      "\n",
      "[ERROR] [1589574340.702137]: bad callback: <bound method ecm.__state_joint_current_cb of <dvrk.ecm.ecm object at 0x7feccbf8f6d0>>\n",
      "Traceback (most recent call last):\n",
      "  File \"/opt/ros/melodic/lib/python2.7/dist-packages/rospy/topics.py\", line 750, in _invoke_callback\n",
      "    cb(msg)\n",
      "  File \"/home/ubuntu/catkin_ws/src/dvrk-ros/dvrk_python/src/dvrk/arm.py\", line 286, in __state_joint_current_cb\n",
      "    self.__effort_joint_current.resize(len(data.effort))\n",
      "ValueError: cannot resize an array that references or is referenced\n",
      "by another array in this way.\n",
      "Use the np.resize function or refcheck=False\n",
      "\n",
      "[ERROR] [1589574355.689207]: bad callback: <bound method ecm.__state_joint_current_cb of <dvrk.ecm.ecm object at 0x7feccbf8f6d0>>\n",
      "Traceback (most recent call last):\n",
      "  File \"/opt/ros/melodic/lib/python2.7/dist-packages/rospy/topics.py\", line 750, in _invoke_callback\n",
      "    cb(msg)\n",
      "  File \"/home/ubuntu/catkin_ws/src/dvrk-ros/dvrk_python/src/dvrk/arm.py\", line 286, in __state_joint_current_cb\n",
      "    self.__effort_joint_current.resize(len(data.effort))\n",
      "ValueError: cannot resize an array that references or is referenced\n",
      "by another array in this way.\n",
      "Use the np.resize function or refcheck=False\n",
      "\n",
      "[ERROR] [1589574405.539002]: bad callback: <bound method ecm.__state_joint_current_cb of <dvrk.ecm.ecm object at 0x7feccbf8f6d0>>\n",
      "Traceback (most recent call last):\n",
      "  File \"/opt/ros/melodic/lib/python2.7/dist-packages/rospy/topics.py\", line 750, in _invoke_callback\n",
      "    cb(msg)\n",
      "  File \"/home/ubuntu/catkin_ws/src/dvrk-ros/dvrk_python/src/dvrk/arm.py\", line 285, in __state_joint_current_cb\n",
      "    self.__velocity_joint_current.resize(len(data.velocity))\n",
      "ValueError: cannot resize an array that references or is referenced\n",
      "by another array in this way.\n",
      "Use the np.resize function or refcheck=False\n",
      "\n",
      "[ERROR] [1589574463.720543]: bad callback: <bound method ecm.__state_joint_current_cb of <dvrk.ecm.ecm object at 0x7feccbf8f6d0>>\n",
      "Traceback (most recent call last):\n",
      "  File \"/opt/ros/melodic/lib/python2.7/dist-packages/rospy/topics.py\", line 750, in _invoke_callback\n",
      "    cb(msg)\n",
      "  File \"/home/ubuntu/catkin_ws/src/dvrk-ros/dvrk_python/src/dvrk/arm.py\", line 285, in __state_joint_current_cb\n",
      "    self.__velocity_joint_current.resize(len(data.velocity))\n",
      "ValueError: cannot resize an array that references or is referenced\n",
      "by another array in this way.\n",
      "Use the np.resize function or refcheck=False\n",
      "\n",
      "[ERROR] [1589574505.699817]: bad callback: <bound method ecm.__state_joint_current_cb of <dvrk.ecm.ecm object at 0x7feccbf8f6d0>>\n",
      "Traceback (most recent call last):\n",
      "  File \"/opt/ros/melodic/lib/python2.7/dist-packages/rospy/topics.py\", line 750, in _invoke_callback\n",
      "    cb(msg)\n",
      "  File \"/home/ubuntu/catkin_ws/src/dvrk-ros/dvrk_python/src/dvrk/arm.py\", line 286, in __state_joint_current_cb\n",
      "    self.__effort_joint_current.resize(len(data.effort))\n",
      "ValueError: cannot resize an array that references or is referenced\n",
      "by another array in this way.\n",
      "Use the np.resize function or refcheck=False\n",
      "\n",
      "[ERROR] [1589574542.620266]: bad callback: <bound method ecm.__state_joint_current_cb of <dvrk.ecm.ecm object at 0x7feccbf8f6d0>>\n",
      "Traceback (most recent call last):\n",
      "  File \"/opt/ros/melodic/lib/python2.7/dist-packages/rospy/topics.py\", line 750, in _invoke_callback\n",
      "    cb(msg)\n",
      "  File \"/home/ubuntu/catkin_ws/src/dvrk-ros/dvrk_python/src/dvrk/arm.py\", line 285, in __state_joint_current_cb\n",
      "    self.__velocity_joint_current.resize(len(data.velocity))\n",
      "ValueError: cannot resize an array that references or is referenced\n",
      "by another array in this way.\n",
      "Use the np.resize function or refcheck=False\n",
      "\n",
      "[ERROR] [1589574662.158408]: bad callback: <bound method ecm.__state_joint_current_cb of <dvrk.ecm.ecm object at 0x7feccbf8f6d0>>\n",
      "Traceback (most recent call last):\n",
      "  File \"/opt/ros/melodic/lib/python2.7/dist-packages/rospy/topics.py\", line 750, in _invoke_callback\n",
      "    cb(msg)\n",
      "  File \"/home/ubuntu/catkin_ws/src/dvrk-ros/dvrk_python/src/dvrk/arm.py\", line 286, in __state_joint_current_cb\n",
      "    self.__effort_joint_current.resize(len(data.effort))\n",
      "ValueError: cannot resize an array that references or is referenced\n",
      "by another array in this way.\n",
      "Use the np.resize function or refcheck=False\n",
      "\n",
      "[ERROR] [1589574687.828722]: bad callback: <bound method ecm.__state_joint_current_cb of <dvrk.ecm.ecm object at 0x7feccbf8f6d0>>\n",
      "Traceback (most recent call last):\n",
      "  File \"/opt/ros/melodic/lib/python2.7/dist-packages/rospy/topics.py\", line 750, in _invoke_callback\n",
      "    cb(msg)\n",
      "  File \"/home/ubuntu/catkin_ws/src/dvrk-ros/dvrk_python/src/dvrk/arm.py\", line 285, in __state_joint_current_cb\n",
      "    self.__velocity_joint_current.resize(len(data.velocity))\n",
      "ValueError: cannot resize an array that references or is referenced\n",
      "by another array in this way.\n",
      "Use the np.resize function or refcheck=False\n",
      "\n",
      "[ERROR] [1589574784.662938]: bad callback: <bound method ecm.__state_joint_current_cb of <dvrk.ecm.ecm object at 0x7feccbf8f6d0>>\n",
      "Traceback (most recent call last):\n",
      "  File \"/opt/ros/melodic/lib/python2.7/dist-packages/rospy/topics.py\", line 750, in _invoke_callback\n",
      "    cb(msg)\n",
      "  File \"/home/ubuntu/catkin_ws/src/dvrk-ros/dvrk_python/src/dvrk/arm.py\", line 285, in __state_joint_current_cb\n",
      "    self.__velocity_joint_current.resize(len(data.velocity))\n",
      "ValueError: cannot resize an array that references or is referenced\n",
      "by another array in this way.\n",
      "Use the np.resize function or refcheck=False\n",
      "\n",
      "[ERROR] [1589574921.772218]: bad callback: <bound method ecm.__state_joint_current_cb of <dvrk.ecm.ecm object at 0x7feccbf8f6d0>>\n",
      "Traceback (most recent call last):\n",
      "  File \"/opt/ros/melodic/lib/python2.7/dist-packages/rospy/topics.py\", line 750, in _invoke_callback\n",
      "    cb(msg)\n",
      "  File \"/home/ubuntu/catkin_ws/src/dvrk-ros/dvrk_python/src/dvrk/arm.py\", line 285, in __state_joint_current_cb\n",
      "    self.__velocity_joint_current.resize(len(data.velocity))\n",
      "ValueError: cannot resize an array that references or is referenced\n",
      "by another array in this way.\n",
      "Use the np.resize function or refcheck=False\n",
      "\n",
      "[ERROR] [1589575061.811223]: bad callback: <bound method psm.__state_joint_current_cb of <dvrk.psm.psm object at 0x7feccb403e10>>\n",
      "Traceback (most recent call last):\n",
      "  File \"/opt/ros/melodic/lib/python2.7/dist-packages/rospy/topics.py\", line 750, in _invoke_callback\n",
      "    cb(msg)\n",
      "  File \"/home/ubuntu/catkin_ws/src/dvrk-ros/dvrk_python/src/dvrk/arm.py\", line 286, in __state_joint_current_cb\n",
      "    self.__effort_joint_current.resize(len(data.effort))\n",
      "ValueError: cannot resize an array that references or is referenced\n",
      "by another array in this way.\n",
      "Use the np.resize function or refcheck=False\n",
      "\n",
      "[ERROR] [1589575150.264501]: bad callback: <bound method ecm.__state_joint_current_cb of <dvrk.ecm.ecm object at 0x7feccbf8f6d0>>\n",
      "Traceback (most recent call last):\n",
      "  File \"/opt/ros/melodic/lib/python2.7/dist-packages/rospy/topics.py\", line 750, in _invoke_callback\n",
      "    cb(msg)\n",
      "  File \"/home/ubuntu/catkin_ws/src/dvrk-ros/dvrk_python/src/dvrk/arm.py\", line 286, in __state_joint_current_cb\n",
      "    self.__effort_joint_current.resize(len(data.effort))\n",
      "ValueError: cannot resize an array that references or is referenced\n",
      "by another array in this way.\n",
      "Use the np.resize function or refcheck=False\n",
      "\n",
      "[ERROR] [1589575199.982249]: bad callback: <bound method ecm.__state_joint_current_cb of <dvrk.ecm.ecm object at 0x7feccbf8f6d0>>\n",
      "Traceback (most recent call last):\n",
      "  File \"/opt/ros/melodic/lib/python2.7/dist-packages/rospy/topics.py\", line 750, in _invoke_callback\n",
      "    cb(msg)\n",
      "  File \"/home/ubuntu/catkin_ws/src/dvrk-ros/dvrk_python/src/dvrk/arm.py\", line 285, in __state_joint_current_cb\n",
      "    self.__velocity_joint_current.resize(len(data.velocity))\n",
      "ValueError: cannot resize an array that references or is referenced\n",
      "by another array in this way.\n",
      "Use the np.resize function or refcheck=False\n",
      "\n"
     ]
    },
    {
     "name": "stderr",
     "output_type": "stream",
     "text": [
      "[ERROR] [1589575343.654236]: bad callback: <bound method ecm.__state_joint_current_cb of <dvrk.ecm.ecm object at 0x7feccbf8f6d0>>\n",
      "Traceback (most recent call last):\n",
      "  File \"/opt/ros/melodic/lib/python2.7/dist-packages/rospy/topics.py\", line 750, in _invoke_callback\n",
      "    cb(msg)\n",
      "  File \"/home/ubuntu/catkin_ws/src/dvrk-ros/dvrk_python/src/dvrk/arm.py\", line 285, in __state_joint_current_cb\n",
      "    self.__velocity_joint_current.resize(len(data.velocity))\n",
      "ValueError: cannot resize an array that references or is referenced\n",
      "by another array in this way.\n",
      "Use the np.resize function or refcheck=False\n",
      "\n",
      "[ERROR] [1589575485.184181]: bad callback: <bound method psm.__state_joint_current_cb of <dvrk.psm.psm object at 0x7feccb403e10>>\n",
      "Traceback (most recent call last):\n",
      "  File \"/opt/ros/melodic/lib/python2.7/dist-packages/rospy/topics.py\", line 750, in _invoke_callback\n",
      "    cb(msg)\n",
      "  File \"/home/ubuntu/catkin_ws/src/dvrk-ros/dvrk_python/src/dvrk/arm.py\", line 286, in __state_joint_current_cb\n",
      "    self.__effort_joint_current.resize(len(data.effort))\n",
      "ValueError: cannot resize an array that references or is referenced\n",
      "by another array in this way.\n",
      "Use the np.resize function or refcheck=False\n",
      "\n",
      "[ERROR] [1589575639.266872]: bad callback: <bound method psm.__state_joint_current_cb of <dvrk.psm.psm object at 0x7feccb403e10>>\n",
      "Traceback (most recent call last):\n",
      "  File \"/opt/ros/melodic/lib/python2.7/dist-packages/rospy/topics.py\", line 750, in _invoke_callback\n",
      "    cb(msg)\n",
      "  File \"/home/ubuntu/catkin_ws/src/dvrk-ros/dvrk_python/src/dvrk/arm.py\", line 286, in __state_joint_current_cb\n",
      "    self.__effort_joint_current.resize(len(data.effort))\n",
      "ValueError: cannot resize an array that references or is referenced\n",
      "by another array in this way.\n",
      "Use the np.resize function or refcheck=False\n",
      "\n",
      "[ERROR] [1589575696.822696]: bad callback: <bound method psm.__state_joint_current_cb of <dvrk.psm.psm object at 0x7feccb403e10>>\n",
      "Traceback (most recent call last):\n",
      "  File \"/opt/ros/melodic/lib/python2.7/dist-packages/rospy/topics.py\", line 750, in _invoke_callback\n",
      "    cb(msg)\n",
      "  File \"/home/ubuntu/catkin_ws/src/dvrk-ros/dvrk_python/src/dvrk/arm.py\", line 286, in __state_joint_current_cb\n",
      "    self.__effort_joint_current.resize(len(data.effort))\n",
      "ValueError: cannot resize an array that references or is referenced\n",
      "by another array in this way.\n",
      "Use the np.resize function or refcheck=False\n",
      "\n",
      "[ERROR] [1589575785.509511]: bad callback: <bound method psm.__state_joint_current_cb of <dvrk.psm.psm object at 0x7feccb403e10>>\n",
      "Traceback (most recent call last):\n",
      "  File \"/opt/ros/melodic/lib/python2.7/dist-packages/rospy/topics.py\", line 750, in _invoke_callback\n",
      "    cb(msg)\n",
      "  File \"/home/ubuntu/catkin_ws/src/dvrk-ros/dvrk_python/src/dvrk/arm.py\", line 286, in __state_joint_current_cb\n",
      "    self.__effort_joint_current.resize(len(data.effort))\n",
      "ValueError: cannot resize an array that references or is referenced\n",
      "by another array in this way.\n",
      "Use the np.resize function or refcheck=False\n",
      "\n",
      "[ERROR] [1589576113.594618]: bad callback: <bound method ecm.__state_joint_current_cb of <dvrk.ecm.ecm object at 0x7feccbf8f6d0>>\n",
      "Traceback (most recent call last):\n",
      "  File \"/opt/ros/melodic/lib/python2.7/dist-packages/rospy/topics.py\", line 750, in _invoke_callback\n",
      "    cb(msg)\n",
      "  File \"/home/ubuntu/catkin_ws/src/dvrk-ros/dvrk_python/src/dvrk/arm.py\", line 285, in __state_joint_current_cb\n",
      "    self.__velocity_joint_current.resize(len(data.velocity))\n",
      "ValueError: cannot resize an array that references or is referenced\n",
      "by another array in this way.\n",
      "Use the np.resize function or refcheck=False\n",
      "\n",
      "[ERROR] [1589576319.341028]: bad callback: <bound method ecm.__state_joint_current_cb of <dvrk.ecm.ecm object at 0x7feccbf8f6d0>>\n",
      "Traceback (most recent call last):\n",
      "  File \"/opt/ros/melodic/lib/python2.7/dist-packages/rospy/topics.py\", line 750, in _invoke_callback\n",
      "    cb(msg)\n",
      "  File \"/home/ubuntu/catkin_ws/src/dvrk-ros/dvrk_python/src/dvrk/arm.py\", line 285, in __state_joint_current_cb\n",
      "    self.__velocity_joint_current.resize(len(data.velocity))\n",
      "ValueError: cannot resize an array that references or is referenced\n",
      "by another array in this way.\n",
      "Use the np.resize function or refcheck=False\n",
      "\n",
      "[ERROR] [1589576474.284213]: bad callback: <bound method ecm.__state_joint_current_cb of <dvrk.ecm.ecm object at 0x7feccbf8f6d0>>\n",
      "Traceback (most recent call last):\n",
      "  File \"/opt/ros/melodic/lib/python2.7/dist-packages/rospy/topics.py\", line 750, in _invoke_callback\n",
      "    cb(msg)\n",
      "  File \"/home/ubuntu/catkin_ws/src/dvrk-ros/dvrk_python/src/dvrk/arm.py\", line 285, in __state_joint_current_cb\n",
      "    self.__velocity_joint_current.resize(len(data.velocity))\n",
      "ValueError: cannot resize an array that references or is referenced\n",
      "by another array in this way.\n",
      "Use the np.resize function or refcheck=False\n",
      "\n",
      "[ERROR] [1589576577.749822]: bad callback: <bound method ecm.__state_joint_current_cb of <dvrk.ecm.ecm object at 0x7feccbf8f6d0>>\n",
      "Traceback (most recent call last):\n",
      "  File \"/opt/ros/melodic/lib/python2.7/dist-packages/rospy/topics.py\", line 750, in _invoke_callback\n",
      "    cb(msg)\n",
      "  File \"/home/ubuntu/catkin_ws/src/dvrk-ros/dvrk_python/src/dvrk/arm.py\", line 285, in __state_joint_current_cb\n",
      "    self.__velocity_joint_current.resize(len(data.velocity))\n",
      "ValueError: cannot resize an array that references or is referenced\n",
      "by another array in this way.\n",
      "Use the np.resize function or refcheck=False\n",
      "\n",
      "[ERROR] [1589576619.474009]: bad callback: <bound method ecm.__state_joint_current_cb of <dvrk.ecm.ecm object at 0x7feccbf8f6d0>>\n",
      "Traceback (most recent call last):\n",
      "  File \"/opt/ros/melodic/lib/python2.7/dist-packages/rospy/topics.py\", line 750, in _invoke_callback\n",
      "    cb(msg)\n",
      "  File \"/home/ubuntu/catkin_ws/src/dvrk-ros/dvrk_python/src/dvrk/arm.py\", line 285, in __state_joint_current_cb\n",
      "    self.__velocity_joint_current.resize(len(data.velocity))\n",
      "ValueError: cannot resize an array that references or is referenced\n",
      "by another array in this way.\n",
      "Use the np.resize function or refcheck=False\n",
      "\n",
      "[ERROR] [1589576663.518659]: bad callback: <bound method psm.__state_joint_current_cb of <dvrk.psm.psm object at 0x7feccb403e10>>\n",
      "Traceback (most recent call last):\n",
      "  File \"/opt/ros/melodic/lib/python2.7/dist-packages/rospy/topics.py\", line 750, in _invoke_callback\n",
      "    cb(msg)\n",
      "  File \"/home/ubuntu/catkin_ws/src/dvrk-ros/dvrk_python/src/dvrk/arm.py\", line 286, in __state_joint_current_cb\n",
      "    self.__effort_joint_current.resize(len(data.effort))\n",
      "ValueError: cannot resize an array that references or is referenced\n",
      "by another array in this way.\n",
      "Use the np.resize function or refcheck=False\n",
      "\n",
      "[ERROR] [1589576692.129697]: bad callback: <bound method ecm.__state_joint_current_cb of <dvrk.ecm.ecm object at 0x7feccbf8f6d0>>\n",
      "Traceback (most recent call last):\n",
      "  File \"/opt/ros/melodic/lib/python2.7/dist-packages/rospy/topics.py\", line 750, in _invoke_callback\n",
      "    cb(msg)\n",
      "  File \"/home/ubuntu/catkin_ws/src/dvrk-ros/dvrk_python/src/dvrk/arm.py\", line 285, in __state_joint_current_cb\n",
      "    self.__velocity_joint_current.resize(len(data.velocity))\n",
      "ValueError: cannot resize an array that references or is referenced\n",
      "by another array in this way.\n",
      "Use the np.resize function or refcheck=False\n",
      "\n",
      "[ERROR] [1589576703.235172]: bad callback: <bound method ecm.__state_joint_current_cb of <dvrk.ecm.ecm object at 0x7feccbf8f6d0>>\n",
      "Traceback (most recent call last):\n",
      "  File \"/opt/ros/melodic/lib/python2.7/dist-packages/rospy/topics.py\", line 750, in _invoke_callback\n",
      "    cb(msg)\n",
      "  File \"/home/ubuntu/catkin_ws/src/dvrk-ros/dvrk_python/src/dvrk/arm.py\", line 286, in __state_joint_current_cb\n",
      "    self.__effort_joint_current.resize(len(data.effort))\n",
      "ValueError: cannot resize an array that references or is referenced\n",
      "by another array in this way.\n",
      "Use the np.resize function or refcheck=False\n",
      "\n",
      "[ERROR] [1589576765.087748]: bad callback: <bound method ecm.__state_joint_current_cb of <dvrk.ecm.ecm object at 0x7feccbf8f6d0>>\n",
      "Traceback (most recent call last):\n",
      "  File \"/opt/ros/melodic/lib/python2.7/dist-packages/rospy/topics.py\", line 750, in _invoke_callback\n",
      "    cb(msg)\n",
      "  File \"/home/ubuntu/catkin_ws/src/dvrk-ros/dvrk_python/src/dvrk/arm.py\", line 286, in __state_joint_current_cb\n",
      "    self.__effort_joint_current.resize(len(data.effort))\n",
      "ValueError: cannot resize an array that references or is referenced\n",
      "by another array in this way.\n",
      "Use the np.resize function or refcheck=False\n",
      "\n"
     ]
    },
    {
     "name": "stderr",
     "output_type": "stream",
     "text": [
      "[ERROR] [1589576788.724962]: bad callback: <bound method ecm.__state_joint_current_cb of <dvrk.ecm.ecm object at 0x7feccbf8f6d0>>\n",
      "Traceback (most recent call last):\n",
      "  File \"/opt/ros/melodic/lib/python2.7/dist-packages/rospy/topics.py\", line 750, in _invoke_callback\n",
      "    cb(msg)\n",
      "  File \"/home/ubuntu/catkin_ws/src/dvrk-ros/dvrk_python/src/dvrk/arm.py\", line 285, in __state_joint_current_cb\n",
      "    self.__velocity_joint_current.resize(len(data.velocity))\n",
      "ValueError: cannot resize an array that references or is referenced\n",
      "by another array in this way.\n",
      "Use the np.resize function or refcheck=False\n",
      "\n",
      "[ERROR] [1589576930.059827]: bad callback: <bound method ecm.__state_joint_current_cb of <dvrk.ecm.ecm object at 0x7feccbf8f6d0>>\n",
      "Traceback (most recent call last):\n",
      "  File \"/opt/ros/melodic/lib/python2.7/dist-packages/rospy/topics.py\", line 750, in _invoke_callback\n",
      "    cb(msg)\n",
      "  File \"/home/ubuntu/catkin_ws/src/dvrk-ros/dvrk_python/src/dvrk/arm.py\", line 286, in __state_joint_current_cb\n",
      "    self.__effort_joint_current.resize(len(data.effort))\n",
      "ValueError: cannot resize an array that references or is referenced\n",
      "by another array in this way.\n",
      "Use the np.resize function or refcheck=False\n",
      "\n",
      "[ERROR] [1589577046.254343]: bad callback: <bound method ecm.__state_joint_current_cb of <dvrk.ecm.ecm object at 0x7feccbf8f6d0>>\n",
      "Traceback (most recent call last):\n",
      "  File \"/opt/ros/melodic/lib/python2.7/dist-packages/rospy/topics.py\", line 750, in _invoke_callback\n",
      "    cb(msg)\n",
      "  File \"/home/ubuntu/catkin_ws/src/dvrk-ros/dvrk_python/src/dvrk/arm.py\", line 286, in __state_joint_current_cb\n",
      "    self.__effort_joint_current.resize(len(data.effort))\n",
      "ValueError: cannot resize an array that references or is referenced\n",
      "by another array in this way.\n",
      "Use the np.resize function or refcheck=False\n",
      "\n",
      "[ERROR] [1589577087.179096]: bad callback: <bound method ecm.__state_joint_current_cb of <dvrk.ecm.ecm object at 0x7feccbf8f6d0>>\n",
      "Traceback (most recent call last):\n",
      "  File \"/opt/ros/melodic/lib/python2.7/dist-packages/rospy/topics.py\", line 750, in _invoke_callback\n",
      "    cb(msg)\n",
      "  File \"/home/ubuntu/catkin_ws/src/dvrk-ros/dvrk_python/src/dvrk/arm.py\", line 285, in __state_joint_current_cb\n",
      "    self.__velocity_joint_current.resize(len(data.velocity))\n",
      "ValueError: cannot resize an array that references or is referenced\n",
      "by another array in this way.\n",
      "Use the np.resize function or refcheck=False\n",
      "\n",
      "[ERROR] [1589577133.729266]: bad callback: <bound method ecm.__state_joint_current_cb of <dvrk.ecm.ecm object at 0x7feccbf8f6d0>>\n",
      "Traceback (most recent call last):\n",
      "  File \"/opt/ros/melodic/lib/python2.7/dist-packages/rospy/topics.py\", line 750, in _invoke_callback\n",
      "    cb(msg)\n",
      "  File \"/home/ubuntu/catkin_ws/src/dvrk-ros/dvrk_python/src/dvrk/arm.py\", line 286, in __state_joint_current_cb\n",
      "    self.__effort_joint_current.resize(len(data.effort))\n",
      "ValueError: cannot resize an array that references or is referenced\n",
      "by another array in this way.\n",
      "Use the np.resize function or refcheck=False\n",
      "\n",
      "[ERROR] [1589577181.382766]: bad callback: <bound method ecm.__state_joint_current_cb of <dvrk.ecm.ecm object at 0x7feccbf8f6d0>>\n",
      "Traceback (most recent call last):\n",
      "  File \"/opt/ros/melodic/lib/python2.7/dist-packages/rospy/topics.py\", line 750, in _invoke_callback\n",
      "    cb(msg)\n",
      "  File \"/home/ubuntu/catkin_ws/src/dvrk-ros/dvrk_python/src/dvrk/arm.py\", line 285, in __state_joint_current_cb\n",
      "    self.__velocity_joint_current.resize(len(data.velocity))\n",
      "ValueError: cannot resize an array that references or is referenced\n",
      "by another array in this way.\n",
      "Use the np.resize function or refcheck=False\n",
      "\n",
      "[ERROR] [1589577278.421474]: bad callback: <bound method ecm.__state_joint_current_cb of <dvrk.ecm.ecm object at 0x7feccbf8f6d0>>\n",
      "Traceback (most recent call last):\n",
      "  File \"/opt/ros/melodic/lib/python2.7/dist-packages/rospy/topics.py\", line 750, in _invoke_callback\n",
      "    cb(msg)\n",
      "  File \"/home/ubuntu/catkin_ws/src/dvrk-ros/dvrk_python/src/dvrk/arm.py\", line 286, in __state_joint_current_cb\n",
      "    self.__effort_joint_current.resize(len(data.effort))\n",
      "ValueError: cannot resize an array that references or is referenced\n",
      "by another array in this way.\n",
      "Use the np.resize function or refcheck=False\n",
      "\n",
      "[ERROR] [1589577355.470982]: bad callback: <bound method psm.__state_joint_current_cb of <dvrk.psm.psm object at 0x7feccb403e10>>\n",
      "Traceback (most recent call last):\n",
      "  File \"/opt/ros/melodic/lib/python2.7/dist-packages/rospy/topics.py\", line 750, in _invoke_callback\n",
      "    cb(msg)\n",
      "  File \"/home/ubuntu/catkin_ws/src/dvrk-ros/dvrk_python/src/dvrk/arm.py\", line 286, in __state_joint_current_cb\n",
      "    self.__effort_joint_current.resize(len(data.effort))\n",
      "ValueError: cannot resize an array that references or is referenced\n",
      "by another array in this way.\n",
      "Use the np.resize function or refcheck=False\n",
      "\n",
      "[ERROR] [1589577387.500626]: bad callback: <bound method ecm.__state_joint_current_cb of <dvrk.ecm.ecm object at 0x7feccbf8f6d0>>\n",
      "Traceback (most recent call last):\n",
      "  File \"/opt/ros/melodic/lib/python2.7/dist-packages/rospy/topics.py\", line 750, in _invoke_callback\n",
      "    cb(msg)\n",
      "  File \"/home/ubuntu/catkin_ws/src/dvrk-ros/dvrk_python/src/dvrk/arm.py\", line 285, in __state_joint_current_cb\n",
      "    self.__velocity_joint_current.resize(len(data.velocity))\n",
      "ValueError: cannot resize an array that references or is referenced\n",
      "by another array in this way.\n",
      "Use the np.resize function or refcheck=False\n",
      "\n",
      "[ERROR] [1589577441.122999]: bad callback: <bound method ecm.__state_joint_current_cb of <dvrk.ecm.ecm object at 0x7feccbf8f6d0>>\n",
      "Traceback (most recent call last):\n",
      "  File \"/opt/ros/melodic/lib/python2.7/dist-packages/rospy/topics.py\", line 750, in _invoke_callback\n",
      "    cb(msg)\n",
      "  File \"/home/ubuntu/catkin_ws/src/dvrk-ros/dvrk_python/src/dvrk/arm.py\", line 286, in __state_joint_current_cb\n",
      "    self.__effort_joint_current.resize(len(data.effort))\n",
      "ValueError: cannot resize an array that references or is referenced\n",
      "by another array in this way.\n",
      "Use the np.resize function or refcheck=False\n",
      "\n",
      "[ERROR] [1589577514.899569]: bad callback: <bound method ecm.__state_joint_current_cb of <dvrk.ecm.ecm object at 0x7feccbf8f6d0>>\n",
      "Traceback (most recent call last):\n",
      "  File \"/opt/ros/melodic/lib/python2.7/dist-packages/rospy/topics.py\", line 750, in _invoke_callback\n",
      "    cb(msg)\n",
      "  File \"/home/ubuntu/catkin_ws/src/dvrk-ros/dvrk_python/src/dvrk/arm.py\", line 285, in __state_joint_current_cb\n",
      "    self.__velocity_joint_current.resize(len(data.velocity))\n",
      "ValueError: cannot resize an array that references or is referenced\n",
      "by another array in this way.\n",
      "Use the np.resize function or refcheck=False\n",
      "\n",
      "[ERROR] [1589577514.905999]: bad callback: <bound method ecm.__state_joint_current_cb of <dvrk.ecm.ecm object at 0x7feccbf8f6d0>>\n",
      "Traceback (most recent call last):\n",
      "  File \"/opt/ros/melodic/lib/python2.7/dist-packages/rospy/topics.py\", line 750, in _invoke_callback\n",
      "    cb(msg)\n",
      "  File \"/home/ubuntu/catkin_ws/src/dvrk-ros/dvrk_python/src/dvrk/arm.py\", line 285, in __state_joint_current_cb\n",
      "    self.__velocity_joint_current.resize(len(data.velocity))\n",
      "ValueError: cannot resize an array that references or is referenced\n",
      "by another array in this way.\n",
      "Use the np.resize function or refcheck=False\n",
      "\n",
      "[ERROR] [1589577649.535427]: bad callback: <bound method ecm.__state_joint_current_cb of <dvrk.ecm.ecm object at 0x7feccbf8f6d0>>\n",
      "Traceback (most recent call last):\n",
      "  File \"/opt/ros/melodic/lib/python2.7/dist-packages/rospy/topics.py\", line 750, in _invoke_callback\n",
      "    cb(msg)\n",
      "  File \"/home/ubuntu/catkin_ws/src/dvrk-ros/dvrk_python/src/dvrk/arm.py\", line 286, in __state_joint_current_cb\n",
      "    self.__effort_joint_current.resize(len(data.effort))\n",
      "ValueError: cannot resize an array that references or is referenced\n",
      "by another array in this way.\n",
      "Use the np.resize function or refcheck=False\n",
      "\n",
      "[ERROR] [1589577925.639917]: bad callback: <bound method ecm.__state_joint_current_cb of <dvrk.ecm.ecm object at 0x7feccbf8f6d0>>\n",
      "Traceback (most recent call last):\n",
      "  File \"/opt/ros/melodic/lib/python2.7/dist-packages/rospy/topics.py\", line 750, in _invoke_callback\n",
      "    cb(msg)\n",
      "  File \"/home/ubuntu/catkin_ws/src/dvrk-ros/dvrk_python/src/dvrk/arm.py\", line 286, in __state_joint_current_cb\n",
      "    self.__effort_joint_current.resize(len(data.effort))\n",
      "ValueError: cannot resize an array that references or is referenced\n",
      "by another array in this way.\n",
      "Use the np.resize function or refcheck=False\n",
      "\n"
     ]
    },
    {
     "name": "stderr",
     "output_type": "stream",
     "text": [
      "[ERROR] [1589578206.354964]: bad callback: <bound method ecm.__state_joint_current_cb of <dvrk.ecm.ecm object at 0x7feccbf8f6d0>>\n",
      "Traceback (most recent call last):\n",
      "  File \"/opt/ros/melodic/lib/python2.7/dist-packages/rospy/topics.py\", line 750, in _invoke_callback\n",
      "    cb(msg)\n",
      "  File \"/home/ubuntu/catkin_ws/src/dvrk-ros/dvrk_python/src/dvrk/arm.py\", line 286, in __state_joint_current_cb\n",
      "    self.__effort_joint_current.resize(len(data.effort))\n",
      "ValueError: cannot resize an array that references or is referenced\n",
      "by another array in this way.\n",
      "Use the np.resize function or refcheck=False\n",
      "\n",
      "[ERROR] [1589578248.756719]: bad callback: <bound method ecm.__state_joint_current_cb of <dvrk.ecm.ecm object at 0x7feccbf8f6d0>>\n",
      "Traceback (most recent call last):\n",
      "  File \"/opt/ros/melodic/lib/python2.7/dist-packages/rospy/topics.py\", line 750, in _invoke_callback\n",
      "    cb(msg)\n",
      "  File \"/home/ubuntu/catkin_ws/src/dvrk-ros/dvrk_python/src/dvrk/arm.py\", line 286, in __state_joint_current_cb\n",
      "    self.__effort_joint_current.resize(len(data.effort))\n",
      "ValueError: cannot resize an array that references or is referenced\n",
      "by another array in this way.\n",
      "Use the np.resize function or refcheck=False\n",
      "\n",
      "[ERROR] [1589578257.087009]: bad callback: <bound method ecm.__state_joint_current_cb of <dvrk.ecm.ecm object at 0x7feccbf8f6d0>>\n",
      "Traceback (most recent call last):\n",
      "  File \"/opt/ros/melodic/lib/python2.7/dist-packages/rospy/topics.py\", line 750, in _invoke_callback\n",
      "    cb(msg)\n",
      "  File \"/home/ubuntu/catkin_ws/src/dvrk-ros/dvrk_python/src/dvrk/arm.py\", line 285, in __state_joint_current_cb\n",
      "    self.__velocity_joint_current.resize(len(data.velocity))\n",
      "ValueError: cannot resize an array that references or is referenced\n",
      "by another array in this way.\n",
      "Use the np.resize function or refcheck=False\n",
      "\n",
      "[ERROR] [1589578301.146980]: bad callback: <bound method ecm.__state_joint_current_cb of <dvrk.ecm.ecm object at 0x7feccbf8f6d0>>\n",
      "Traceback (most recent call last):\n",
      "  File \"/opt/ros/melodic/lib/python2.7/dist-packages/rospy/topics.py\", line 750, in _invoke_callback\n",
      "    cb(msg)\n",
      "  File \"/home/ubuntu/catkin_ws/src/dvrk-ros/dvrk_python/src/dvrk/arm.py\", line 285, in __state_joint_current_cb\n",
      "    self.__velocity_joint_current.resize(len(data.velocity))\n",
      "ValueError: cannot resize an array that references or is referenced\n",
      "by another array in this way.\n",
      "Use the np.resize function or refcheck=False\n",
      "\n"
     ]
    }
   ],
   "source": [
    "tfl_cam_ecm_setup = tf_listener.lookupTransform('ecm_setup_link', 'camera', rospy.Time())\n",
    "tf_cam_ecm_setup = tfl_to_pykdl_frame(tfl_cam_ecm_setup)\n",
    "tf_cam_world = ECM_SUJ_TO_WORLD_ORIGIN_FRAME * tf_cam_ecm_setup\n",
    "ball_pos_world = tf_cam_world * ball_pos_cam\n",
    "ball_pos_ecm_setup_link = tf_cam_ecm_setup_base * ball_pos_cam\n",
    "ball_pos_ecm_setup_link # this is sane, i hope the SUJ transform for the "
   ]
  },
  {
   "cell_type": "code",
   "execution_count": null,
   "metadata": {},
   "outputs": [],
   "source": []
  }
 ],
 "metadata": {
  "jupytext": {
   "text_representation": {
    "extension": ".py",
    "format_name": "light",
    "format_version": "1.5",
    "jupytext_version": "1.4.2"
   }
  },
  "kernelspec": {
   "display_name": "Python 2",
   "language": "python",
   "name": "python2"
  },
  "language_info": {
   "codemirror_mode": {
    "name": "ipython",
    "version": 2
   },
   "file_extension": ".py",
   "mimetype": "text/x-python",
   "name": "python",
   "nbconvert_exporter": "python",
   "pygments_lexer": "ipython2",
   "version": "2.7.17"
  }
 },
 "nbformat": 4,
 "nbformat_minor": 2
}
