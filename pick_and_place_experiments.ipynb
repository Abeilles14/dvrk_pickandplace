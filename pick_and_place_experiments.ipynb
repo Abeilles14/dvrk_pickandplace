{
 "cells": [
  {
   "cell_type": "code",
   "execution_count": 1,
   "metadata": {},
   "outputs": [],
   "source": [
    "import jupyros as jr\n",
    "import rospy\n",
    "import numpy as np\n",
    "from sensor_msgs import msg\n",
    "import cv2\n",
    "import cv_bridge\n",
    "from copy import deepcopy\n",
    "import ipywidgets as widgets\n",
    "from IPython.display import clear_output, Image, display\n",
    "import PIL.Image\n",
    "from cStringIO import StringIO\n",
    "import matplotlib.pyplot as plt\n",
    "import dvrk\n",
    "import PyKDL\n",
    "import tf\n",
    "import tf_conversions"
   ]
  },
  {
   "cell_type": "code",
   "execution_count": 2,
   "metadata": {},
   "outputs": [],
   "source": [
    "rospy.init_node('notebook')"
   ]
  },
  {
   "cell_type": "code",
   "execution_count": 3,
   "metadata": {},
   "outputs": [
    {
     "data": {
      "text/plain": [
       "[['/dvrk/setup_joint/robot_state', 'std_msgs/String'],\n",
       " ['/dvrk/PSM1/current_state', 'std_msgs/String'],\n",
       " ['/dvrk/ECM/wrench_body_current', 'geometry_msgs/WrenchStamped'],\n",
       " ['/dvrk/PSM3/goal_reached', 'std_msgs/Bool'],\n",
       " ['/dvrk/PSM2/position_cartesian_local_current', 'geometry_msgs/PoseStamped'],\n",
       " ['/dvrk/SUJ/ECM/position_cartesian_local_current',\n",
       "  'geometry_msgs/PoseStamped'],\n",
       " ['/dvrk/SUJ/PSM2/position_cartesian_current', 'geometry_msgs/PoseStamped'],\n",
       " ['/dvrk/PSM3/state_joint_current', 'sensor_msgs/JointState'],\n",
       " ['/dvrk/console/teleop/teleop_psm_selected', 'diagnostic_msgs/KeyValue'],\n",
       " ['/dvrk/PSM2/joint_velocity_ratio', 'std_msgs/Float64'],\n",
       " ['/dvrk/ECM/warning', 'std_msgs/String'],\n",
       " ['/dvrk/PSM3/manip_clutch', 'std_msgs/Bool'],\n",
       " ['/dvrk/PSM3/position_cartesian_current', 'geometry_msgs/PoseStamped'],\n",
       " ['/dvrk/ECM/state_joint_desired', 'sensor_msgs/JointState'],\n",
       " ['/dvrk/console/teleop/teleop_psm_unselected', 'diagnostic_msgs/KeyValue'],\n",
       " ['/dvrk/PSM2/position_cartesian_desired', 'geometry_msgs/PoseStamped'],\n",
       " ['/dvrk/ECM/position_cartesian_local_current', 'geometry_msgs/PoseStamped'],\n",
       " ['/dvrk/PSM1/status', 'std_msgs/String'],\n",
       " ['/tf', 'tf2_msgs/TFMessage'],\n",
       " ['/dvrk/tf_broadcast/period_statistics', 'cisst_msgs/mtsIntervalStatistics'],\n",
       " ['/dvrk/PSM1/joint_velocity_ratio', 'std_msgs/Float64'],\n",
       " ['/dvrk/PSM1/desired_state', 'std_msgs/String'],\n",
       " ['/dvrk/PSM3/state_jaw_desired', 'sensor_msgs/JointState'],\n",
       " ['/dvrk/SUJ/PSM3/position_cartesian_local_current',\n",
       "  'geometry_msgs/PoseStamped'],\n",
       " ['/dvrk/ECM/position_cartesian_current', 'geometry_msgs/PoseStamped'],\n",
       " ['/dvrk/SUJ/PSM1/position_cartesian_local_current',\n",
       "  'geometry_msgs/PoseStamped'],\n",
       " ['/dvrk/PSM1/position_cartesian_local_desired', 'geometry_msgs/PoseStamped'],\n",
       " ['/dvrk/PSM2/position_cartesian_local_desired', 'geometry_msgs/PoseStamped'],\n",
       " ['/clicked_point', 'geometry_msgs/PointStamped'],\n",
       " ['/dvrk/PSM1/wrench_body_current', 'geometry_msgs/WrenchStamped'],\n",
       " ['/dvrk/PSM2/robot_state', 'std_msgs/String'],\n",
       " ['/dvrk/SUJ/ECM/position_cartesian_current', 'geometry_msgs/PoseStamped'],\n",
       " ['/dvrk/PSM1/state_jaw_current', 'sensor_msgs/JointState'],\n",
       " ['/dvrk/setup_joint/state_joint_current', 'sensor_msgs/JointState'],\n",
       " ['/dvrk/PSM1/jacobian_body', 'std_msgs/Float64MultiArray'],\n",
       " ['/dvrk/ECM/joint_velocity_ratio', 'std_msgs/Float64'],\n",
       " ['/dvrk/PSM2/current_state', 'std_msgs/String'],\n",
       " ['/dvrk/PSM1/error', 'std_msgs/String'],\n",
       " ['/dvrk/PSM1/twist_body_current', 'geometry_msgs/TwistStamped'],\n",
       " ['/stereo/left/image_raw', 'sensor_msgs/Image'],\n",
       " ['/dvrk/PSM3/jacobian_spatial', 'std_msgs/Float64MultiArray'],\n",
       " ['/dvrk/ECM/manip_clutch', 'sensor_msgs/Joy'],\n",
       " ['/dvrk/PSM2/desired_state', 'std_msgs/String'],\n",
       " ['/dvrk/PSM3/position_cartesian_local_desired', 'geometry_msgs/PoseStamped'],\n",
       " ['/dvrk/SUJ/PSM2/position_cartesian_local_current',\n",
       "  'geometry_msgs/PoseStamped'],\n",
       " ['/dvrk/PSM3/jacobian_body', 'std_msgs/Float64MultiArray'],\n",
       " ['/dvrk/ECM/joint_states', 'sensor_msgs/JointState'],\n",
       " ['/stereo/left/camera_info', 'sensor_msgs/CameraInfo'],\n",
       " ['/dvrk/ECM/twist_body_current', 'geometry_msgs/TwistStamped'],\n",
       " ['/dvrk/SUJ/PSM1/state_joint_current', 'sensor_msgs/JointState'],\n",
       " ['/dvrk/PSM2/manip_clutch', 'std_msgs/Bool'],\n",
       " ['/dvrk/PSM2/error', 'std_msgs/String'],\n",
       " ['/dvrk/ECM/position_cartesian_desired', 'geometry_msgs/PoseStamped'],\n",
       " ['/stereo/right/camera_info', 'sensor_msgs/CameraInfo'],\n",
       " ['/dvrk/PSM2/wrench_body_current', 'geometry_msgs/WrenchStamped'],\n",
       " ['/dvrk/PSM3/state_jaw_current', 'sensor_msgs/JointState'],\n",
       " ['/dvrk/PSM3/joint_acceleration_ratio', 'std_msgs/Float64'],\n",
       " ['/dvrk/PSM2/state_jaw_current', 'sensor_msgs/JointState'],\n",
       " ['/dvrk/PSM3/desired_state', 'std_msgs/String'],\n",
       " ['/dvrk/PSM1/manip_clutch', 'std_msgs/Bool'],\n",
       " ['/dvrk/PSM1/state_joint_desired', 'sensor_msgs/JointState'],\n",
       " ['/dvrk/PSM1/position_cartesian_desired', 'geometry_msgs/PoseStamped'],\n",
       " ['/tf_static', 'tf2_msgs/TFMessage'],\n",
       " ['/dvrk/PSM2/jacobian_spatial', 'std_msgs/Float64MultiArray'],\n",
       " ['/dvrk/spin/period_statistics', 'cisst_msgs/mtsIntervalStatistics'],\n",
       " ['/dvrk/ECM/state_joint_current', 'sensor_msgs/JointState'],\n",
       " ['/dvrk/PSM3/twist_body_current', 'geometry_msgs/TwistStamped'],\n",
       " ['/rosout', 'rosgraph_msgs/Log'],\n",
       " ['/dvrk/PSM2/warning', 'std_msgs/String'],\n",
       " ['/dvrk/PSM3/position_cartesian_desired', 'geometry_msgs/PoseStamped'],\n",
       " ['/dvrk/PSM2/goal_reached', 'std_msgs/Bool'],\n",
       " ['/dvrk/PSM2/joint_acceleration_ratio', 'std_msgs/Float64'],\n",
       " ['/dvrk/PSM2/jacobian_body', 'std_msgs/Float64MultiArray'],\n",
       " ['/dvrk/PSM2/status', 'std_msgs/String'],\n",
       " ['/dvrk/PSM3/status', 'std_msgs/String'],\n",
       " ['/dvrk/ECM/joint_acceleration_ratio', 'std_msgs/Float64'],\n",
       " ['/dvrk/PSM2/state_joint_current', 'sensor_msgs/JointState'],\n",
       " ['/dvrk/PSM1/goal_reached', 'std_msgs/Bool'],\n",
       " ['/dvrk/PSM1/state_joint_current', 'sensor_msgs/JointState'],\n",
       " ['/dvrk/SUJ/PSM3/state_joint_current', 'sensor_msgs/JointState'],\n",
       " ['/dvrk/PSM1/jacobian_spatial', 'std_msgs/Float64MultiArray'],\n",
       " ['/rosout_agg', 'rosgraph_msgs/Log'],\n",
       " ['/dvrk/PSM2/state_joint_desired', 'sensor_msgs/JointState'],\n",
       " ['/dvrk/SUJ/PSM2/state_joint_current', 'sensor_msgs/JointState'],\n",
       " ['/dvrk/PSM3/state_joint_desired', 'sensor_msgs/JointState'],\n",
       " ['/dvrk/PSM1/joint_acceleration_ratio', 'std_msgs/Float64'],\n",
       " ['/dvrk/SUJ/PSM1/position_cartesian_current', 'geometry_msgs/PoseStamped'],\n",
       " ['/dvrk/ECM/desired_state', 'std_msgs/String'],\n",
       " ['/dvrk/PSM3/error', 'std_msgs/String'],\n",
       " ['/dvrk/PSM2/state_jaw_desired', 'sensor_msgs/JointState'],\n",
       " ['/dvrk/PSM1/position_cartesian_local_current', 'geometry_msgs/PoseStamped'],\n",
       " ['/dvrk/PSM3/current_state', 'std_msgs/String'],\n",
       " ['/dvrk/ECM/jacobian_spatial', 'std_msgs/Float64MultiArray'],\n",
       " ['/dvrk/ECM/goal_reached', 'std_msgs/Bool'],\n",
       " ['/dvrk/PSM3/wrench_body_current', 'geometry_msgs/WrenchStamped'],\n",
       " ['/dvrk/ECM/status', 'std_msgs/String'],\n",
       " ['/dvrk/ECM/current_state', 'std_msgs/String'],\n",
       " ['/dvrk/PSM3/joint_velocity_ratio', 'std_msgs/Float64'],\n",
       " ['/dvrk/publishers/period_statistics', 'cisst_msgs/mtsIntervalStatistics'],\n",
       " ['/dvrk/PSM1/warning', 'std_msgs/String'],\n",
       " ['/initialpose', 'geometry_msgs/PoseWithCovarianceStamped'],\n",
       " ['/move_base_simple/goal', 'geometry_msgs/PoseStamped'],\n",
       " ['/dvrk/ECM/error', 'std_msgs/String'],\n",
       " ['/dvrk/console/teleop/scale', 'std_msgs/Float32'],\n",
       " ['/dvrk/PSM1/joint_states', 'sensor_msgs/JointState'],\n",
       " ['/dvrk/PSM1/position_cartesian_current', 'geometry_msgs/PoseStamped'],\n",
       " ['/stereo/right/image_raw', 'sensor_msgs/Image'],\n",
       " ['/dvrk/PSM3/warning', 'std_msgs/String'],\n",
       " ['/dvrk/PSM3/position_cartesian_local_current', 'geometry_msgs/PoseStamped'],\n",
       " ['/dvrk/SUJ/PSM3/position_cartesian_current', 'geometry_msgs/PoseStamped'],\n",
       " ['/dvrk/SUJ/ECM/state_joint_current', 'sensor_msgs/JointState'],\n",
       " ['/dvrk/ECM/position_cartesian_local_desired', 'geometry_msgs/PoseStamped'],\n",
       " ['/dvrk/ECM/jacobian_body', 'std_msgs/Float64MultiArray'],\n",
       " ['/dvrk/PSM1/state_jaw_desired', 'sensor_msgs/JointState'],\n",
       " ['/dvrk/PSM2/twist_body_current', 'geometry_msgs/TwistStamped'],\n",
       " ['/dvrk/PSM2/position_cartesian_current', 'geometry_msgs/PoseStamped']]"
      ]
     },
     "execution_count": 3,
     "metadata": {},
     "output_type": "execute_result"
    }
   ],
   "source": [
    "rospy.get_published_topics()"
   ]
  },
  {
   "cell_type": "code",
   "execution_count": 15,
   "metadata": {},
   "outputs": [
    {
     "name": "stderr",
     "output_type": "stream",
     "text": [
      "Removing previous callback, only one redirection possible right now\n",
      "Removing previous callback, only one redirection possible right now\n",
      "Removing previous callback, only one redirection possible right now\n",
      "Removing previous callback, only one redirection possible right now\n"
     ]
    },
    {
     "data": {
      "application/vnd.jupyter.widget-view+json": {
       "model_id": "b5dc718a464540b0a3935f221febbb6a",
       "version_major": 2,
       "version_minor": 0
      },
      "text/plain": [
       "VkJveChjaGlsZHJlbj0oSEJveChjaGlsZHJlbj0oQnV0dG9uKGRlc2NyaXB0aW9uPXUnU3RvcCcsIHN0eWxlPUJ1dHRvblN0eWxlKCkpLCkpLCBPdXRwdXQobGF5b3V0PUxheW91dChib3JkZXLigKY=\n"
      ]
     },
     "metadata": {},
     "output_type": "display_data"
    }
   ],
   "source": [
    "bridge = cv_bridge.CvBridge()\n",
    "left_image = None\n",
    "left_image_msg = None\n",
    "left_camera_info = None\n",
    "\n",
    "right_image = None\n",
    "right_image_msg = None\n",
    "right_camera_info = None\n",
    "\n",
    "def left_image_callback(im_msg):\n",
    "    global left_image, left_image_msg\n",
    "    left_image = bridge.imgmsg_to_cv2(im_msg, desired_encoding='rgb8')\n",
    "    left_image_msg = im_msg\n",
    "    \n",
    "def right_image_callback(im_msg):\n",
    "    global right_image, right_image_msg\n",
    "    right_image = bridge.imgmsg_to_cv2(im_msg, desired_encoding='rgb8')\n",
    "    right_image_msg = im_msg\n",
    "    \n",
    "def left_camera_info_callback(camera_info_msg):\n",
    "    global left_camera_info\n",
    "    left_camera_info = camera_info_msg\n",
    "    \n",
    "def right_camera_info_callback(camera_info_msg):\n",
    "    global right_camera_info\n",
    "    right_camera_info = camera_info_msg\n",
    "    \n",
    "jr.subscribe('/stereo/left/image_raw', msg.Image, left_image_callback)\n",
    "jr.subscribe('/stereo/left/camera_info', msg.CameraInfo, left_camera_info_callback)\n",
    "jr.subscribe('/stereo/right/image_raw', msg.Image, right_image_callback)\n",
    "jr.subscribe('/stereo/right/camera_info', msg.CameraInfo, right_camera_info_callback)"
   ]
  },
  {
   "cell_type": "code",
   "execution_count": 16,
   "metadata": {
    "scrolled": false
   },
   "outputs": [
    {
     "data": {
      "text/plain": [
       "<matplotlib.image.AxesImage at 0x7f6a940ab3d0>"
      ]
     },
     "execution_count": 16,
     "metadata": {},
     "output_type": "execute_result"
    },
    {
     "data": {
      "image/png": "[encoded data removed]",
      "text/plain": [
       "<Figure size 432x288 with 1 Axes>"
      ]
     },
     "metadata": {
      "needs_background": "light"
     },
     "output_type": "display_data"
    }
   ],
   "source": [
    "left_image = cv2.flip(left_image, 0)\n",
    "plt.imshow(left_image)"
   ]
  },
  {
   "cell_type": "code",
   "execution_count": 17,
   "metadata": {},
   "outputs": [
    {
     "data": {
      "text/plain": [
       "<matplotlib.image.AxesImage at 0x7f6a9405e890>"
      ]
     },
     "execution_count": 17,
     "metadata": {},
     "output_type": "execute_result"
    },
    {
     "data": {
      "image/png": "[encoded data removed]",
      "text/plain": [
       "<Figure size 432x288 with 1 Axes>"
      ]
     },
     "metadata": {
      "needs_background": "light"
     },
     "output_type": "display_data"
    }
   ],
   "source": [
    "plt.imshow(right_image)"
   ]
  },
  {
   "cell_type": "code",
   "execution_count": 18,
   "metadata": {},
   "outputs": [
    {
     "name": "stdout",
     "output_type": "stream",
     "text": [
      "LEFT CAM\n",
      "header: \n",
      "  seq: 312511\n",
      "  stamp: \n",
      "    secs: 1589257366\n",
      "    nsecs: 711363554\n",
      "  frame_id: \"b\"\n",
      "height: 288\n",
      "width: 360\n",
      "distortion_model: \"plumb_bob\"\n",
      "D: [0.0, 0.0, 0.0, 0.0, 0.0]\n",
      "K: [311.9603517065951, 0.0, 180.0, 0.0, 311.9603517065951, 144.0, 0.0, 0.0, 1.0]\n",
      "R: [1.0, 0.0, 0.0, 0.0, 1.0, 0.0, 0.0, 0.0, 1.0]\n",
      "P: [311.9603517065951, 0.0, 180.0, 0.0, 0.0, 311.9603517065951, 144.0, 0.0, 0.0, 0.0, 1.0, 0.0]\n",
      "binning_x: 1\n",
      "binning_y: 1\n",
      "roi: \n",
      "  x_offset: 0\n",
      "  y_offset: 0\n",
      "  height: 0\n",
      "  width: 0\n",
      "  do_rectify: True\n",
      "RIGHT_CAM\n",
      "header: \n",
      "  seq: 312511\n",
      "  stamp: \n",
      "    secs: 1589257366\n",
      "    nsecs: 711363554\n",
      "  frame_id: \"d\"\n",
      "height: 288\n",
      "width: 360\n",
      "distortion_model: \"plumb_bob\"\n",
      "D: [0.0, 0.0, 0.0, 0.0, 0.0]\n",
      "K: [311.9603517065951, 0.0, 180.0, 0.0, 311.9603517065951, 144.0, 0.0, 0.0, 1.0]\n",
      "R: [1.0, 0.0, 0.0, 0.0, 1.0, 0.0, 0.0, 0.0, 1.0]\n",
      "P: [311.9603517065951, 0.0, 180.0, 0.0, 0.0, 311.9603517065951, 144.0, 0.0, 0.0, 0.0, 1.0, 0.0]\n",
      "binning_x: 1\n",
      "binning_y: 1\n",
      "roi: \n",
      "  x_offset: 0\n",
      "  y_offset: 0\n",
      "  height: 0\n",
      "  width: 0\n",
      "  do_rectify: True\n"
     ]
    }
   ],
   "source": [
    "print(\"LEFT CAM\")\n",
    "print(left_camera_info)\n",
    "print(\"RIGHT_CAM\")\n",
    "print(right_camera_info)"
   ]
  },
  {
   "cell_type": "code",
   "execution_count": 19,
   "metadata": {},
   "outputs": [],
   "source": [
    "psm1 = None \n",
    "ecm = None\n",
    "suj = None\n",
    "debug_output = widgets.Output(layout={'border': '1px solid black'})\n",
    "\n",
    "with debug_output:\n",
    "    global psm1, ecm\n",
    "    psm1 = dvrk.psm('PSM1')\n",
    "    ecm = dvrk.ecm('ECM')\n",
    "    suj = dvrk.suj('ECM')\n"
   ]
  },
  {
   "cell_type": "code",
   "execution_count": 20,
   "metadata": {},
   "outputs": [
    {
     "data": {
      "text/plain": [
       "[[    0.438499,    0.142595,   -0.887347;\n",
       "    -0.142602,    0.985864,    0.087957;\n",
       "     0.887346,   0.0879681,    0.452635]\n",
       "[     1.96062,    0.128979,   -0.802527]]"
      ]
     },
     "execution_count": 20,
     "metadata": {},
     "output_type": "execute_result"
    }
   ],
   "source": [
    "psm1.get_current_position()"
   ]
  },
  {
   "cell_type": "code",
   "execution_count": 21,
   "metadata": {},
   "outputs": [
    {
     "data": {
      "text/plain": [
       "[[          -1,-5.08674e-06,-7.26393e-06;\n",
       "  -8.8679e-06,     0.57366,    0.819094;\n",
       "  5.09929e-10,    0.819094,    -0.57366]\n",
       "[ 3.68201e-06,    0.495891,    0.329076]]"
      ]
     },
     "execution_count": 21,
     "metadata": {},
     "output_type": "execute_result"
    }
   ],
   "source": [
    "ecm.get_current_position()"
   ]
  },
  {
   "cell_type": "code",
   "execution_count": 22,
   "metadata": {},
   "outputs": [
    {
     "data": {
      "text/plain": [
       "[[          -1, 6.27081e-06, 2.59709e-06;\n",
       " -6.27081e-06,   -0.707176,   -0.707037;\n",
       " -2.59709e-06,   -0.707037,    0.707176]\n",
       "[  3.6871e-06,    0.495318,    0.329477]]"
      ]
     },
     "execution_count": 22,
     "metadata": {},
     "output_type": "execute_result"
    },
    {
     "name": "stderr",
     "output_type": "stream",
     "text": [
      "[ERROR] [1589257369.513518]: bad callback: <bound method ecm.__state_joint_current_cb of <dvrk.ecm.ecm object at 0x7f6ace16e8d0>>\n",
      "Traceback (most recent call last):\n",
      "  File \"/opt/ros/melodic/lib/python2.7/dist-packages/rospy/topics.py\", line 750, in _invoke_callback\n",
      "    cb(msg)\n",
      "  File \"/home/ubuntu/catkin_ws/src/dvrk-ros/dvrk_python/src/dvrk/arm.py\", line 285, in __state_joint_current_cb\n",
      "    self.__velocity_joint_current.resize(len(data.velocity))\n",
      "ValueError: cannot resize an array that references or is referenced\n",
      "by another array in this way.\n",
      "Use the np.resize function or refcheck=False\n",
      "\n"
     ]
    }
   ],
   "source": [
    "suj.get_current_position()"
   ]
  },
  {
   "cell_type": "code",
   "execution_count": 23,
   "metadata": {},
   "outputs": [],
   "source": [
    "tf_listener = tf.TransformListener()"
   ]
  },
  {
   "cell_type": "code",
   "execution_count": 24,
   "metadata": {},
   "outputs": [
    {
     "data": {
      "text/plain": [
       "['PSM1',\n",
       " 'PSM2',\n",
       " 'PSM3',\n",
       " 'PSM1_tool_wrist_sca_ee_link_0',\n",
       " 'PSM1_tool_wrist_sca_ee_link_1',\n",
       " 'PSM1_tool_wrist_sca_ee_link_2',\n",
       " 'ecm_setup_link',\n",
       " 'ecm_yaw_link',\n",
       " 'PSM1_outer_pitch_top_link',\n",
       " 'ECM',\n",
       " 'PSM1_outer_pitch_link',\n",
       " 'PSM2_base',\n",
       " 'PSM1_outer_pitch_front_link',\n",
       " 'ecm_pitch_link',\n",
       " 'PSM1_outer_yaw_link',\n",
       " 'ecm_pitch_link_1',\n",
       " 'ecm_pitch_link_2',\n",
       " 'ecm_pitch_link_3',\n",
       " 'PSM1_tool_wrist_shaft_link',\n",
       " 'PSM1_tool_wrist_sca_link',\n",
       " 'PSM3_base',\n",
       " 'PSM1_outer_insertion_link',\n",
       " 'PSM1_tool_tip_link',\n",
       " 'ECM_base',\n",
       " 'ecm_insertion_link',\n",
       " 'PSM1_outer_pitch_bottom_link',\n",
       " 'ecm_base_link',\n",
       " 'PSM1_tool_wrist_link',\n",
       " 'PSM1_tool_main_link',\n",
       " 'PSM1_tool_wrist_sca_shaft_link',\n",
       " 'PSM1_psm_base_link',\n",
       " 'ecm_roll_link',\n",
       " 'PSM1_outer_pitch_back_link',\n",
       " 'ecm_setup_base_link',\n",
       " 'PSM1_base']"
      ]
     },
     "execution_count": 24,
     "metadata": {},
     "output_type": "execute_result"
    }
   ],
   "source": [
    "tf_listener.getFrameStrings()"
   ]
  },
  {
   "cell_type": "code",
   "execution_count": 26,
   "metadata": {},
   "outputs": [
    {
     "name": "stdout",
     "output_type": "stream",
     "text": [
      "[INFO] [1589257383.565134]: Number of feature files:\n",
      "[INFO] [1589257383.572978]: 1\n",
      "[INFO] [1589257383.576325]: Feature ranges: \n",
      "[INFO] [1589257383.582490]: [[[  0.  37.  45.]\n",
      "  [ 23. 100. 100.]]]\n",
      "[INFO] [1589257383.620599]: 0\n",
      "[INFO] [1589257383.625711]: Size: 3483.0\n",
      "[INFO] [1589257383.635093]: Height: 288 Width: 360\n",
      "[INFO] [1589257383.664021]: [x: 62.0\n",
      "y: 193.0, x: 237.0\n",
      "y: 147.0, x: 170.0\n",
      "y: 121.0]\n",
      "[INFO] [1589257383.700418]: [[ 62. 193.]\n",
      " [237. 147.]\n",
      " [170. 121.]]\n",
      "[INFO] [1589257383.711431]: Size: 3816.0\n",
      "[INFO] [1589257383.723106]: -78.8942272608\n",
      "[INFO] [1589257383.731088]: Height: 288 Width: 360\n",
      "[INFO] [1589257383.737312]: [x: 177.0\n",
      "y: 165.0, x: 111.0\n",
      "y: 139.0, x: 286.0\n",
      "y: 92.0]\n",
      "[INFO] [1589257383.744348]: [[177. 165.]\n",
      " [111. 139.]\n",
      " [286.  92.]]\n",
      "[INFO] [1589257383.748513]: Size: 3826.0\n",
      "[INFO] [1589257383.753807]: -32.3229677754\n",
      "type: \n",
      "  data: \"centroids\"\n",
      "center: \n",
      "  x: 156\n",
      "  y: 153\n",
      "zoom: \n",
      "  data: 0.912735849057\n",
      "yaw_angle: \n",
      "  data: -1.37696402652\n",
      "points: \n",
      "  - \n",
      "    x: 62.0\n",
      "    y: 193.0\n",
      "  - \n",
      "    x: 237.0\n",
      "    y: 147.0\n",
      "  - \n",
      "    x: 170.0\n",
      "    y: 121.0\n"
     ]
    },
    {
     "data": {
      "text/plain": [
       "<matplotlib.image.AxesImage at 0x7f6a50063b50>"
      ]
     },
     "execution_count": 26,
     "metadata": {},
     "output_type": "execute_result"
    },
    {
     "data": {
      "image/png": "[encoded data removed]",
      "text/plain": [
       "<Figure size 432x288 with 1 Axes>"
      ]
     },
     "metadata": {
      "needs_background": "light"
     },
     "output_type": "display_data"
    }
   ],
   "source": [
    "import image_geometry\n",
    "import vision_pipeline\n",
    "BALL_FEAT_PATH = '../autonomous_surgical_camera/auto_cam/config/features/red_ball.csv'\n",
    "cv2.imwrite('left.png', left_image)\n",
    "fp = vision_pipeline.feature_processor([BALL_FEAT_PATH], 'left.png')\n",
    "left_feats, left_frame = fp.Centroids(left_image_msg)\n",
    "right_feats, right_frame = fp.Centroids(right_image_msg)\n",
    "print(left_feats)\n",
    "plt.imshow(left_frame)"
   ]
  },
  {
   "cell_type": "code",
   "execution_count": 27,
   "metadata": {},
   "outputs": [
    {
     "name": "stdout",
     "output_type": "stream",
     "text": [
      "type: \n",
      "  data: \"centroids\"\n",
      "center: \n",
      "  x: 191\n",
      "  y: 132\n",
      "zoom: \n",
      "  data: 0.910350235233\n",
      "yaw_angle: \n",
      "  data: -0.564142211696\n",
      "points: \n",
      "  - \n",
      "    x: 177.0\n",
      "    y: 165.0\n",
      "  - \n",
      "    x: 111.0\n",
      "    y: 139.0\n",
      "  - \n",
      "    x: 286.0\n",
      "    y: 92.0\n"
     ]
    },
    {
     "data": {
      "text/plain": [
       "<matplotlib.image.AxesImage at 0x7f6a30132910>"
      ]
     },
     "execution_count": 27,
     "metadata": {},
     "output_type": "execute_result"
    },
    {
     "data": {
      "image/png": "[encoded data removed]",
      "text/plain": [
       "<Figure size 432x288 with 1 Axes>"
      ]
     },
     "metadata": {
      "needs_background": "light"
     },
     "output_type": "display_data"
    }
   ],
   "source": [
    "print(right_feats)\n",
    "plt.imshow(right_frame)"
   ]
  },
  {
   "cell_type": "code",
   "execution_count": 37,
   "metadata": {},
   "outputs": [
    {
     "name": "stdout",
     "output_type": "stream",
     "text": [
      "[(226.0, 167.0), (51.0, 213.0), (118.0, 239.0)]\n",
      "[(177.0, 165.0), (111.0, 139.0), (286.0, 92.0)]\n"
     ]
    },
    {
     "data": {
      "text/plain": [
       "<matplotlib.image.AxesImage at 0x7f69c40add10>"
      ]
     },
     "execution_count": 37,
     "metadata": {},
     "output_type": "execute_result"
    },
    {
     "data": {
      "image/png": "[encoded data removed]",
      "text/plain": [
       "<Figure size 432x288 with 1 Axes>"
      ]
     },
     "metadata": {
      "needs_background": "light"
     },
     "output_type": "display_data"
    },
    {
     "name": "stderr",
     "output_type": "stream",
     "text": [
      "[ERROR] [1589257657.661768]: bad callback: <bound method ecm.__state_joint_current_cb of <dvrk.ecm.ecm object at 0x7f6a70021090>>\n",
      "Traceback (most recent call last):\n",
      "  File \"/opt/ros/melodic/lib/python2.7/dist-packages/rospy/topics.py\", line 750, in _invoke_callback\n",
      "    cb(msg)\n",
      "  File \"/home/ubuntu/catkin_ws/src/dvrk-ros/dvrk_python/src/dvrk/arm.py\", line 285, in __state_joint_current_cb\n",
      "    self.__velocity_joint_current.resize(len(data.velocity))\n",
      "ValueError: cannot resize an array that references or is referenced\n",
      "by another array in this way.\n",
      "Use the np.resize function or refcheck=False\n",
      "\n",
      "[ERROR] [1589257674.381885]: bad callback: <bound method ecm.__state_joint_current_cb of <dvrk.ecm.ecm object at 0x7f6a70021090>>\n",
      "Traceback (most recent call last):\n",
      "  File \"/opt/ros/melodic/lib/python2.7/dist-packages/rospy/topics.py\", line 750, in _invoke_callback\n",
      "    cb(msg)\n",
      "  File \"/home/ubuntu/catkin_ws/src/dvrk-ros/dvrk_python/src/dvrk/arm.py\", line 285, in __state_joint_current_cb\n",
      "    self.__velocity_joint_current.resize(len(data.velocity))\n",
      "ValueError: cannot resize an array that references or is referenced\n",
      "by another array in this way.\n",
      "Use the np.resize function or refcheck=False\n",
      "\n"
     ]
    }
   ],
   "source": [
    "left_cam = image_geometry.PinholeCameraModel()\n",
    "left_cam.fromCameraInfo(left_camera_info)\n",
    "right_cam = image_geometry.PinholeCameraModel()\n",
    "right_cam.fromCameraInfo(right_camera_info)\n",
    "left_frame_rectified = deepcopy(left_frame)\n",
    "\n",
    "def rectify(cam, ros_pt):\n",
    "    return tuple(cam.rectifyPoint((ros_pt.x, ros_pt.y)))\n",
    "\n",
    "def invert_rectify(cam, ros_pt, frame_dims):\n",
    "    return tuple(cam.rectifyPoint((frame_dims[0] - ros_pt.x, frame_dims[1] - ros_pt.y)))\n",
    "\n",
    "left_feat_pts = [invert_rectify(left_cam, pt, left_frame.shape) for pt in left_feats.points]\n",
    "right_feat_pts = [rectify(right_cam, pt) for pt in right_feats.points]\n",
    "print(left_feat_pts)\n",
    "print(right_feat_pts)\n",
    "left_frame = cv2.flip(deepcopy(left_frame), 0)\n",
    "left_cam.rectifyImage(left_frame, left_frame_rectified)\n",
    "plt.imshow(left_frame_rectified)"
   ]
  },
  {
   "cell_type": "code",
   "execution_count": 32,
   "metadata": {},
   "outputs": [
    {
     "data": {
      "text/plain": [
       "<matplotlib.image.AxesImage at 0x7f6a200f6910>"
      ]
     },
     "execution_count": 32,
     "metadata": {},
     "output_type": "execute_result"
    },
    {
     "data": {
      "image/png": "[encoded data removed]",
      "text/plain": [
       "<Figure size 432x288 with 1 Axes>"
      ]
     },
     "metadata": {
      "needs_background": "light"
     },
     "output_type": "display_data"
    },
    {
     "name": "stderr",
     "output_type": "stream",
     "text": [
      "[ERROR] [1589257603.189486]: bad callback: <bound method ecm.__state_joint_current_cb of <dvrk.ecm.ecm object at 0x7f6ace16e8d0>>\n",
      "Traceback (most recent call last):\n",
      "  File \"/opt/ros/melodic/lib/python2.7/dist-packages/rospy/topics.py\", line 750, in _invoke_callback\n",
      "    cb(msg)\n",
      "  File \"/home/ubuntu/catkin_ws/src/dvrk-ros/dvrk_python/src/dvrk/arm.py\", line 285, in __state_joint_current_cb\n",
      "    self.__velocity_joint_current.resize(len(data.velocity))\n",
      "ValueError: cannot resize an array that references or is referenced\n",
      "by another array in this way.\n",
      "Use the np.resize function or refcheck=False\n",
      "\n"
     ]
    }
   ],
   "source": [
    "right_frame_rectified = deepcopy(right_frame)\n",
    "left_cam.rectifyImage(right_frame, right_frame_rectified)\n",
    "plt.imshow(right_frame_rectified)"
   ]
  },
  {
   "cell_type": "code",
   "execution_count": 38,
   "metadata": {},
   "outputs": [
    {
     "data": {
      "text/plain": [
       "(0.0, -0.0, -0.0)"
      ]
     },
     "execution_count": 38,
     "metadata": {},
     "output_type": "execute_result"
    },
    {
     "name": "stderr",
     "output_type": "stream",
     "text": [
      "[ERROR] [1589257681.219164]: bad callback: <bound method ecm.__state_joint_current_cb of <dvrk.ecm.ecm object at 0x7f6ace16e8d0>>\n",
      "Traceback (most recent call last):\n",
      "  File \"/opt/ros/melodic/lib/python2.7/dist-packages/rospy/topics.py\", line 750, in _invoke_callback\n",
      "    cb(msg)\n",
      "  File \"/home/ubuntu/catkin_ws/src/dvrk-ros/dvrk_python/src/dvrk/arm.py\", line 286, in __state_joint_current_cb\n",
      "    self.__effort_joint_current.resize(len(data.effort))\n",
      "ValueError: cannot resize an array that references or is referenced\n",
      "by another array in this way.\n",
      "Use the np.resize function or refcheck=False\n",
      "\n",
      "[ERROR] [1589257716.202271]: bad callback: <bound method ecm.__state_joint_current_cb of <dvrk.ecm.ecm object at 0x7f6a70021090>>\n",
      "Traceback (most recent call last):\n",
      "  File \"/opt/ros/melodic/lib/python2.7/dist-packages/rospy/topics.py\", line 750, in _invoke_callback\n",
      "    cb(msg)\n",
      "  File \"/home/ubuntu/catkin_ws/src/dvrk-ros/dvrk_python/src/dvrk/arm.py\", line 285, in __state_joint_current_cb\n",
      "    self.__velocity_joint_current.resize(len(data.velocity))\n",
      "ValueError: cannot resize an array that references or is referenced\n",
      "by another array in this way.\n",
      "Use the np.resize function or refcheck=False\n",
      "\n",
      "[ERROR] [1589257760.483267]: bad callback: <bound method ecm.__state_joint_current_cb of <dvrk.ecm.ecm object at 0x7f6a70021090>>\n",
      "Traceback (most recent call last):\n",
      "  File \"/opt/ros/melodic/lib/python2.7/dist-packages/rospy/topics.py\", line 750, in _invoke_callback\n",
      "    cb(msg)\n",
      "  File \"/home/ubuntu/catkin_ws/src/dvrk-ros/dvrk_python/src/dvrk/arm.py\", line 286, in __state_joint_current_cb\n",
      "    self.__effort_joint_current.resize(len(data.effort))\n",
      "ValueError: cannot resize an array that references or is referenced\n",
      "by another array in this way.\n",
      "Use the np.resize function or refcheck=False\n",
      "\n",
      "[ERROR] [1589257772.645670]: bad callback: <bound method psm.__state_joint_current_cb of <dvrk.psm.psm object at 0x7f6a70063490>>\n",
      "Traceback (most recent call last):\n",
      "  File \"/opt/ros/melodic/lib/python2.7/dist-packages/rospy/topics.py\", line 750, in _invoke_callback\n",
      "    cb(msg)\n",
      "  File \"/home/ubuntu/catkin_ws/src/dvrk-ros/dvrk_python/src/dvrk/arm.py\", line 286, in __state_joint_current_cb\n",
      "    self.__effort_joint_current.resize(len(data.effort))\n",
      "ValueError: cannot resize an array that references or is referenced\n",
      "by another array in this way.\n",
      "Use the np.resize function or refcheck=False\n",
      "\n"
     ]
    }
   ],
   "source": [
    "stereocam = image_geometry.StereoCameraModel()\n",
    "stereocam.fromCameraInfo(left_camera_info, right_camera_info)\n",
    "disparity = abs(left_feat_pts[1][0] - right_feat_pts[1][0])\n",
    "stereocam.projectPixelTo3d(left_feat_pts[1], disparity)"
   ]
  },
  {
   "cell_type": "code",
   "execution_count": null,
   "metadata": {},
   "outputs": [],
   "source": []
  }
 ],
 "metadata": {
  "jupytext": {
   "text_representation": {
    "extension": ".py",
    "format_name": "light",
    "format_version": "1.5",
    "jupytext_version": "1.4.2"
   }
  },
  "kernelspec": {
   "display_name": "Python 2",
   "language": "python",
   "name": "python2"
  },
  "language_info": {
   "codemirror_mode": {
    "name": "ipython",
    "version": 2
   },
   "file_extension": ".py",
   "mimetype": "text/x-python",
   "name": "python",
   "nbconvert_exporter": "python",
   "pygments_lexer": "ipython2",
   "version": "2.7.17"
  }
 },
 "nbformat": 4,
 "nbformat_minor": 2
}
