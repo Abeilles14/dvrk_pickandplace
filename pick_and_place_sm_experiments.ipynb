{
 "cells": [
  {
   "cell_type": "code",
   "execution_count": 1,
   "metadata": {},
   "outputs": [],
   "source": [
    "import jupyros as jr\n",
    "import rospy\n",
    "import numpy as np\n",
    "from sensor_msgs import msg\n",
    "import cv2\n",
    "import cv_bridge\n",
    "from copy import deepcopy\n",
    "import ipywidgets as widgets\n",
    "from IPython.display import clear_output, Image, display\n",
    "import PIL.Image\n",
    "from cStringIO import StringIO\n",
    "import matplotlib.pyplot as plt\n",
    "import dvrk\n",
    "import PyKDL\n",
    "import tf\n",
    "import time\n",
    "from tf_conversions import posemath"
   ]
  },
  {
   "cell_type": "code",
   "execution_count": 2,
   "metadata": {},
   "outputs": [
    {
     "data": {
      "text/plain": [
       "[['/dvrk/setup_joint/robot_state', 'std_msgs/String'],\n",
       " ['/dvrk/PSM1/current_state', 'std_msgs/String'],\n",
       " ['/dvrk/ECM/wrench_body_current', 'geometry_msgs/WrenchStamped'],\n",
       " ['/stereo/right/image_flipped', 'sensor_msgs/Image'],\n",
       " ['/dvrk/PSM3/goal_reached', 'std_msgs/Bool'],\n",
       " ['/dvrk/PSM2/position_cartesian_local_current', 'geometry_msgs/PoseStamped'],\n",
       " ['/dvrk/SUJ/ECM/position_cartesian_local_current',\n",
       "  'geometry_msgs/PoseStamped'],\n",
       " ['/dvrk/SUJ/PSM2/position_cartesian_current', 'geometry_msgs/PoseStamped'],\n",
       " ['/dvrk/PSM3/state_joint_current', 'sensor_msgs/JointState'],\n",
       " ['/dvrk/console/teleop/teleop_psm_selected', 'diagnostic_msgs/KeyValue'],\n",
       " ['/dvrk/PSM2/joint_velocity_ratio', 'std_msgs/Float64'],\n",
       " ['/dvrk/PSM3/current_state', 'std_msgs/String'],\n",
       " ['/dvrk/PSM3/manip_clutch', 'std_msgs/Bool'],\n",
       " ['/dvrk/PSM3/position_cartesian_current', 'geometry_msgs/PoseStamped'],\n",
       " ['/dvrk/ECM/state_joint_desired', 'sensor_msgs/JointState'],\n",
       " ['/dvrk/console/teleop/teleop_psm_unselected', 'diagnostic_msgs/KeyValue'],\n",
       " ['/dvrk/PSM2/position_cartesian_desired', 'geometry_msgs/PoseStamped'],\n",
       " ['/dvrk/ECM/position_cartesian_local_current', 'geometry_msgs/PoseStamped'],\n",
       " ['/dvrk/PSM1/status', 'std_msgs/String'],\n",
       " ['/tf', 'tf2_msgs/TFMessage'],\n",
       " ['/dvrk/tf_broadcast/period_statistics', 'cisst_msgs/mtsIntervalStatistics'],\n",
       " ['/dvrk/PSM1/joint_velocity_ratio', 'std_msgs/Float64'],\n",
       " ['/dvrk/PSM1/desired_state', 'std_msgs/String'],\n",
       " ['/dvrk/PSM3/state_jaw_desired', 'sensor_msgs/JointState'],\n",
       " ['/dvrk/SUJ/PSM3/position_cartesian_local_current',\n",
       "  'geometry_msgs/PoseStamped'],\n",
       " ['/dvrk/ECM/position_cartesian_current', 'geometry_msgs/PoseStamped'],\n",
       " ['/dvrk/SUJ/PSM1/position_cartesian_local_current',\n",
       "  'geometry_msgs/PoseStamped'],\n",
       " ['/dvrk/PSM1/position_cartesian_local_desired', 'geometry_msgs/PoseStamped'],\n",
       " ['/dvrk/PSM2/position_cartesian_local_desired', 'geometry_msgs/PoseStamped'],\n",
       " ['/dvrk/PSM1/wrench_body_current', 'geometry_msgs/WrenchStamped'],\n",
       " ['/dvrk/PSM2/robot_state', 'std_msgs/String'],\n",
       " ['/dvrk/SUJ/ECM/position_cartesian_current', 'geometry_msgs/PoseStamped'],\n",
       " ['/dvrk/ECM/status', 'std_msgs/String'],\n",
       " ['/dvrk/ECM/current_state', 'std_msgs/String'],\n",
       " ['/dvrk/PSM1/jacobian_body', 'std_msgs/Float64MultiArray'],\n",
       " ['/dvrk/ECM/joint_velocity_ratio', 'std_msgs/Float64'],\n",
       " ['/dvrk/PSM2/current_state', 'std_msgs/String'],\n",
       " ['/dvrk/PSM1/error', 'std_msgs/String'],\n",
       " ['/dvrk/PSM1/twist_body_current', 'geometry_msgs/TwistStamped'],\n",
       " ['/stereo/left/image_raw', 'sensor_msgs/Image'],\n",
       " ['/dvrk/PSM3/jacobian_spatial', 'std_msgs/Float64MultiArray'],\n",
       " ['/dvrk/ECM/manip_clutch', 'sensor_msgs/Joy'],\n",
       " ['/dvrk/PSM2/desired_state', 'std_msgs/String'],\n",
       " ['/dvrk/PSM3/position_cartesian_local_desired', 'geometry_msgs/PoseStamped'],\n",
       " ['/dvrk/SUJ/PSM2/position_cartesian_local_current',\n",
       "  'geometry_msgs/PoseStamped'],\n",
       " ['/dvrk/PSM3/jacobian_body', 'std_msgs/Float64MultiArray'],\n",
       " ['/dvrk/ECM/joint_states', 'sensor_msgs/JointState'],\n",
       " ['/dvrk/PSM1/state_joint_desired', 'sensor_msgs/JointState'],\n",
       " ['/dvrk/ECM/twist_body_current', 'geometry_msgs/TwistStamped'],\n",
       " ['/dvrk/SUJ/PSM1/state_joint_current', 'sensor_msgs/JointState'],\n",
       " ['/dvrk/PSM2/manip_clutch', 'std_msgs/Bool'],\n",
       " ['/dvrk/PSM2/error', 'std_msgs/String'],\n",
       " ['/dvrk/ECM/position_cartesian_desired', 'geometry_msgs/PoseStamped'],\n",
       " ['/stereo/right/camera_info', 'sensor_msgs/CameraInfo'],\n",
       " ['/dvrk/PSM2/wrench_body_current', 'geometry_msgs/WrenchStamped'],\n",
       " ['/dvrk/PSM3/state_jaw_current', 'sensor_msgs/JointState'],\n",
       " ['/dvrk/PSM3/joint_acceleration_ratio', 'std_msgs/Float64'],\n",
       " ['/dvrk/PSM2/state_jaw_current', 'sensor_msgs/JointState'],\n",
       " ['/dvrk/PSM3/desired_state', 'std_msgs/String'],\n",
       " ['/dvrk/PSM1/manip_clutch', 'std_msgs/Bool'],\n",
       " ['/stereo/left/camera_info', 'sensor_msgs/CameraInfo'],\n",
       " ['/dvrk/PSM1/position_cartesian_desired', 'geometry_msgs/PoseStamped'],\n",
       " ['/tf_static', 'tf2_msgs/TFMessage'],\n",
       " ['/dvrk/PSM2/jacobian_spatial', 'std_msgs/Float64MultiArray'],\n",
       " ['/dvrk/spin/period_statistics', 'cisst_msgs/mtsIntervalStatistics'],\n",
       " ['/dvrk/ECM/state_joint_current', 'sensor_msgs/JointState'],\n",
       " ['/dvrk/PSM3/twist_body_current', 'geometry_msgs/TwistStamped'],\n",
       " ['/rosout', 'rosgraph_msgs/Log'],\n",
       " ['/dvrk/PSM3/robot_state', 'std_msgs/String'],\n",
       " ['/dvrk/PSM2/warning', 'std_msgs/String'],\n",
       " ['/dvrk/PSM3/warning', 'std_msgs/String'],\n",
       " ['/dvrk/PSM2/goal_reached', 'std_msgs/Bool'],\n",
       " ['/dvrk/PSM2/joint_acceleration_ratio', 'std_msgs/Float64'],\n",
       " ['/dvrk/PSM2/jacobian_body', 'std_msgs/Float64MultiArray'],\n",
       " ['/dvrk/PSM2/status', 'std_msgs/String'],\n",
       " ['/dvrk/PSM3/status', 'std_msgs/String'],\n",
       " ['/dvrk/ECM/joint_acceleration_ratio', 'std_msgs/Float64'],\n",
       " ['/dvrk/PSM2/state_joint_current', 'sensor_msgs/JointState'],\n",
       " ['/dvrk/PSM1/goal_reached', 'std_msgs/Bool'],\n",
       " ['/dvrk/PSM2/joint_states', 'sensor_msgs/JointState'],\n",
       " ['/dvrk/PSM1/state_joint_current', 'sensor_msgs/JointState'],\n",
       " ['/dvrk/SUJ/PSM3/state_joint_current', 'sensor_msgs/JointState'],\n",
       " ['/dvrk/PSM1/jacobian_spatial', 'std_msgs/Float64MultiArray'],\n",
       " ['/rosout_agg', 'rosgraph_msgs/Log'],\n",
       " ['/dvrk/PSM2/state_joint_desired', 'sensor_msgs/JointState'],\n",
       " ['/dvrk/SUJ/PSM2/state_joint_current', 'sensor_msgs/JointState'],\n",
       " ['/dvrk/PSM3/state_joint_desired', 'sensor_msgs/JointState'],\n",
       " ['/dvrk/PSM1/joint_acceleration_ratio', 'std_msgs/Float64'],\n",
       " ['/dvrk/SUJ/PSM1/position_cartesian_current', 'geometry_msgs/PoseStamped'],\n",
       " ['/dvrk/ECM/desired_state', 'std_msgs/String'],\n",
       " ['/dvrk/SUJ/ECM/state_joint_current', 'sensor_msgs/JointState'],\n",
       " ['/dvrk/PSM2/state_jaw_desired', 'sensor_msgs/JointState'],\n",
       " ['/dvrk/PSM1/position_cartesian_local_current', 'geometry_msgs/PoseStamped'],\n",
       " ['/dvrk/ECM/warning', 'std_msgs/String'],\n",
       " ['/dvrk/ECM/jacobian_spatial', 'std_msgs/Float64MultiArray'],\n",
       " ['/stereo/left/image_flipped', 'sensor_msgs/Image'],\n",
       " ['/dvrk/PSM3/joint_states', 'sensor_msgs/JointState'],\n",
       " ['/dvrk/ECM/goal_reached', 'std_msgs/Bool'],\n",
       " ['/dvrk/PSM3/wrench_body_current', 'geometry_msgs/WrenchStamped'],\n",
       " ['/dvrk/PSM1/state_jaw_current', 'sensor_msgs/JointState'],\n",
       " ['/dvrk/setup_joint/state_joint_current', 'sensor_msgs/JointState'],\n",
       " ['/dvrk/PSM3/joint_velocity_ratio', 'std_msgs/Float64'],\n",
       " ['/dvrk/publishers/period_statistics', 'cisst_msgs/mtsIntervalStatistics'],\n",
       " ['/dvrk/PSM1/warning', 'std_msgs/String'],\n",
       " ['/dvrk/ECM/error', 'std_msgs/String'],\n",
       " ['/dvrk/console/teleop/scale', 'std_msgs/Float32'],\n",
       " ['/dvrk/PSM1/joint_states', 'sensor_msgs/JointState'],\n",
       " ['/dvrk/PSM1/position_cartesian_current', 'geometry_msgs/PoseStamped'],\n",
       " ['/stereo/right/image_raw', 'sensor_msgs/Image'],\n",
       " ['/dvrk/PSM3/position_cartesian_desired', 'geometry_msgs/PoseStamped'],\n",
       " ['/dvrk/PSM3/position_cartesian_local_current', 'geometry_msgs/PoseStamped'],\n",
       " ['/dvrk/SUJ/PSM3/position_cartesian_current', 'geometry_msgs/PoseStamped'],\n",
       " ['/dvrk/PSM3/error', 'std_msgs/String'],\n",
       " ['/dvrk/ECM/position_cartesian_local_desired', 'geometry_msgs/PoseStamped'],\n",
       " ['/dvrk/ECM/jacobian_body', 'std_msgs/Float64MultiArray'],\n",
       " ['/dvrk/PSM1/state_jaw_desired', 'sensor_msgs/JointState'],\n",
       " ['/dvrk/PSM2/twist_body_current', 'geometry_msgs/TwistStamped'],\n",
       " ['/dvrk/PSM2/position_cartesian_current', 'geometry_msgs/PoseStamped']]"
      ]
     },
     "execution_count": 2,
     "metadata": {},
     "output_type": "execute_result"
    }
   ],
   "source": [
    "rospy.init_node('notebook')\n",
    "rospy.get_published_topics()"
   ]
  },
  {
   "cell_type": "code",
   "execution_count": 3,
   "metadata": {},
   "outputs": [
    {
     "name": "stdout",
     "output_type": "stream",
     "text": [
      "left or right image receieved\n"
     ]
    }
   ],
   "source": [
    "bridge = cv_bridge.CvBridge()\n",
    "left_image = None\n",
    "left_image_msg = None\n",
    "left_camera_info = None\n",
    "\n",
    "right_image = None\n",
    "right_image_msg = None\n",
    "right_camera_info = None\n",
    "\n",
    "def left_image_callback(im_msg):\n",
    "    global left_image, left_image_msg\n",
    "    left_image = bridge.imgmsg_to_cv2(im_msg, desired_encoding='rgb8')\n",
    "    left_image_msg = im_msg\n",
    "    \n",
    "def right_image_callback(im_msg):\n",
    "    global right_image, right_image_msg\n",
    "    right_image = bridge.imgmsg_to_cv2(im_msg, desired_encoding='rgb8')\n",
    "    right_image_msg = im_msg\n",
    "    \n",
    "def left_camera_info_callback(camera_info_msg):\n",
    "    global left_camera_info\n",
    "    left_camera_info = camera_info_msg\n",
    "    \n",
    "def right_camera_info_callback(camera_info_msg):\n",
    "    global right_camera_info\n",
    "    right_camera_info = camera_info_msg\n",
    "    \n",
    "jr.subscribe('/stereo/left/image_flipped', msg.Image, left_image_callback)\n",
    "jr.subscribe('/stereo/left/camera_info', msg.CameraInfo, left_camera_info_callback)\n",
    "jr.subscribe('/stereo/right/image_flipped', msg.Image, right_image_callback)\n",
    "jr.subscribe('/stereo/right/camera_info', msg.CameraInfo, right_camera_info_callback)\n",
    "\n",
    "while left_image is None or right_image is None:\n",
    "    #print(\"left or right image not receieved\")\n",
    "    time.sleep(0.5)\n",
    "    \n",
    "print(\"left or right image receieved\")"
   ]
  },
  {
   "cell_type": "code",
   "execution_count": 4,
   "metadata": {
    "scrolled": true
   },
   "outputs": [
    {
     "data": {
      "text/plain": [
       "<matplotlib.image.AxesImage at 0x7fa642711fd0>"
      ]
     },
     "execution_count": 4,
     "metadata": {},
     "output_type": "execute_result"
    },
    {
     "data": {
      "image/png": "[encoded data removed]",
      "text/plain": [
       "<Figure size 432x288 with 1 Axes>"
      ]
     },
     "metadata": {
      "needs_background": "light"
     },
     "output_type": "display_data"
    }
   ],
   "source": [
    "plt.imshow(np.hstack((left_image, right_image)))"
   ]
  },
  {
   "cell_type": "code",
   "execution_count": 5,
   "metadata": {
    "scrolled": true
   },
   "outputs": [
    {
     "name": "stdout",
     "output_type": "stream",
     "text": [
      "LEFT CAM\n",
      "header: \n",
      "  seq: 508\n",
      "  stamp: \n",
      "    secs: 1622182296\n",
      "    nsecs: 737536192\n",
      "  frame_id: \"left_camera\"\n",
      "height: 288\n",
      "width: 360\n",
      "distortion_model: \"plumb_bob\"\n",
      "D: [0.0, 0.0, 0.0, 0.0, 0.0]\n",
      "K: [311.9603517065951, 0.0, 180.0, 0.0, 311.9603517065951, 144.0, 0.0, 0.0, 1.0]\n",
      "R: [1.0, 0.0, 0.0, 0.0, 1.0, 0.0, 0.0, 0.0, 1.0]\n",
      "P: [311.9603517065951, 0.0, 180.0, 0.0, 0.0, 311.9603517065951, 144.0, 0.0, 0.0, 0.0, 1.0, 0.0]\n",
      "binning_x: 1\n",
      "binning_y: 1\n",
      "roi: \n",
      "  x_offset: 0\n",
      "  y_offset: 0\n",
      "  height: 0\n",
      "  width: 0\n",
      "  do_rectify: True\n",
      "RIGHT_CAM\n",
      "header: \n",
      "  seq: 508\n",
      "  stamp: \n",
      "    secs: 1622182296\n",
      "    nsecs: 737536192\n",
      "  frame_id: \"right_camera\"\n",
      "height: 288\n",
      "width: 360\n",
      "distortion_model: \"plumb_bob\"\n",
      "D: [0.0, 0.0, 0.0, 0.0, 0.0]\n",
      "K: [311.9603517065951, 0.0, 180.0, 0.0, 311.9603517065951, 144.0, 0.0, 0.0, 1.0]\n",
      "R: [1.0, 0.0, 0.0, 0.0, 1.0, 0.0, 0.0, 0.0, 1.0]\n",
      "P: [311.9603517065951, 0.0, 180.0, -1.5598017585329753, 0.0, 311.9603517065951, 144.0, 0.0, 0.0, 0.0, 1.0, 0.0]\n",
      "binning_x: 1\n",
      "binning_y: 1\n",
      "roi: \n",
      "  x_offset: 0\n",
      "  y_offset: 0\n",
      "  height: 0\n",
      "  width: 0\n",
      "  do_rectify: True\n"
     ]
    }
   ],
   "source": [
    "print(\"LEFT CAM\")\n",
    "print(left_camera_info)\n",
    "print(\"RIGHT_CAM\")\n",
    "print(right_camera_info)"
   ]
  },
  {
   "cell_type": "code",
   "execution_count": 6,
   "metadata": {},
   "outputs": [
    {
     "name": "stderr",
     "output_type": "stream",
     "text": [
      "/home/iandre/dvrk_ws/src/geometry/tf/src/tf/listener.py:97: YAMLLoadWarning: calling yaml.load() without Loader=... is deprecated, as the default Loader is unsafe. Please read https://msg.pyyaml.org/load for full details.\n",
      "  data = yaml.load(self._buffer.all_frames_as_yaml()) or {}\n"
     ]
    },
    {
     "data": {
      "text/plain": [
       "['PSM2_tool_wrist_shaft_link',\n",
       " 'PSM3_outer_pitch_bottom_link',\n",
       " 'PSM1_RCM',\n",
       " 'PSM3_outer_pitch_front_link',\n",
       " 'PSM2_tool_main_link',\n",
       " 'PSM2_outer_insertion_link',\n",
       " 'PSM1_tool_wrist_sca_ee_link_0',\n",
       " 'PSM1_tool_wrist_sca_ee_link_1',\n",
       " 'PSM1_tool_wrist_sca_ee_link_2',\n",
       " 'PSM2_outer_pitch_bottom_link',\n",
       " 'PSM2_tool_wrist_caudier_link_shaft',\n",
       " 'PSM3_tool_wrist_link',\n",
       " 'ECM',\n",
       " 'PSM1_outer_pitch_link',\n",
       " 'PSM2_base',\n",
       " 'camera',\n",
       " 'PSM1_outer_pitch_front_link',\n",
       " 'ecm_pitch_link',\n",
       " 'PSM2_RCM',\n",
       " 'PSM2_tool_wrist_caudier_link',\n",
       " 'PSM3_tool_wrist_caudier_link_2_right',\n",
       " 'ecm_pitch_link_1',\n",
       " 'ecm_pitch_link_2',\n",
       " 'PSM3_tool_wrist_caudier_link',\n",
       " 'PSM1_tool_wrist_sca_link',\n",
       " 'PSM2_outer_pitch_top_link',\n",
       " 'PSM3_tool_wrist_caudier_link_2_left',\n",
       " 'PSM3_outer_pitch_back_link',\n",
       " 'PSM1_outer_pitch_top_link',\n",
       " 'Vision_sensor_left',\n",
       " 'simworld',\n",
       " 'PSM2_tool_wrist_caudier_link_2_right',\n",
       " 'ecm_base_link',\n",
       " 'PSM1_tool_wrist_link',\n",
       " 'PSM1_tool_main_link',\n",
       " 'PSM3_tool_wrist_caudier_ee_link_0',\n",
       " 'PSM2_tool_wrist_link',\n",
       " 'Jp21_ECM',\n",
       " 'ecm_setup_base_link',\n",
       " 'PSM3_tool_wrist_caudier_ee_link',\n",
       " 'PSM3_tool_wrist_shaft_link',\n",
       " 'PSM2_psm_base_link',\n",
       " 'PSM3_outer_pitch_link',\n",
       " 'PSM3_outer_insertion_link',\n",
       " 'PSM2_outer_pitch_front_link',\n",
       " 'ecm_roll_link',\n",
       " 'PSM2_tool_wrist_caudier_link_2_left',\n",
       " 'PSM1',\n",
       " 'PSM2',\n",
       " 'PSM3',\n",
       " 'PSM2_tool_wrist_caudier_ee_link',\n",
       " 'ecm_setup_link',\n",
       " 'ECM_RCM',\n",
       " 'ecm_yaw_link',\n",
       " 'PSM2_outer_pitch_link',\n",
       " 'ecm_pitch_link_3',\n",
       " 'PSM1_outer_yaw_link',\n",
       " 'PSM1_tool_wrist_shaft_link',\n",
       " 'PSM2_outer_pitch_back_link',\n",
       " 'PSM3_base',\n",
       " 'PSM2_tool_wrist_caudier_ee_link_0',\n",
       " 'PSM1_outer_insertion_link',\n",
       " 'PSM3_tool_main_link',\n",
       " 'PSM1_tool_tip_link',\n",
       " 'ECM_base',\n",
       " 'ecm_insertion_link',\n",
       " 'PSM1_outer_pitch_bottom_link',\n",
       " 'PSM3_outer_pitch_top_link',\n",
       " 'PSM1_tool_wrist_sca_shaft_link',\n",
       " 'PSM1_psm_base_link',\n",
       " 'PSM1_outer_pitch_back_link',\n",
       " 'PSM2_outer_yaw_link',\n",
       " 'PSM3_tool_wrist_caudier_link_shaft',\n",
       " 'PSM1_base',\n",
       " 'PSM3_RCM',\n",
       " 'PSM3_psm_base_link',\n",
       " 'J1_PSM1',\n",
       " 'PSM3_outer_yaw_link',\n",
       " 'J1_PSM3',\n",
       " 'J1_PSM2']"
      ]
     },
     "execution_count": 6,
     "metadata": {},
     "output_type": "execute_result"
    }
   ],
   "source": [
    "tf_listener = tf.TransformListener()\n",
    "time.sleep(1)\n",
    "tf_listener.getFrameStrings()"
   ]
  },
  {
   "cell_type": "code",
   "execution_count": 7,
   "metadata": {},
   "outputs": [],
   "source": [
    "psm1 = None \n",
    "ecm = None\n",
    "suj = None\n",
    "debug_output = widgets.Output(layout={'border': '1px solid black'})\n",
    "\n",
    "with debug_output:\n",
    "    global psm1, psm2, psm3, ecm\n",
    "    psm1 = dvrk.psm('PSM1')\n",
    "    ecm = dvrk.ecm('ECM')\n",
    "    psm2 = dvrk.psm('PSM2')\n",
    "    psm3 = dvrk.psm('PSM3')\n",
    "    \n",
    "    psm1_suj = dvrk.suj('PSM1')\n",
    "    psm2_suj = dvrk.suj('PSM2')\n",
    "    psm3_suj = dvrk.suj('PSM3')\n",
    "    ecm_suj = dvrk.suj('ECM')\n",
    "    \n",
    "while ecm.get_current_position() == PyKDL.Frame() or ecm.get_desired_position() == PyKDL.Frame():\n",
    "    time.sleep(0.5)\n",
    "while psm1.get_current_position() == PyKDL.Frame() or psm1.get_desired_position() == PyKDL.Frame():\n",
    "    time.sleep(0.5)\n",
    "while psm2.get_current_position() == PyKDL.Frame() or psm2.get_desired_position() == PyKDL.Frame():\n",
    "    time.sleep(0.5)\n",
    "while psm3.get_current_position() == PyKDL.Frame() or psm3.get_desired_position() == PyKDL.Frame():\n",
    "    time.sleep(0.5)"
   ]
  },
  {
   "cell_type": "code",
   "execution_count": 8,
   "metadata": {},
   "outputs": [
    {
     "name": "stdout",
     "output_type": "stream",
     "text": [
      "[-0.         -1.29999995  1.89999998 -0.1        -0.80000001]\n",
      "[-0.          1.29999995 -1.79999995 -0.2        -0.80000001]\n",
      "[ 0.34999999  2.0999999  -1.79999995 -1.         -1.39999998]\n",
      "[ 0.51999998  0.69999999 -1.60000002  1.        ]\n",
      "----------------------------------\n",
      "[[ 3.33067e-16,          -1,           0;\n",
      "            1, 3.33067e-16,           0;\n",
      "            0,           0,           1]\n",
      "[     -1.9501,   -0.101602,      0.9088]]\n",
      "[[ 3.33067e-16,           1,           0;\n",
      "           -1, 3.33067e-16,          -0;\n",
      "           -0,           0,           1]\n",
      "[      1.9501,   -0.101598,      0.9088]]\n",
      "[[           1,           0,           0;\n",
      "            0,           1,           0;\n",
      "            0,           0,           1]\n",
      "[-1.50197e-06,      2.0009,      0.9163]]\n",
      "[[          -1, 6.27081e-06, 2.59709e-06;\n",
      " -6.27081e-06,   -0.707176,   -0.707037;\n",
      " -2.59709e-06,   -0.707037,    0.707176]\n",
      "[  3.6871e-06,    0.495318,    0.329477]]\n"
     ]
    }
   ],
   "source": [
    "from math import radians as r\n",
    "\n",
    "# 2 arm setup\n",
    "# sm1 = [0.5, -2.4958207607269287, 2.775073528289795, 0.13962633907794952, -0.5235987901687622]\n",
    "# sm2 = [0.5, 2.6005406379699707, -2.7227137088775635, -0.20943951606750488, -0.7155849933624268]\n",
    "# cm = [1.0, -1.2042771577835083, 2.687807083129883, -1.4311699867248535]\n",
    "\n",
    "# 3 arm setup\n",
    "#height, shoulder, elbow, wrist, rotate\n",
    "sm1 = [-0.0, -1.3, 1.9, -0.1, -0.8]  # right\n",
    "sm2 = [-0.0, 1.3, -1.8, -0.2, -0.8]  #  left\n",
    "sm3 = [0.35, 2.1, -1.8, -1.0, -1.4]  # middle\n",
    "cm = [0.52, 0.7, -1.6, 1.0, 0.0]\n",
    "time.sleep(1)\n",
    "\n",
    "psm1_suj.move_joint(np.asarray(sm1))\n",
    "psm2_suj.move_joint(np.asarray(sm2))\n",
    "psm3_suj.move_joint(np.asarray(sm3))\n",
    "ecm_suj.move_joint(np.asarray(cm))\n",
    "\n",
    "print(psm1_suj.get_current_joint_position())\n",
    "print(psm2_suj.get_current_joint_position())\n",
    "print(psm3_suj.get_current_joint_position())\n",
    "print(ecm_suj.get_current_joint_position())\n",
    "print('----------------------------------')\n",
    "print(psm1_suj.get_current_position())\n",
    "print(psm2_suj.get_current_position())\n",
    "print(psm3_suj.get_current_position())\n",
    "print(ecm_suj.get_current_position())"
   ]
  },
  {
   "cell_type": "code",
   "execution_count": 9,
   "metadata": {},
   "outputs": [
    {
     "data": {
      "text/plain": [
       "True"
      ]
     },
     "execution_count": 9,
     "metadata": {},
     "output_type": "execute_result"
    }
   ],
   "source": [
    "# 3 arm setup\n",
    "# ecm: rotate, up/down, zoom, rotate view\n",
    "HARDCODED_ECM_POS = np.array([-0.24, -0.35, 0.13, 0.0])\n",
    "PSM_HOME_POS = np.asarray([0.0, 0.2, 0.12, 0.0, 0.0, 0.0])\n",
    "\n",
    "# 2 arm setup\n",
    "# HARDCODED_ECM_POS = np.array([0.0, 0.0, 0.0, 0.0])\n",
    "# PSM_HOME_POS = np.asarray([0., 0., 0.12, 0., 0., 0.])\n",
    "time.sleep(1)\n",
    "\n",
    "psm1.move_joint(deepcopy(PSM_HOME_POS))\n",
    "psm1.close_jaw()\n",
    "time.sleep(1)\n",
    "\n",
    "psm2.move_joint(deepcopy(PSM_HOME_POS))\n",
    "psm2.close_jaw()\n",
    "time.sleep(1)\n",
    "\n",
    "psm3.move_joint(deepcopy(PSM_HOME_POS))\n",
    "psm3.close_jaw()\n",
    "time.sleep(1)\n",
    "\n",
    "ecm.move_joint(HARDCODED_ECM_POS)"
   ]
  },
  {
   "cell_type": "code",
   "execution_count": 10,
   "metadata": {},
   "outputs": [
    {
     "name": "stdout",
     "output_type": "stream",
     "text": [
      "([-0.9766262173652649, 0.04330826178193092, 1.2620103359222412], [0.595696210861206, 0.7585181593894958, 0.20646341145038605, 0.16483069956302643])\n",
      "[[   -0.111326,    0.969409,    0.218754;\n",
      "     0.971667,     0.15236,   -0.180692;\n",
      "    -0.208493,     0.19244,   -0.958904]\n",
      "[    -1.01435, -0.00147148,     1.23797]]\n",
      "----------------------------------\n",
      "[[    0.295464,     0.63096,     0.71735;\n",
      "    -0.905729,    0.423858, 0.000240719;\n",
      "    -0.303902,   -0.649795,    0.696713]\n",
      "[   -0.412121,   -0.885098,    -1.32706]]\n",
      "[[   -0.279526,    0.638178,   -0.717352;\n",
      "    -0.916109,   -0.400929, 0.000295088;\n",
      "    -0.287419,    0.657255,    0.696711]\n",
      "[     0.48597,   -0.900659,    -1.25237]]\n",
      "[[  0.00104398,    0.905138,    0.425117;\n",
      "    -0.999999,  0.00146826,-0.000670414;\n",
      "    -0.001231,   -0.425116,    0.905138]\n",
      "[   -0.410899,    -1.03675,    -1.17227]]\n"
     ]
    }
   ],
   "source": [
    "pick_and_place_utils = None\n",
    "from pick_and_place_utils import get_objects_and_img, tf_to_pykdl_frame, PSM_J1_TO_BASE_LINK_TF, World\n",
    "import image_geometry\n",
    "\n",
    "time.sleep(1)\n",
    "\n",
    "print(tf_listener.lookupTransform('simworld', 'Vision_sensor_left', rospy.Time()))\n",
    "\n",
    "# 2 arm cam to world tf hardcoded\n",
    "# rot = PyKDL.Rotation.Quaternion(-0.693885087966919, -0.6698706746101379, -0.18196725845336914, -0.191532701253891)\n",
    "# pos2 = PyKDL.Vector(-1.5822665691375732, 0.009578842669725418, 0.7953448295593262)\n",
    "# tf_cam_to_world = PyKDL.Frame(rot, pos2)\n",
    "\n",
    "# 3 arm cam to world tf hardcoded\n",
    "rot = PyKDL.Rotation.Quaternion(0.6510028839111328, 0.7454176545143127, 0.003940307069569826, 0.14329124987125397)\n",
    "pos2 = PyKDL.Vector(-1.0143520832061768, -0.0014714822173118591, 1.2379710674285889)\n",
    "tf_cam_to_world = PyKDL.Frame(rot, pos2)\n",
    "\n",
    "# tf_cam_to_world = tf_to_pykdl_frame(tf_listener.lookupTransform('simworld', 'Vision_sensor_left', rospy.Time()))\n",
    "\n",
    "# tf_world_to_psm1 = tf_to_pykdl_frame(tf_listener.lookupTransform('PSM1_base', 'simworld', rospy.Time()))\n",
    "# tf_world_to_psm2 = tf_to_pykdl_frame(tf_listener.lookupTransform('PSM2_base', 'simworld', rospy.Time()))\n",
    "# tf_world_to_psm3 = tf_to_pykdl_frame(tf_listener.lookupTransform('PSM3_base', 'simworld', rospy.Time()))\n",
    "\n",
    "tf_world_to_psm1_j1 = tf_to_pykdl_frame(tf_listener.lookupTransform('J1_PSM1', 'simworld', rospy.Time()))\n",
    "tf_world_to_psm1_base = PSM_J1_TO_BASE_LINK_TF * tf_world_to_psm1_j1\n",
    "\n",
    "tf_world_to_psm2_j1 = tf_to_pykdl_frame(tf_listener.lookupTransform('J1_PSM2', 'simworld', rospy.Time()))\n",
    "tf_world_to_psm2_base = PSM_J1_TO_BASE_LINK_TF * tf_world_to_psm2_j1\n",
    "\n",
    "tf_world_to_psm3_j1 = tf_to_pykdl_frame(tf_listener.lookupTransform('J1_PSM3', 'world', rospy.Time()))\n",
    "tf_world_to_psm3_base = PSM_J1_TO_BASE_LINK_TF * tf_world_to_psm3_j1\n",
    "\n",
    "print(tf_cam_to_world)\n",
    "print('----------------------------------')\n",
    "print(tf_world_to_psm1_base)\n",
    "print(tf_world_to_psm2_base)\n",
    "print(tf_world_to_psm3_base)"
   ]
  },
  {
   "cell_type": "code",
   "execution_count": 11,
   "metadata": {
    "scrolled": true
   },
   "outputs": [
    {
     "name": "stdout",
     "output_type": "stream",
     "text": [
      "[[[222 207 197]\n",
      "  [222 207 197]\n",
      "  [222 207 197]\n",
      "  ...\n",
      "  [163 153 145]\n",
      "  [166 155 147]\n",
      "  [161 150 143]]\n",
      "\n",
      " [[222 207 197]\n",
      "  [222 207 197]\n",
      "  [222 207 197]\n",
      "  ...\n",
      "  [163 153 145]\n",
      "  [163 153 145]\n",
      "  [159 148 141]]\n",
      "\n",
      " [[222 207 197]\n",
      "  [222 208 197]\n",
      "  [222 208 197]\n",
      "  ...\n",
      "  [164 153 145]\n",
      "  [166 155 147]\n",
      "  [161 151 143]]\n",
      "\n",
      " ...\n",
      "\n",
      " [[246 230 218]\n",
      "  [246 230 218]\n",
      "  [242 226 215]\n",
      "  ...\n",
      "  [182 170 161]\n",
      "  [181 170 161]\n",
      "  [181 169 161]]\n",
      "\n",
      " [[246 230 218]\n",
      "  [242 226 214]\n",
      "  [242 226 214]\n",
      "  ...\n",
      "  [182 170 161]\n",
      "  [181 170 161]\n",
      "  [181 169 161]]\n",
      "\n",
      " [[246 230 218]\n",
      "  [242 226 214]\n",
      "  [242 226 214]\n",
      "  ...\n",
      "  [182 170 161]\n",
      "  [181 170 161]\n",
      "  [181 169 161]]]\n",
      "<World objects: [<Object3d pos: [   -0.966848,   0.0178466,     1.04184] type: FeatureType.BALL color: 2>, <Object3d pos: [   -0.962945,  -0.0915846,     1.06335] type: FeatureType.BALL color: 0>, <Object3d pos: [    -0.99815,  -0.0427136,     1.04611] type: FeatureType.BALL color: 1>, <Object3d pos: [    -1.02278,  0.00534692,     1.03143] type: FeatureType.BALL color: 2>, <Object3d pos: [    -1.01176,  -0.0961661,     1.05307] type: FeatureType.BALL color: 0>, <Object3d pos: [    -1.04555,  -0.0489266,     1.03647] type: FeatureType.BALL color: 1>]\n",
      "bowl: <Object3d pos: [   -0.923148,  -0.0337538,     1.08412] type: FeatureType.BOWL color: 0>>\n"
     ]
    }
   ],
   "source": [
    "stereo_cam = image_geometry.StereoCameraModel()\n",
    "stereo_cam.fromCameraInfo(left_camera_info, right_camera_info)\n",
    "\n",
    "objects, frame = get_objects_and_img(left_image_msg, right_image_msg, stereo_cam, \n",
    "                                          cam_to_world_tf=tf_cam_to_world)\n",
    "world = World(objects)\n",
    "\n",
    "# print(world)\n",
    "\n",
    "# world.objects[0].pos = PyKDL.Vector(-1.50477, 0.0522653,    0.638678)\n",
    "# world.objects[1].pos = PyKDL.Vector(-1.52753,   -0.0570536,    0.64815)\n",
    "# world.objects[2].pos = PyKDL.Vector(-1.52713,   0.0725058,    0.645074)\n",
    "# world.objects[3].pos = PyKDL.Vector(-1.5363,   0.0332948,    0.640649)\n",
    "# world.objects[4].pos = PyKDL.Vector(-1.54048,   -0.0341018,    0.63990)\n",
    "# world.objects[5].pos = PyKDL.Vector(-1.55284,   -0.0612215,    0.649762)\n",
    "# world.bowl.pos = PyKDL.Vector(-1.46674, 0.00650513, 0.662357)\n",
    "\n",
    "print(frame)\n",
    "print(world)"
   ]
  },
  {
   "cell_type": "code",
   "execution_count": 12,
   "metadata": {},
   "outputs": [
    {
     "data": {
      "text/plain": [
       "7"
      ]
     },
     "execution_count": 12,
     "metadata": {},
     "output_type": "execute_result"
    }
   ],
   "source": [
    "len(objects)"
   ]
  },
  {
   "cell_type": "code",
   "execution_count": 13,
   "metadata": {
    "scrolled": true
   },
   "outputs": [
    {
     "name": "stdout",
     "output_type": "stream",
     "text": [
      "[   -0.923148,  -0.0337538,     1.08412]\n"
     ]
    },
    {
     "data": {
      "text/plain": [
       "<matplotlib.image.AxesImage at 0x7fa6307a8e50>"
      ]
     },
     "execution_count": 13,
     "metadata": {},
     "output_type": "execute_result"
    },
    {
     "data": {
      "image/png": "[encoded data removed]",
      "text/plain": [
       "<Figure size 720x360 with 1 Axes>"
      ]
     },
     "metadata": {
      "needs_background": "light"
     },
     "output_type": "display_data"
    }
   ],
   "source": [
    "# bowl object position\n",
    "bowl_pos_cam = objects[0].pos\n",
    "print(bowl_pos_cam)\n",
    "\n",
    "plt.figure(figsize=(10, 5))\n",
    "plt.imshow(frame)"
   ]
  },
  {
   "cell_type": "code",
   "execution_count": 14,
   "metadata": {},
   "outputs": [],
   "source": [
    "from pick_and_place_arm_sm import PickAndPlaceStateMachine, PickAndPlaceState\n",
    "from pick_and_place_three_arm_sm import PickAndPlaceThreeArmStateMachine\n",
    "from pick_and_place_hsm import PickAndPlaceHSM\n",
    "from pick_and_place_three_arm_hsm import PickAndPlaceThreeArmHSM\n",
    "import IPython\n",
    "from timeit import default_timer as timer\n",
    "from pick_and_place_utils import get_objects_for_psms\n",
    "from enum import Enum\n",
    "the_image = IPython.display.Image(frame)\n",
    "\n",
    "objects_to_pick = deepcopy(world.objects)\n",
    "\n",
    "# this vector is empirically determined\n",
    "#approach_vec = PyKDL.Vector(0.007, 0.0, -0.015)\n",
    "approach_vec = PyKDL.Vector(0.000, 0.00, -0.000)"
   ]
  },
  {
   "cell_type": "code",
   "execution_count": 15,
   "metadata": {},
   "outputs": [
    {
     "name": "stdout",
     "output_type": "stream",
     "text": [
      "Median object y-position: -0.0458201206042\n",
      "[INFO] [1622182448.671411]: PSM1 objects left: [<Object3d pos: [   -0.962945,  -0.0915846,     1.06335] type: FeatureType.BALL color: 0>, <Object3d pos: [    -1.01176,  -0.0961661,     1.05307] type: FeatureType.BALL color: 0>], PSM2 objects left: [<Object3d pos: [   -0.966848,   0.0178466,     1.04184] type: FeatureType.BALL color: 2>, <Object3d pos: [    -1.02278,  0.00534692,     1.03143] type: FeatureType.BALL color: 2>], PSM3 objects left: [<Object3d pos: [    -0.99815,  -0.0427136,     1.04611] type: FeatureType.BALL color: 1>, <Object3d pos: [    -1.04555,  -0.0489266,     1.03647] type: FeatureType.BALL color: 1>]\n",
      "[INFO] [1622182448.951695]: Assigning object <Object3d pos: [    -1.01176,  -0.0961661,     1.05307] type: FeatureType.BALL color: 0> to PSM1\n",
      "[INFO] [1622182449.081451]: Assigning object <Object3d pos: [   -0.966848,   0.0178466,     1.04184] type: FeatureType.BALL color: 2> to PSM2\n",
      "[INFO] [1622182449.194424]: Assigning object <Object3d pos: [    -0.99815,  -0.0427136,     1.04611] type: FeatureType.BALL color: 1> to PSM3\n",
      "[INFO] [1622182450.229934]: Running state PickAndPlaceParentState.PREPARING\n",
      "[INFO] [1622182451.218323]: Running state PickAndPlaceParentState.PREPARING\n",
      "[INFO] [1622182452.390187]: Running state PickAndPlaceParentState.PICKING\n",
      "[INFO] [1622182452.652985]: Done child sms: []\n",
      "[INFO] [1622182452.756482]: PSM1 objects left: [<Object3d pos: [   -0.962945,  -0.0915846,     1.06335] type: FeatureType.BALL color: 0>, <Object3d pos: [    -1.01176,  -0.0961661,     1.05307] type: FeatureType.BALL color: 0>], PSM2 objects left: [<Object3d pos: [   -0.966848,   0.0178466,     1.04184] type: FeatureType.BALL color: 2>, <Object3d pos: [    -1.02278,  0.00534692,     1.03143] type: FeatureType.BALL color: 2>], PSM3 objects left: [<Object3d pos: [    -0.99815,  -0.0427136,     1.04611] type: FeatureType.BALL color: 1>, <Object3d pos: [    -1.04555,  -0.0489266,     1.03647] type: FeatureType.BALL color: 1>]\n",
      "[INFO] [1622182452.885533]: Child sm states: [<PickAndPlaceState.APPROACH_OBJECT: (2,)>, <PickAndPlaceState.APPROACH_OBJECT: (2,)>, <PickAndPlaceState.APPROACH_OBJECT: (2,)>]\n",
      "[INFO] [1622182453.302831]: Running state PickAndPlaceParentState.PICKING\n",
      "[INFO] [1622182453.437790]: Done child sms: []\n",
      "[INFO] [1622182453.671451]: PSM1 objects left: [<Object3d pos: [   -0.962945,  -0.0915846,     1.06335] type: FeatureType.BALL color: 0>, <Object3d pos: [    -1.01176,  -0.0961661,     1.05307] type: FeatureType.BALL color: 0>], PSM2 objects left: [<Object3d pos: [   -0.966848,   0.0178466,     1.04184] type: FeatureType.BALL color: 2>, <Object3d pos: [    -1.02278,  0.00534692,     1.03143] type: FeatureType.BALL color: 2>], PSM3 objects left: [<Object3d pos: [    -0.99815,  -0.0427136,     1.04611] type: FeatureType.BALL color: 1>, <Object3d pos: [    -1.04555,  -0.0489266,     1.03647] type: FeatureType.BALL color: 1>]\n",
      "[INFO] [1622182453.829197]: Child sm states: [<PickAndPlaceState.APPROACH_OBJECT: (2,)>, <PickAndPlaceState.APPROACH_OBJECT: (2,)>, <PickAndPlaceState.APPROACH_OBJECT: (2,)>]\n",
      "[INFO] [1622182458.166675]: Running state PickAndPlaceParentState.PICKING\n",
      "[INFO] [1622182458.261038]: Done child sms: []\n",
      "[INFO] [1622182458.286664]: PSM1 objects left: [<Object3d pos: [   -0.962945,  -0.0915846,     1.06335] type: FeatureType.BALL color: 0>, <Object3d pos: [    -1.01307,  -0.0901884,     1.05165] type: FeatureType.BALL color: 0>], PSM2 objects left: [<Object3d pos: [   -0.966848,   0.0178466,     1.04184] type: FeatureType.BALL color: 2>, <Object3d pos: [    -1.02278,  0.00534692,     1.03143] type: FeatureType.BALL color: 2>], PSM3 objects left: [<Object3d pos: [    -0.99815,  -0.0427136,     1.04611] type: FeatureType.BALL color: 1>, <Object3d pos: [    -1.04555,  -0.0489266,     1.03647] type: FeatureType.BALL color: 1>]\n",
      "[INFO] [1622182458.371809]: Child sm states: [<PickAndPlaceState.GRAB_OBJECT: (3,)>, <PickAndPlaceState.GRAB_OBJECT: (3,)>, <PickAndPlaceState.GRAB_OBJECT: (3,)>]\n",
      "[INFO] [1622182459.380304]: Running state PickAndPlaceParentState.PICKING\n",
      "[INFO] [1622182459.497239]: Done child sms: []\n",
      "[INFO] [1622182459.570911]: PSM1 objects left: [<Object3d pos: [   -0.962945,  -0.0915846,     1.06335] type: FeatureType.BALL color: 0>, <Object3d pos: [    -1.01307,  -0.0901884,     1.05165] type: FeatureType.BALL color: 0>], PSM2 objects left: [<Object3d pos: [   -0.966848,   0.0178466,     1.04184] type: FeatureType.BALL color: 2>, <Object3d pos: [    -1.02278,  0.00534692,     1.03143] type: FeatureType.BALL color: 2>], PSM3 objects left: [<Object3d pos: [    -0.99815,  -0.0427136,     1.04611] type: FeatureType.BALL color: 1>, <Object3d pos: [    -1.04555,  -0.0489266,     1.03647] type: FeatureType.BALL color: 1>]\n",
      "[INFO] [1622182459.642697]: Child sm states: [<PickAndPlaceState.CLOSE_JAW: (4,)>, <PickAndPlaceState.CLOSE_JAW: (4,)>, <PickAndPlaceState.CLOSE_JAW: (4,)>]\n",
      "[INFO] [1622182460.716101]: Running state PickAndPlaceParentState.PICKING\n",
      "[INFO] [1622182460.909646]: Done child sms: []\n",
      "[INFO] [1622182461.031944]: PSM1 objects left: [<Object3d pos: [   -0.962945,  -0.0915846,     1.06335] type: FeatureType.BALL color: 0>, <Object3d pos: [    -1.01307,  -0.0901884,     1.05165] type: FeatureType.BALL color: 0>], PSM2 objects left: [<Object3d pos: [   -0.966848,   0.0178466,     1.04184] type: FeatureType.BALL color: 2>, <Object3d pos: [    -1.02278,  0.00534692,     1.03143] type: FeatureType.BALL color: 2>], PSM3 objects left: [<Object3d pos: [    -0.99815,  -0.0427136,     1.04611] type: FeatureType.BALL color: 1>, <Object3d pos: [    -1.04555,  -0.0489266,     1.03647] type: FeatureType.BALL color: 1>]\n",
      "[INFO] [1622182461.135947]: Child sm states: [<PickAndPlaceState.CLOSE_JAW: (4,)>, <PickAndPlaceState.CLOSE_JAW: (4,)>, <PickAndPlaceState.CLOSE_JAW: (4,)>]\n",
      "[INFO] [1622182462.033067]: Running state PickAndPlaceParentState.PICKING\n",
      "[INFO] [1622182462.481021]: Done child sms: []\n",
      "[INFO] [1622182462.620513]: PSM1 objects left: [<Object3d pos: [   -0.962945,  -0.0915846,     1.06335] type: FeatureType.BALL color: 0>, <Object3d pos: [    -1.01307,  -0.0901884,     1.05165] type: FeatureType.BALL color: 0>], PSM2 objects left: [<Object3d pos: [   -0.966848,   0.0178466,     1.04184] type: FeatureType.BALL color: 2>, <Object3d pos: [    -1.02278,  0.00534692,     1.03143] type: FeatureType.BALL color: 2>], PSM3 objects left: [<Object3d pos: [    -0.99815,  -0.0427136,     1.04611] type: FeatureType.BALL color: 1>, <Object3d pos: [    -1.04555,  -0.0489266,     1.03647] type: FeatureType.BALL color: 1>]\n",
      "[INFO] [1622182462.691987]: Child sm states: [<PickAndPlaceState.APPROACH_DEST: (5,)>, <PickAndPlaceState.APPROACH_DEST: (5,)>, <PickAndPlaceState.APPROACH_DEST: (5,)>]\n",
      "[INFO] [1622182462.833282]: Entering DROPPING state!\n",
      "[INFO] [1622182463.983566]: Running state PickAndPlaceParentState.DROPPING\n",
      "[INFO] [1622182464.885173]: Running state PickAndPlaceParentState.DROPPING\n",
      "[INFO] [1622182466.019869]: Running state PickAndPlaceParentState.DROPPING\n",
      "[INFO] [1622182466.883213]: Running state PickAndPlaceParentState.DROPPING\n",
      "[INFO] [1622182466.958567]: PSM1 is done dropping\n",
      "[INFO] [1622182466.995550]: PSM1 objects left: [<Object3d pos: [   -0.962945,  -0.0915846,     1.06335] type: FeatureType.BALL color: 0>, <Object3d pos: [    -1.01307,  -0.0901884,     1.05165] type: FeatureType.BALL color: 0>], PSM2 objects left: [<Object3d pos: [   -0.966848,   0.0178466,     1.04184] type: FeatureType.BALL color: 2>, <Object3d pos: [    -1.02278,  0.00534692,     1.03143] type: FeatureType.BALL color: 2>], PSM3 objects left: [<Object3d pos: [    -0.99815,  -0.0427136,     1.04611] type: FeatureType.BALL color: 1>, <Object3d pos: [    -1.04555,  -0.0489266,     1.03647] type: FeatureType.BALL color: 1>]\n",
      "[INFO] [1622182467.086498]: Assigning object <Object3d pos: [   -0.962945,  -0.0915846,     1.06335] type: FeatureType.BALL color: 0> to PSM1\n",
      "[INFO] [1622182467.137621]: [<PickAndPlaceState.APPROACH_OBJECT: (2,)>, <PickAndPlaceState.APPROACH_DEST: (5,)>, <PickAndPlaceState.APPROACH_DEST: (5,)>]\n",
      "[INFO] [1622182467.923599]: Running state PickAndPlaceParentState.PICKING\n",
      "[INFO] [1622182468.391579]: Done child sms: []\n",
      "[INFO] [1622182468.476481]: PSM1 objects left: [<Object3d pos: [   -0.962945,  -0.0915846,     1.06335] type: FeatureType.BALL color: 0>, <Object3d pos: [    -1.01307,  -0.0901884,     1.05165] type: FeatureType.BALL color: 0>], PSM2 objects left: [<Object3d pos: [   -0.966848,   0.0178466,     1.04184] type: FeatureType.BALL color: 2>, <Object3d pos: [    -1.02278,  0.00534692,     1.03143] type: FeatureType.BALL color: 2>], PSM3 objects left: [<Object3d pos: [   -0.995399,  -0.0398084,     1.04619] type: FeatureType.BALL color: 1>, <Object3d pos: [    -1.04555,  -0.0489266,     1.03647] type: FeatureType.BALL color: 1>]\n",
      "[INFO] [1622182468.528985]: Child sm states: [<PickAndPlaceState.APPROACH_OBJECT: (2,)>, <PickAndPlaceState.APPROACH_DEST: (5,)>, <PickAndPlaceState.APPROACH_DEST: (5,)>]\n"
     ]
    },
    {
     "name": "stdout",
     "output_type": "stream",
     "text": [
      "[INFO] [1622182468.678748]: Entering DROPPING state!\n",
      "[INFO] [1622182469.559161]: Running state PickAndPlaceParentState.DROPPING\n",
      "[INFO] [1622182470.513866]: Running state PickAndPlaceParentState.DROPPING\n",
      "[INFO] [1622182471.254492]: Running state PickAndPlaceParentState.DROPPING\n",
      "[INFO] [1622182471.394102]: PSM2 is done dropping\n",
      "Traceback (most recent call last):\n",
      "  File \"/home/iandre/anaconda3/envs/py2/lib/python2.7/site-packages/IPython/core/ultratb.py\", line 1132, in get_records\n",
      "    return _fixed_getinnerframes(etb, number_of_lines_of_context, tb_offset)\n",
      "  File \"/home/iandre/anaconda3/envs/py2/lib/python2.7/site-packages/IPython/core/ultratb.py\", line 313, in wrapped\n",
      "    return f(*args, **kwargs)\n",
      "  File \"/home/iandre/anaconda3/envs/py2/lib/python2.7/site-packages/IPython/core/ultratb.py\", line 358, in _fixed_getinnerframes\n",
      "    records = fix_frame_records_filenames(inspect.getinnerframes(etb, context))\n",
      "  File \"/home/iandre/anaconda3/envs/py2/lib/python2.7/inspect.py\", line 1058, in getinnerframes\n",
      "    framelist.append((tb.tb_frame,) + getframeinfo(tb, context))\n",
      "  File \"/home/iandre/anaconda3/envs/py2/lib/python2.7/inspect.py\", line 1018, in getframeinfo\n",
      "    filename = getsourcefile(frame) or getfile(frame)\n",
      "  File \"/home/iandre/anaconda3/envs/py2/lib/python2.7/inspect.py\", line 453, in getsourcefile\n",
      "    if hasattr(getmodule(object, filename), '__loader__'):\n",
      "  File \"/home/iandre/anaconda3/envs/py2/lib/python2.7/inspect.py\", line 499, in getmodule\n",
      "    os.path.realpath(f)] = module.__name__\n",
      "  File \"/home/iandre/anaconda3/envs/py2/lib/python2.7/posixpath.py\", line 382, in realpath\n",
      "    path, ok = _joinrealpath('', filename, {})\n",
      "  File \"/home/iandre/anaconda3/envs/py2/lib/python2.7/posixpath.py\", line 407, in _joinrealpath\n",
      "    if not islink(newpath):\n",
      "  File \"/home/iandre/anaconda3/envs/py2/lib/python2.7/posixpath.py\", line 135, in islink\n",
      "    st = os.lstat(path)\n",
      "KeyboardInterrupt\n"
     ]
    },
    {
     "ename": "IndexError",
     "evalue": "string index out of range",
     "output_type": "error",
     "traceback": [
      "\u001b[0;31m---------------------------------------------------------------------------\u001b[0m",
      "\u001b[0;31mIndexError\u001b[0m                                Traceback (most recent call last)",
      "\u001b[0;32m/home/iandre/anaconda3/envs/py2/lib/python2.7/site-packages/IPython/core/interactiveshell.pyc\u001b[0m in \u001b[0;36mrun_code\u001b[0;34m(self, code_obj, result)\u001b[0m\n\u001b[1;32m   2893\u001b[0m             \u001b[0;32mif\u001b[0m \u001b[0mresult\u001b[0m \u001b[0;32mis\u001b[0m \u001b[0;32mnot\u001b[0m \u001b[0mNone\u001b[0m\u001b[0;34m:\u001b[0m\u001b[0;34m\u001b[0m\u001b[0m\n\u001b[1;32m   2894\u001b[0m                 \u001b[0mresult\u001b[0m\u001b[0;34m.\u001b[0m\u001b[0merror_in_exec\u001b[0m \u001b[0;34m=\u001b[0m \u001b[0msys\u001b[0m\u001b[0;34m.\u001b[0m\u001b[0mexc_info\u001b[0m\u001b[0;34m(\u001b[0m\u001b[0;34m)\u001b[0m\u001b[0;34m[\u001b[0m\u001b[0;36m1\u001b[0m\u001b[0;34m]\u001b[0m\u001b[0;34m\u001b[0m\u001b[0m\n\u001b[0;32m-> 2895\u001b[0;31m             \u001b[0mself\u001b[0m\u001b[0;34m.\u001b[0m\u001b[0mshowtraceback\u001b[0m\u001b[0;34m(\u001b[0m\u001b[0;34m)\u001b[0m\u001b[0;34m\u001b[0m\u001b[0m\n\u001b[0m\u001b[1;32m   2896\u001b[0m         \u001b[0;32melse\u001b[0m\u001b[0;34m:\u001b[0m\u001b[0;34m\u001b[0m\u001b[0m\n\u001b[1;32m   2897\u001b[0m             \u001b[0moutflag\u001b[0m \u001b[0;34m=\u001b[0m \u001b[0;36m0\u001b[0m\u001b[0;34m\u001b[0m\u001b[0m\n",
      "\u001b[0;32m/home/iandre/anaconda3/envs/py2/lib/python2.7/site-packages/IPython/core/interactiveshell.pyc\u001b[0m in \u001b[0;36mshowtraceback\u001b[0;34m(self, exc_tuple, filename, tb_offset, exception_only)\u001b[0m\n\u001b[1;32m   1824\u001b[0m                     \u001b[0;32mexcept\u001b[0m \u001b[0mException\u001b[0m\u001b[0;34m:\u001b[0m\u001b[0;34m\u001b[0m\u001b[0m\n\u001b[1;32m   1825\u001b[0m                         stb = self.InteractiveTB.structured_traceback(etype,\n\u001b[0;32m-> 1826\u001b[0;31m                                             value, tb, tb_offset=tb_offset)\n\u001b[0m\u001b[1;32m   1827\u001b[0m \u001b[0;34m\u001b[0m\u001b[0m\n\u001b[1;32m   1828\u001b[0m                     \u001b[0mself\u001b[0m\u001b[0;34m.\u001b[0m\u001b[0m_showtraceback\u001b[0m\u001b[0;34m(\u001b[0m\u001b[0metype\u001b[0m\u001b[0;34m,\u001b[0m \u001b[0mvalue\u001b[0m\u001b[0;34m,\u001b[0m \u001b[0mstb\u001b[0m\u001b[0;34m)\u001b[0m\u001b[0;34m\u001b[0m\u001b[0m\n",
      "\u001b[0;32m/home/iandre/anaconda3/envs/py2/lib/python2.7/site-packages/IPython/core/ultratb.pyc\u001b[0m in \u001b[0;36mstructured_traceback\u001b[0;34m(self, etype, value, tb, tb_offset, number_of_lines_of_context)\u001b[0m\n\u001b[1;32m   1409\u001b[0m         \u001b[0mself\u001b[0m\u001b[0;34m.\u001b[0m\u001b[0mtb\u001b[0m \u001b[0;34m=\u001b[0m \u001b[0mtb\u001b[0m\u001b[0;34m\u001b[0m\u001b[0m\n\u001b[1;32m   1410\u001b[0m         return FormattedTB.structured_traceback(\n\u001b[0;32m-> 1411\u001b[0;31m             self, etype, value, tb, tb_offset, number_of_lines_of_context)\n\u001b[0m\u001b[1;32m   1412\u001b[0m \u001b[0;34m\u001b[0m\u001b[0m\n\u001b[1;32m   1413\u001b[0m \u001b[0;34m\u001b[0m\u001b[0m\n",
      "\u001b[0;32m/home/iandre/anaconda3/envs/py2/lib/python2.7/site-packages/IPython/core/ultratb.pyc\u001b[0m in \u001b[0;36mstructured_traceback\u001b[0;34m(self, etype, value, tb, tb_offset, number_of_lines_of_context)\u001b[0m\n\u001b[1;32m   1317\u001b[0m             \u001b[0;31m# Verbose modes need a full traceback\u001b[0m\u001b[0;34m\u001b[0m\u001b[0;34m\u001b[0m\u001b[0m\n\u001b[1;32m   1318\u001b[0m             return VerboseTB.structured_traceback(\n\u001b[0;32m-> 1319\u001b[0;31m                 \u001b[0mself\u001b[0m\u001b[0;34m,\u001b[0m \u001b[0metype\u001b[0m\u001b[0;34m,\u001b[0m \u001b[0mvalue\u001b[0m\u001b[0;34m,\u001b[0m \u001b[0mtb\u001b[0m\u001b[0;34m,\u001b[0m \u001b[0mtb_offset\u001b[0m\u001b[0;34m,\u001b[0m \u001b[0mnumber_of_lines_of_context\u001b[0m\u001b[0;34m\u001b[0m\u001b[0m\n\u001b[0m\u001b[1;32m   1320\u001b[0m             )\n\u001b[1;32m   1321\u001b[0m         \u001b[0;32melse\u001b[0m\u001b[0;34m:\u001b[0m\u001b[0;34m\u001b[0m\u001b[0m\n",
      "\u001b[0;32m/home/iandre/anaconda3/envs/py2/lib/python2.7/site-packages/IPython/core/ultratb.pyc\u001b[0m in \u001b[0;36mstructured_traceback\u001b[0;34m(self, etype, evalue, etb, tb_offset, number_of_lines_of_context)\u001b[0m\n\u001b[1;32m   1202\u001b[0m                 \u001b[0mstructured_traceback_parts\u001b[0m \u001b[0;34m+=\u001b[0m \u001b[0mformatted_exception\u001b[0m\u001b[0;34m\u001b[0m\u001b[0m\n\u001b[1;32m   1203\u001b[0m         \u001b[0;32melse\u001b[0m\u001b[0;34m:\u001b[0m\u001b[0;34m\u001b[0m\u001b[0m\n\u001b[0;32m-> 1204\u001b[0;31m             \u001b[0mstructured_traceback_parts\u001b[0m \u001b[0;34m+=\u001b[0m \u001b[0mformatted_exception\u001b[0m\u001b[0;34m[\u001b[0m\u001b[0;36m0\u001b[0m\u001b[0;34m]\u001b[0m\u001b[0;34m\u001b[0m\u001b[0m\n\u001b[0m\u001b[1;32m   1205\u001b[0m \u001b[0;34m\u001b[0m\u001b[0m\n\u001b[1;32m   1206\u001b[0m         \u001b[0;32mreturn\u001b[0m \u001b[0mstructured_traceback_parts\u001b[0m\u001b[0;34m\u001b[0m\u001b[0m\n",
      "\u001b[0;31mIndexError\u001b[0m: string index out of range"
     ]
    }
   ],
   "source": [
    "start_time = time.time()\n",
    "\n",
    "class TaskType(Enum):\n",
    "    OneArmFSM = 0\n",
    "    ThreeArmFSM = 1\n",
    "    ThreeIndependentFSM = 2\n",
    "    HCFSM = 3\n",
    "\n",
    "    \n",
    "# change this line to change which task is run\n",
    "task_type = TaskType.HCFSM\n",
    "\n",
    "\n",
    "start_time = time.time()\n",
    "if task_type == TaskType.OneArmFSM:\n",
    "    # ========================================================================================================== \n",
    "    # Runs 1 FSM\n",
    "    # ========================================================================================================== \n",
    "    sm = PickAndPlaceStateMachine(psm3, world, tf_world_to_psm3_base, None, approach_vec, closed_loop=True,\n",
    "                                  log_verbose=True)\n",
    "\n",
    "    while not (sm.is_done() or sm.state == PickAndPlaceState.HOME):\n",
    "        objects, frame = get_objects_and_img(left_image_msg, right_image_msg, stereo_cam, tf_cam_to_world)\n",
    "        world = World(objects)\n",
    "        sm.update_world(world)\n",
    "        sm.run_once()\n",
    "        \n",
    "elif task_type == TaskType.ThreeArmFSM:\n",
    "    # ==================================================Arm======================================================== \n",
    "    # This runs the single FSM that runs both arms sequentially\n",
    "    # ========================================================================================================== \n",
    "    sm = PickAndPlaceThreeArmStateMachine([psm1, psm2, psm3], [tf_world_to_psm1_base, tf_world_to_psm2_base,\n",
    "                                        tf_world_to_psm3_base], world, approach_vec, log_verbose=True)\n",
    "    \n",
    "    while not sm.is_done():\n",
    "        objects, frame = get_objects_and_img(left_image_msg, right_image_msg, stereo_cam, tf_cam_to_world)\n",
    "        world = World(objects)\n",
    "        sm.update_world(world)\n",
    "        sm.run_once()\n",
    "        \n",
    "elif task_type == TaskType.ThreeIndependentFSM:\n",
    "    # ========================================================================================================== \n",
    "    # Runs 3 independent FSMs, one for each arm\n",
    "    # ========================================================================================================== \n",
    "\n",
    "    objects, frame = get_objects_and_img(left_image_msg, right_image_msg, stereo_cam, tf_cam_to_world)\n",
    "    world = World(objects)\n",
    "    original_bowl = world.bowl\n",
    "\n",
    "    # assign objects to PSM1/PSM2 state machines\n",
    "    psm_object_dict = get_objects_for_psms(world.objects, [tf_world_to_psm1_base, tf_world_to_psm2_base, tf_world_to_psm3_base])\n",
    "\n",
    "\n",
    "    psm1_sm = PickAndPlaceStateMachine(psm1, world, tf_world_to_psm1_base, None, approach_vec,\n",
    "                                      closed_loop=True, pick_closest_to_base_frame=True)\n",
    "\n",
    "    psm2_sm = PickAndPlaceStateMachine(psm2, world, tf_world_to_psm2_base, None, approach_vec,\n",
    "                                      closed_loop=True, pick_closest_to_base_frame=True)\n",
    "    \n",
    "    psm3_sm = PickAndPlaceStateMachine(psm3, world, tf_world_to_psm3_base, None, approach_vec,\n",
    "                                      closed_loop=True, pick_closest_to_base_frame=True)\n",
    "\n",
    "    # because we exit out of the loop as soon as both arms are in the HOME state \n",
    "    # (i.e. they have began to move to the home position), the end time is exactly the first 'tick' after\n",
    "    # the last arm has opened its gripper past 60 degrees\n",
    "    while (psm1_sm.state != PickAndPlaceState.HOME) or (psm2_sm.state != PickAndPlaceState.HOME) or (psm3_sm.state != PickAndPlaceState.HOME):\n",
    "        objects, frame = get_objects_and_img(left_image_msg, right_image_msg, stereo_cam, tf_cam_to_world)\n",
    "        world = World(objects)\n",
    "        psm1_sm.update_world(world)\n",
    "        psm2_sm.update_world(world)\n",
    "        psm3_sm.update_world(world)\n",
    "        psm1_sm.run_once()\n",
    "        psm2_sm.run_once()\n",
    "        psm3_sm.run_once()\n",
    "        \n",
    "elif task_type == TaskType.HCFSM:\n",
    "    # ========================================================================================================== \n",
    "    # This runs the hierarchical concurrent state machine that runs both arms concurrently\n",
    "    # ========================================================================================================== \n",
    "    hsm = PickAndPlaceThreeArmHSM([psm1, psm2, psm3], [tf_world_to_psm1_base, tf_world_to_psm2_base, tf_world_to_psm3_base], world, approach_vec, \n",
    "                          log_verbose=True)\n",
    "\n",
    "    while not hsm.is_done():\n",
    "        objects, frame = get_objects_and_img(left_image_msg, right_image_msg, stereo_cam, tf_cam_to_world)\n",
    "        world = World(objects)\n",
    "        hsm.update_world(world)\n",
    "        hsm.run_once()"
   ]
  },
  {
   "cell_type": "code",
   "execution_count": null,
   "metadata": {},
   "outputs": [],
   "source": [
    "completion_time = time.time()\n",
    "print(\"Task took {} seconds\".format(completion_time - start_time))"
   ]
  },
  {
   "cell_type": "code",
   "execution_count": null,
   "metadata": {},
   "outputs": [],
   "source": [
    "time.sleep(1)\n",
    "psm1.move_joint(np.asarray([0., 0., 0.08, 0., 0., 0.]))\n",
    "psm2.move_joint(np.asarray([0., 0., 0.08, 0., 0., 0.]))"
   ]
  },
  {
   "cell_type": "code",
   "execution_count": null,
   "metadata": {},
   "outputs": [],
   "source": [
    "plt.figure(figsize=(10, 5))\n",
    "plt.imshow(frame)"
   ]
  },
  {
   "cell_type": "code",
   "execution_count": null,
   "metadata": {},
   "outputs": [],
   "source": [
    "time.time()"
   ]
  },
  {
   "cell_type": "code",
   "execution_count": null,
   "metadata": {},
   "outputs": [],
   "source": []
  },
  {
   "cell_type": "code",
   "execution_count": null,
   "metadata": {},
   "outputs": [],
   "source": []
  }
 ],
 "metadata": {
  "jupytext": {
   "text_representation": {
    "extension": ".py",
    "format_name": "light",
    "format_version": "1.5",
    "jupytext_version": "1.4.2"
   }
  },
  "kernelspec": {
   "display_name": "Python 2",
   "language": "python",
   "name": "python2"
  },
  "language_info": {
   "codemirror_mode": {
    "name": "ipython",
    "version": 2
   },
   "file_extension": ".py",
   "mimetype": "text/x-python",
   "name": "python",
   "nbconvert_exporter": "python",
   "pygments_lexer": "ipython2",
   "version": "2.7.18"
  }
 },
 "nbformat": 4,
 "nbformat_minor": 2
}
